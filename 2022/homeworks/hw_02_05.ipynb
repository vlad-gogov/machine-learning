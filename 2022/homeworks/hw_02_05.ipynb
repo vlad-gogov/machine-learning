{
 "cells": [
  {
   "cell_type": "markdown",
   "metadata": {},
   "source": [
    "# Удовлетворенность пассажиров авиакомпании\n",
    "## Описание задачи\n",
    "Данный набор данных содержит опрос об <b>удовлетворенности авиапассажиров</b>. Поставлена следующая <b>задача классификации</b>:\n",
    "Необходимо предсказать, к какому из <b>двух</b> уровней удовлетворенности авиакомпанией принадлежит пассажир:\n",
    "<ol>\n",
    "    <li><em>Удовлетворенность</em></li>\n",
    "    <li><em>Нейтральность или неудовлетворенность</em></li>\n",
    "</ol>\n",
    "\n",
    "***\n",
    "\n",
    "Ссылка на датасет: [Airline Passenger Satisfaction](https://www.kaggle.com/teejmahal20/airline-passenger-satisfaction?select=train.csv)\n",
    "\n",
    "***"
   ]
  },
  {
   "cell_type": "markdown",
   "metadata": {},
   "source": [
    "## Чтение данных"
   ]
  },
  {
   "cell_type": "code",
   "execution_count": 1,
   "metadata": {},
   "outputs": [],
   "source": [
    "import seaborn as sns           # Еще больше красивой графики для визуализации данных\n",
    "import pandas as pd             # Таблицы и временные ряды (dataframe, series)\n",
    "import numpy as np              # Массивы (матрицы, векторы, линейная алгебра)\n",
    "import matplotlib.pyplot as plt  # Научная графика\n",
    "import warnings\n",
    "warnings.filterwarnings('ignore')\n",
    "%matplotlib inline"
   ]
  },
  {
   "cell_type": "markdown",
   "metadata": {},
   "source": [
    "Загружаем данные"
   ]
  },
  {
   "cell_type": "code",
   "execution_count": 2,
   "metadata": {},
   "outputs": [],
   "source": [
    "path = \"../datasets/train.csv\"\n",
    "data = pd.read_csv(path)"
   ]
  },
  {
   "cell_type": "markdown",
   "metadata": {},
   "source": [
    "Количество строк и столбцов:"
   ]
  },
  {
   "cell_type": "code",
   "execution_count": 3,
   "metadata": {},
   "outputs": [
    {
     "data": {
      "text/plain": [
       "(103904, 25)"
      ]
     },
     "execution_count": 3,
     "metadata": {},
     "output_type": "execute_result"
    }
   ],
   "source": [
    "data.shape"
   ]
  },
  {
   "cell_type": "code",
   "execution_count": 4,
   "metadata": {},
   "outputs": [
    {
     "data": {
      "text/html": [
       "<div>\n",
       "<style scoped>\n",
       "    .dataframe tbody tr th:only-of-type {\n",
       "        vertical-align: middle;\n",
       "    }\n",
       "\n",
       "    .dataframe tbody tr th {\n",
       "        vertical-align: top;\n",
       "    }\n",
       "\n",
       "    .dataframe thead th {\n",
       "        text-align: right;\n",
       "    }\n",
       "</style>\n",
       "<table border=\"1\" class=\"dataframe\">\n",
       "  <thead>\n",
       "    <tr style=\"text-align: right;\">\n",
       "      <th></th>\n",
       "      <th>Unnamed: 0</th>\n",
       "      <th>id</th>\n",
       "      <th>Gender</th>\n",
       "      <th>Customer Type</th>\n",
       "      <th>Age</th>\n",
       "      <th>Type of Travel</th>\n",
       "      <th>Class</th>\n",
       "      <th>Flight Distance</th>\n",
       "      <th>Inflight wifi service</th>\n",
       "      <th>Departure/Arrival time convenient</th>\n",
       "      <th>...</th>\n",
       "      <th>Inflight entertainment</th>\n",
       "      <th>On-board service</th>\n",
       "      <th>Leg room service</th>\n",
       "      <th>Baggage handling</th>\n",
       "      <th>Checkin service</th>\n",
       "      <th>Inflight service</th>\n",
       "      <th>Cleanliness</th>\n",
       "      <th>Departure Delay in Minutes</th>\n",
       "      <th>Arrival Delay in Minutes</th>\n",
       "      <th>satisfaction</th>\n",
       "    </tr>\n",
       "  </thead>\n",
       "  <tbody>\n",
       "    <tr>\n",
       "      <th>0</th>\n",
       "      <td>0</td>\n",
       "      <td>70172</td>\n",
       "      <td>Male</td>\n",
       "      <td>Loyal Customer</td>\n",
       "      <td>13</td>\n",
       "      <td>Personal Travel</td>\n",
       "      <td>Eco Plus</td>\n",
       "      <td>460</td>\n",
       "      <td>3</td>\n",
       "      <td>4</td>\n",
       "      <td>...</td>\n",
       "      <td>5</td>\n",
       "      <td>4</td>\n",
       "      <td>3</td>\n",
       "      <td>4</td>\n",
       "      <td>4</td>\n",
       "      <td>5</td>\n",
       "      <td>5</td>\n",
       "      <td>25</td>\n",
       "      <td>18.0</td>\n",
       "      <td>neutral or dissatisfied</td>\n",
       "    </tr>\n",
       "    <tr>\n",
       "      <th>1</th>\n",
       "      <td>1</td>\n",
       "      <td>5047</td>\n",
       "      <td>Male</td>\n",
       "      <td>disloyal Customer</td>\n",
       "      <td>25</td>\n",
       "      <td>Business travel</td>\n",
       "      <td>Business</td>\n",
       "      <td>235</td>\n",
       "      <td>3</td>\n",
       "      <td>2</td>\n",
       "      <td>...</td>\n",
       "      <td>1</td>\n",
       "      <td>1</td>\n",
       "      <td>5</td>\n",
       "      <td>3</td>\n",
       "      <td>1</td>\n",
       "      <td>4</td>\n",
       "      <td>1</td>\n",
       "      <td>1</td>\n",
       "      <td>6.0</td>\n",
       "      <td>neutral or dissatisfied</td>\n",
       "    </tr>\n",
       "    <tr>\n",
       "      <th>2</th>\n",
       "      <td>2</td>\n",
       "      <td>110028</td>\n",
       "      <td>Female</td>\n",
       "      <td>Loyal Customer</td>\n",
       "      <td>26</td>\n",
       "      <td>Business travel</td>\n",
       "      <td>Business</td>\n",
       "      <td>1142</td>\n",
       "      <td>2</td>\n",
       "      <td>2</td>\n",
       "      <td>...</td>\n",
       "      <td>5</td>\n",
       "      <td>4</td>\n",
       "      <td>3</td>\n",
       "      <td>4</td>\n",
       "      <td>4</td>\n",
       "      <td>4</td>\n",
       "      <td>5</td>\n",
       "      <td>0</td>\n",
       "      <td>0.0</td>\n",
       "      <td>satisfied</td>\n",
       "    </tr>\n",
       "    <tr>\n",
       "      <th>3</th>\n",
       "      <td>3</td>\n",
       "      <td>24026</td>\n",
       "      <td>Female</td>\n",
       "      <td>Loyal Customer</td>\n",
       "      <td>25</td>\n",
       "      <td>Business travel</td>\n",
       "      <td>Business</td>\n",
       "      <td>562</td>\n",
       "      <td>2</td>\n",
       "      <td>5</td>\n",
       "      <td>...</td>\n",
       "      <td>2</td>\n",
       "      <td>2</td>\n",
       "      <td>5</td>\n",
       "      <td>3</td>\n",
       "      <td>1</td>\n",
       "      <td>4</td>\n",
       "      <td>2</td>\n",
       "      <td>11</td>\n",
       "      <td>9.0</td>\n",
       "      <td>neutral or dissatisfied</td>\n",
       "    </tr>\n",
       "    <tr>\n",
       "      <th>4</th>\n",
       "      <td>4</td>\n",
       "      <td>119299</td>\n",
       "      <td>Male</td>\n",
       "      <td>Loyal Customer</td>\n",
       "      <td>61</td>\n",
       "      <td>Business travel</td>\n",
       "      <td>Business</td>\n",
       "      <td>214</td>\n",
       "      <td>3</td>\n",
       "      <td>3</td>\n",
       "      <td>...</td>\n",
       "      <td>3</td>\n",
       "      <td>3</td>\n",
       "      <td>4</td>\n",
       "      <td>4</td>\n",
       "      <td>3</td>\n",
       "      <td>3</td>\n",
       "      <td>3</td>\n",
       "      <td>0</td>\n",
       "      <td>0.0</td>\n",
       "      <td>satisfied</td>\n",
       "    </tr>\n",
       "  </tbody>\n",
       "</table>\n",
       "<p>5 rows × 25 columns</p>\n",
       "</div>"
      ],
      "text/plain": [
       "   Unnamed: 0      id  Gender      Customer Type  Age   Type of Travel  \\\n",
       "0           0   70172    Male     Loyal Customer   13  Personal Travel   \n",
       "1           1    5047    Male  disloyal Customer   25  Business travel   \n",
       "2           2  110028  Female     Loyal Customer   26  Business travel   \n",
       "3           3   24026  Female     Loyal Customer   25  Business travel   \n",
       "4           4  119299    Male     Loyal Customer   61  Business travel   \n",
       "\n",
       "      Class  Flight Distance  Inflight wifi service  \\\n",
       "0  Eco Plus              460                      3   \n",
       "1  Business              235                      3   \n",
       "2  Business             1142                      2   \n",
       "3  Business              562                      2   \n",
       "4  Business              214                      3   \n",
       "\n",
       "   Departure/Arrival time convenient  ...  Inflight entertainment  \\\n",
       "0                                  4  ...                       5   \n",
       "1                                  2  ...                       1   \n",
       "2                                  2  ...                       5   \n",
       "3                                  5  ...                       2   \n",
       "4                                  3  ...                       3   \n",
       "\n",
       "   On-board service  Leg room service  Baggage handling  Checkin service  \\\n",
       "0                 4                 3                 4                4   \n",
       "1                 1                 5                 3                1   \n",
       "2                 4                 3                 4                4   \n",
       "3                 2                 5                 3                1   \n",
       "4                 3                 4                 4                3   \n",
       "\n",
       "   Inflight service  Cleanliness  Departure Delay in Minutes  \\\n",
       "0                 5            5                          25   \n",
       "1                 4            1                           1   \n",
       "2                 4            5                           0   \n",
       "3                 4            2                          11   \n",
       "4                 3            3                           0   \n",
       "\n",
       "   Arrival Delay in Minutes             satisfaction  \n",
       "0                      18.0  neutral or dissatisfied  \n",
       "1                       6.0  neutral or dissatisfied  \n",
       "2                       0.0                satisfied  \n",
       "3                       9.0  neutral or dissatisfied  \n",
       "4                       0.0                satisfied  \n",
       "\n",
       "[5 rows x 25 columns]"
      ]
     },
     "execution_count": 4,
     "metadata": {},
     "output_type": "execute_result"
    }
   ],
   "source": [
    "data.head()"
   ]
  },
  {
   "cell_type": "markdown",
   "metadata": {},
   "source": [
    "Каждая строка соответсвует одному пассажиру.\n",
    "Столбцы (признаки) - информация о пассажирах авиакомпании:\n",
    "\n",
    "<ol>\n",
    "    <li><b>Пол</b>: мужской или женский</li>\n",
    "    <li><b>Тип пассажира</b>: постоянный или непостоянный клиент авиакомпании</li>\n",
    "    <li><b>Возраст</b>: фактический возраст пассажира</li>\n",
    "    <li><b>Тип путешествия</b>: цель полета поссажира (личное путешествие или деловое)</li>\n",
    "    <li><b>Класс обслуживания</b>: бизнес, эконом, эконом плюс</li>\n",
    "    <li><b>Расстояние полета</b></li>\n",
    "    <li><b>Услуга Wi-Fi на борту</b>: уровень удовлетворенности услугой Wi-Fi на борту (0: без оценки; 1-5)</li>\n",
    "    <li><b>Удобное время отправления/прибытия</b>: уровень удовлетворенности временем отправления/прибытия (0: без оценки; 1-5)</li>\n",
    "    <li><b>Легкость онлайн-бронирования</b>: уровень удовлетворенности онлайн-бронированием (0: без оценки; 1-5)</li>\n",
    "    <li><b>Расположение выхода</b>: уровень удовлетворенности местоположением выхода (0: без оценки; 1-5)</li>\n",
    "    <li><b>Еда и напитки</b>: уровень удовлетворенности едой и напитками (0: без оценки; 1-5)</li>\n",
    "    <li><b>Онлайн-посадка</b>: уровень удовлетворенности онлайн-посадкой (0: без оценки; 1-5)</li>\n",
    "    <li><b>Комфортность пассажирского кресла</b>: уровень удовлетворенности креслом (0: без оценки; 1-5)</li>\n",
    "    <li><b>Развлечения в полете</b>: уровень удовлетворенности развлечениями в полете (0: без оценки; 1-5)</li>\n",
    "    <li><b>Бортовое обслуживание</b>: уровень удовлетворенности бортовым обслуживанием (0: без оценки; 1-5)</li>\n",
    "    <li><b>Свободное пространство для ног</b>: уровень удовлетворенности свободным пространством для ног (0: без оценки; 1-5)</li>\n",
    "    <li><b>Транспортировка багажа</b>: уровень удовлетворенности транспортировкой багажа (0: без оценки; 1-5)</li>\n",
    "    <li><b>Служба регистрации</b>: уровень удовлетворенности службой регистрации (0: без оценки; 1-5)</li>\n",
    "    <li><b>Обслуживание в полете</b>: уровень удовлетворенности обслуживанием в полете (0: без оценки; 1-5)</li>\n",
    "    <li><b>Чистота</b>: уровень удовлетворенности чистотой (0: без оценки; 1-5)</li>\n",
    "    <li><b>Задержка отправления в минутах</b>: задержка в минутах при отправлении</li>\n",
    "    <li><b>Задержка прибытия в минутах</b>: задержка в минутах при прибытии</li>\n",
    "</ol>\n"
   ]
  },
  {
   "cell_type": "markdown",
   "metadata": {},
   "source": [
    "Посмотрим на первые и последние строки набора данных:"
   ]
  },
  {
   "cell_type": "code",
   "execution_count": 5,
   "metadata": {},
   "outputs": [
    {
     "data": {
      "text/html": [
       "<div>\n",
       "<style scoped>\n",
       "    .dataframe tbody tr th:only-of-type {\n",
       "        vertical-align: middle;\n",
       "    }\n",
       "\n",
       "    .dataframe tbody tr th {\n",
       "        vertical-align: top;\n",
       "    }\n",
       "\n",
       "    .dataframe thead th {\n",
       "        text-align: right;\n",
       "    }\n",
       "</style>\n",
       "<table border=\"1\" class=\"dataframe\">\n",
       "  <thead>\n",
       "    <tr style=\"text-align: right;\">\n",
       "      <th></th>\n",
       "      <th>Unnamed: 0</th>\n",
       "      <th>id</th>\n",
       "      <th>Gender</th>\n",
       "      <th>Customer Type</th>\n",
       "      <th>Age</th>\n",
       "      <th>Type of Travel</th>\n",
       "      <th>Class</th>\n",
       "      <th>Flight Distance</th>\n",
       "      <th>Inflight wifi service</th>\n",
       "      <th>Departure/Arrival time convenient</th>\n",
       "      <th>...</th>\n",
       "      <th>Inflight entertainment</th>\n",
       "      <th>On-board service</th>\n",
       "      <th>Leg room service</th>\n",
       "      <th>Baggage handling</th>\n",
       "      <th>Checkin service</th>\n",
       "      <th>Inflight service</th>\n",
       "      <th>Cleanliness</th>\n",
       "      <th>Departure Delay in Minutes</th>\n",
       "      <th>Arrival Delay in Minutes</th>\n",
       "      <th>satisfaction</th>\n",
       "    </tr>\n",
       "  </thead>\n",
       "  <tbody>\n",
       "    <tr>\n",
       "      <th>0</th>\n",
       "      <td>0</td>\n",
       "      <td>70172</td>\n",
       "      <td>Male</td>\n",
       "      <td>Loyal Customer</td>\n",
       "      <td>13</td>\n",
       "      <td>Personal Travel</td>\n",
       "      <td>Eco Plus</td>\n",
       "      <td>460</td>\n",
       "      <td>3</td>\n",
       "      <td>4</td>\n",
       "      <td>...</td>\n",
       "      <td>5</td>\n",
       "      <td>4</td>\n",
       "      <td>3</td>\n",
       "      <td>4</td>\n",
       "      <td>4</td>\n",
       "      <td>5</td>\n",
       "      <td>5</td>\n",
       "      <td>25</td>\n",
       "      <td>18.0</td>\n",
       "      <td>neutral or dissatisfied</td>\n",
       "    </tr>\n",
       "    <tr>\n",
       "      <th>1</th>\n",
       "      <td>1</td>\n",
       "      <td>5047</td>\n",
       "      <td>Male</td>\n",
       "      <td>disloyal Customer</td>\n",
       "      <td>25</td>\n",
       "      <td>Business travel</td>\n",
       "      <td>Business</td>\n",
       "      <td>235</td>\n",
       "      <td>3</td>\n",
       "      <td>2</td>\n",
       "      <td>...</td>\n",
       "      <td>1</td>\n",
       "      <td>1</td>\n",
       "      <td>5</td>\n",
       "      <td>3</td>\n",
       "      <td>1</td>\n",
       "      <td>4</td>\n",
       "      <td>1</td>\n",
       "      <td>1</td>\n",
       "      <td>6.0</td>\n",
       "      <td>neutral or dissatisfied</td>\n",
       "    </tr>\n",
       "    <tr>\n",
       "      <th>2</th>\n",
       "      <td>2</td>\n",
       "      <td>110028</td>\n",
       "      <td>Female</td>\n",
       "      <td>Loyal Customer</td>\n",
       "      <td>26</td>\n",
       "      <td>Business travel</td>\n",
       "      <td>Business</td>\n",
       "      <td>1142</td>\n",
       "      <td>2</td>\n",
       "      <td>2</td>\n",
       "      <td>...</td>\n",
       "      <td>5</td>\n",
       "      <td>4</td>\n",
       "      <td>3</td>\n",
       "      <td>4</td>\n",
       "      <td>4</td>\n",
       "      <td>4</td>\n",
       "      <td>5</td>\n",
       "      <td>0</td>\n",
       "      <td>0.0</td>\n",
       "      <td>satisfied</td>\n",
       "    </tr>\n",
       "    <tr>\n",
       "      <th>3</th>\n",
       "      <td>3</td>\n",
       "      <td>24026</td>\n",
       "      <td>Female</td>\n",
       "      <td>Loyal Customer</td>\n",
       "      <td>25</td>\n",
       "      <td>Business travel</td>\n",
       "      <td>Business</td>\n",
       "      <td>562</td>\n",
       "      <td>2</td>\n",
       "      <td>5</td>\n",
       "      <td>...</td>\n",
       "      <td>2</td>\n",
       "      <td>2</td>\n",
       "      <td>5</td>\n",
       "      <td>3</td>\n",
       "      <td>1</td>\n",
       "      <td>4</td>\n",
       "      <td>2</td>\n",
       "      <td>11</td>\n",
       "      <td>9.0</td>\n",
       "      <td>neutral or dissatisfied</td>\n",
       "    </tr>\n",
       "    <tr>\n",
       "      <th>4</th>\n",
       "      <td>4</td>\n",
       "      <td>119299</td>\n",
       "      <td>Male</td>\n",
       "      <td>Loyal Customer</td>\n",
       "      <td>61</td>\n",
       "      <td>Business travel</td>\n",
       "      <td>Business</td>\n",
       "      <td>214</td>\n",
       "      <td>3</td>\n",
       "      <td>3</td>\n",
       "      <td>...</td>\n",
       "      <td>3</td>\n",
       "      <td>3</td>\n",
       "      <td>4</td>\n",
       "      <td>4</td>\n",
       "      <td>3</td>\n",
       "      <td>3</td>\n",
       "      <td>3</td>\n",
       "      <td>0</td>\n",
       "      <td>0.0</td>\n",
       "      <td>satisfied</td>\n",
       "    </tr>\n",
       "  </tbody>\n",
       "</table>\n",
       "<p>5 rows × 25 columns</p>\n",
       "</div>"
      ],
      "text/plain": [
       "   Unnamed: 0      id  Gender      Customer Type  Age   Type of Travel  \\\n",
       "0           0   70172    Male     Loyal Customer   13  Personal Travel   \n",
       "1           1    5047    Male  disloyal Customer   25  Business travel   \n",
       "2           2  110028  Female     Loyal Customer   26  Business travel   \n",
       "3           3   24026  Female     Loyal Customer   25  Business travel   \n",
       "4           4  119299    Male     Loyal Customer   61  Business travel   \n",
       "\n",
       "      Class  Flight Distance  Inflight wifi service  \\\n",
       "0  Eco Plus              460                      3   \n",
       "1  Business              235                      3   \n",
       "2  Business             1142                      2   \n",
       "3  Business              562                      2   \n",
       "4  Business              214                      3   \n",
       "\n",
       "   Departure/Arrival time convenient  ...  Inflight entertainment  \\\n",
       "0                                  4  ...                       5   \n",
       "1                                  2  ...                       1   \n",
       "2                                  2  ...                       5   \n",
       "3                                  5  ...                       2   \n",
       "4                                  3  ...                       3   \n",
       "\n",
       "   On-board service  Leg room service  Baggage handling  Checkin service  \\\n",
       "0                 4                 3                 4                4   \n",
       "1                 1                 5                 3                1   \n",
       "2                 4                 3                 4                4   \n",
       "3                 2                 5                 3                1   \n",
       "4                 3                 4                 4                3   \n",
       "\n",
       "   Inflight service  Cleanliness  Departure Delay in Minutes  \\\n",
       "0                 5            5                          25   \n",
       "1                 4            1                           1   \n",
       "2                 4            5                           0   \n",
       "3                 4            2                          11   \n",
       "4                 3            3                           0   \n",
       "\n",
       "   Arrival Delay in Minutes             satisfaction  \n",
       "0                      18.0  neutral or dissatisfied  \n",
       "1                       6.0  neutral or dissatisfied  \n",
       "2                       0.0                satisfied  \n",
       "3                       9.0  neutral or dissatisfied  \n",
       "4                       0.0                satisfied  \n",
       "\n",
       "[5 rows x 25 columns]"
      ]
     },
     "execution_count": 5,
     "metadata": {},
     "output_type": "execute_result"
    }
   ],
   "source": [
    "data.head()"
   ]
  },
  {
   "cell_type": "code",
   "execution_count": 6,
   "metadata": {},
   "outputs": [
    {
     "data": {
      "text/html": [
       "<div>\n",
       "<style scoped>\n",
       "    .dataframe tbody tr th:only-of-type {\n",
       "        vertical-align: middle;\n",
       "    }\n",
       "\n",
       "    .dataframe tbody tr th {\n",
       "        vertical-align: top;\n",
       "    }\n",
       "\n",
       "    .dataframe thead th {\n",
       "        text-align: right;\n",
       "    }\n",
       "</style>\n",
       "<table border=\"1\" class=\"dataframe\">\n",
       "  <thead>\n",
       "    <tr style=\"text-align: right;\">\n",
       "      <th></th>\n",
       "      <th>Unnamed: 0</th>\n",
       "      <th>id</th>\n",
       "      <th>Gender</th>\n",
       "      <th>Customer Type</th>\n",
       "      <th>Age</th>\n",
       "      <th>Type of Travel</th>\n",
       "      <th>Class</th>\n",
       "      <th>Flight Distance</th>\n",
       "      <th>Inflight wifi service</th>\n",
       "      <th>Departure/Arrival time convenient</th>\n",
       "      <th>...</th>\n",
       "      <th>Inflight entertainment</th>\n",
       "      <th>On-board service</th>\n",
       "      <th>Leg room service</th>\n",
       "      <th>Baggage handling</th>\n",
       "      <th>Checkin service</th>\n",
       "      <th>Inflight service</th>\n",
       "      <th>Cleanliness</th>\n",
       "      <th>Departure Delay in Minutes</th>\n",
       "      <th>Arrival Delay in Minutes</th>\n",
       "      <th>satisfaction</th>\n",
       "    </tr>\n",
       "  </thead>\n",
       "  <tbody>\n",
       "    <tr>\n",
       "      <th>103899</th>\n",
       "      <td>103899</td>\n",
       "      <td>94171</td>\n",
       "      <td>Female</td>\n",
       "      <td>disloyal Customer</td>\n",
       "      <td>23</td>\n",
       "      <td>Business travel</td>\n",
       "      <td>Eco</td>\n",
       "      <td>192</td>\n",
       "      <td>2</td>\n",
       "      <td>1</td>\n",
       "      <td>...</td>\n",
       "      <td>2</td>\n",
       "      <td>3</td>\n",
       "      <td>1</td>\n",
       "      <td>4</td>\n",
       "      <td>2</td>\n",
       "      <td>3</td>\n",
       "      <td>2</td>\n",
       "      <td>3</td>\n",
       "      <td>0.0</td>\n",
       "      <td>neutral or dissatisfied</td>\n",
       "    </tr>\n",
       "    <tr>\n",
       "      <th>103900</th>\n",
       "      <td>103900</td>\n",
       "      <td>73097</td>\n",
       "      <td>Male</td>\n",
       "      <td>Loyal Customer</td>\n",
       "      <td>49</td>\n",
       "      <td>Business travel</td>\n",
       "      <td>Business</td>\n",
       "      <td>2347</td>\n",
       "      <td>4</td>\n",
       "      <td>4</td>\n",
       "      <td>...</td>\n",
       "      <td>5</td>\n",
       "      <td>5</td>\n",
       "      <td>5</td>\n",
       "      <td>5</td>\n",
       "      <td>5</td>\n",
       "      <td>5</td>\n",
       "      <td>4</td>\n",
       "      <td>0</td>\n",
       "      <td>0.0</td>\n",
       "      <td>satisfied</td>\n",
       "    </tr>\n",
       "    <tr>\n",
       "      <th>103901</th>\n",
       "      <td>103901</td>\n",
       "      <td>68825</td>\n",
       "      <td>Male</td>\n",
       "      <td>disloyal Customer</td>\n",
       "      <td>30</td>\n",
       "      <td>Business travel</td>\n",
       "      <td>Business</td>\n",
       "      <td>1995</td>\n",
       "      <td>1</td>\n",
       "      <td>1</td>\n",
       "      <td>...</td>\n",
       "      <td>4</td>\n",
       "      <td>3</td>\n",
       "      <td>2</td>\n",
       "      <td>4</td>\n",
       "      <td>5</td>\n",
       "      <td>5</td>\n",
       "      <td>4</td>\n",
       "      <td>7</td>\n",
       "      <td>14.0</td>\n",
       "      <td>neutral or dissatisfied</td>\n",
       "    </tr>\n",
       "    <tr>\n",
       "      <th>103902</th>\n",
       "      <td>103902</td>\n",
       "      <td>54173</td>\n",
       "      <td>Female</td>\n",
       "      <td>disloyal Customer</td>\n",
       "      <td>22</td>\n",
       "      <td>Business travel</td>\n",
       "      <td>Eco</td>\n",
       "      <td>1000</td>\n",
       "      <td>1</td>\n",
       "      <td>1</td>\n",
       "      <td>...</td>\n",
       "      <td>1</td>\n",
       "      <td>4</td>\n",
       "      <td>5</td>\n",
       "      <td>1</td>\n",
       "      <td>5</td>\n",
       "      <td>4</td>\n",
       "      <td>1</td>\n",
       "      <td>0</td>\n",
       "      <td>0.0</td>\n",
       "      <td>neutral or dissatisfied</td>\n",
       "    </tr>\n",
       "    <tr>\n",
       "      <th>103903</th>\n",
       "      <td>103903</td>\n",
       "      <td>62567</td>\n",
       "      <td>Male</td>\n",
       "      <td>Loyal Customer</td>\n",
       "      <td>27</td>\n",
       "      <td>Business travel</td>\n",
       "      <td>Business</td>\n",
       "      <td>1723</td>\n",
       "      <td>1</td>\n",
       "      <td>3</td>\n",
       "      <td>...</td>\n",
       "      <td>1</td>\n",
       "      <td>1</td>\n",
       "      <td>1</td>\n",
       "      <td>4</td>\n",
       "      <td>4</td>\n",
       "      <td>3</td>\n",
       "      <td>1</td>\n",
       "      <td>0</td>\n",
       "      <td>0.0</td>\n",
       "      <td>neutral or dissatisfied</td>\n",
       "    </tr>\n",
       "  </tbody>\n",
       "</table>\n",
       "<p>5 rows × 25 columns</p>\n",
       "</div>"
      ],
      "text/plain": [
       "        Unnamed: 0     id  Gender      Customer Type  Age   Type of Travel  \\\n",
       "103899      103899  94171  Female  disloyal Customer   23  Business travel   \n",
       "103900      103900  73097    Male     Loyal Customer   49  Business travel   \n",
       "103901      103901  68825    Male  disloyal Customer   30  Business travel   \n",
       "103902      103902  54173  Female  disloyal Customer   22  Business travel   \n",
       "103903      103903  62567    Male     Loyal Customer   27  Business travel   \n",
       "\n",
       "           Class  Flight Distance  Inflight wifi service  \\\n",
       "103899       Eco              192                      2   \n",
       "103900  Business             2347                      4   \n",
       "103901  Business             1995                      1   \n",
       "103902       Eco             1000                      1   \n",
       "103903  Business             1723                      1   \n",
       "\n",
       "        Departure/Arrival time convenient  ...  Inflight entertainment  \\\n",
       "103899                                  1  ...                       2   \n",
       "103900                                  4  ...                       5   \n",
       "103901                                  1  ...                       4   \n",
       "103902                                  1  ...                       1   \n",
       "103903                                  3  ...                       1   \n",
       "\n",
       "        On-board service  Leg room service  Baggage handling  Checkin service  \\\n",
       "103899                 3                 1                 4                2   \n",
       "103900                 5                 5                 5                5   \n",
       "103901                 3                 2                 4                5   \n",
       "103902                 4                 5                 1                5   \n",
       "103903                 1                 1                 4                4   \n",
       "\n",
       "        Inflight service  Cleanliness  Departure Delay in Minutes  \\\n",
       "103899                 3            2                           3   \n",
       "103900                 5            4                           0   \n",
       "103901                 5            4                           7   \n",
       "103902                 4            1                           0   \n",
       "103903                 3            1                           0   \n",
       "\n",
       "        Arrival Delay in Minutes             satisfaction  \n",
       "103899                       0.0  neutral or dissatisfied  \n",
       "103900                       0.0                satisfied  \n",
       "103901                      14.0  neutral or dissatisfied  \n",
       "103902                       0.0  neutral or dissatisfied  \n",
       "103903                       0.0  neutral or dissatisfied  \n",
       "\n",
       "[5 rows x 25 columns]"
      ]
     },
     "execution_count": 6,
     "metadata": {},
     "output_type": "execute_result"
    }
   ],
   "source": [
    "data.tail()"
   ]
  },
  {
   "cell_type": "markdown",
   "metadata": {},
   "source": [
    "Целевой признак `satisfaction` более менее сбалансирован: "
   ]
  },
  {
   "cell_type": "code",
   "execution_count": 7,
   "metadata": {},
   "outputs": [
    {
     "data": {
      "text/plain": [
       "neutral or dissatisfied    58879\n",
       "satisfied                  45025\n",
       "Name: satisfaction, dtype: int64"
      ]
     },
     "execution_count": 7,
     "metadata": {},
     "output_type": "execute_result"
    }
   ],
   "source": [
    "data['satisfaction'].value_counts()"
   ]
  },
  {
   "cell_type": "markdown",
   "metadata": {},
   "source": [
    "Посмотрим на данные более подробно:"
   ]
  },
  {
   "cell_type": "code",
   "execution_count": 8,
   "metadata": {},
   "outputs": [
    {
     "name": "stdout",
     "output_type": "stream",
     "text": [
      "<class 'pandas.core.frame.DataFrame'>\n",
      "RangeIndex: 103904 entries, 0 to 103903\n",
      "Data columns (total 25 columns):\n",
      " #   Column                             Non-Null Count   Dtype  \n",
      "---  ------                             --------------   -----  \n",
      " 0   Unnamed: 0                         103904 non-null  int64  \n",
      " 1   id                                 103904 non-null  int64  \n",
      " 2   Gender                             103904 non-null  object \n",
      " 3   Customer Type                      103904 non-null  object \n",
      " 4   Age                                103904 non-null  int64  \n",
      " 5   Type of Travel                     103904 non-null  object \n",
      " 6   Class                              103904 non-null  object \n",
      " 7   Flight Distance                    103904 non-null  int64  \n",
      " 8   Inflight wifi service              103904 non-null  int64  \n",
      " 9   Departure/Arrival time convenient  103904 non-null  int64  \n",
      " 10  Ease of Online booking             103904 non-null  int64  \n",
      " 11  Gate location                      103904 non-null  int64  \n",
      " 12  Food and drink                     103904 non-null  int64  \n",
      " 13  Online boarding                    103904 non-null  int64  \n",
      " 14  Seat comfort                       103904 non-null  int64  \n",
      " 15  Inflight entertainment             103904 non-null  int64  \n",
      " 16  On-board service                   103904 non-null  int64  \n",
      " 17  Leg room service                   103904 non-null  int64  \n",
      " 18  Baggage handling                   103904 non-null  int64  \n",
      " 19  Checkin service                    103904 non-null  int64  \n",
      " 20  Inflight service                   103904 non-null  int64  \n",
      " 21  Cleanliness                        103904 non-null  int64  \n",
      " 22  Departure Delay in Minutes         103904 non-null  int64  \n",
      " 23  Arrival Delay in Minutes           103594 non-null  float64\n",
      " 24  satisfaction                       103904 non-null  object \n",
      "dtypes: float64(1), int64(19), object(5)\n",
      "memory usage: 19.8+ MB\n"
     ]
    }
   ],
   "source": [
    "data.info()"
   ]
  },
  {
   "cell_type": "markdown",
   "metadata": {},
   "source": [
    "Из информации видно:\n",
    "\n",
    "<ol>\n",
    "    <li><b>В столбце</b>, соответствующем признаку <b>Arrival Delay in Minutes, пропущено 310 значений</b>.</li>\n",
    "    <li><b>Первые два признака являются бесполезными и не повлияют на классификацию</b>, поэтому от них стоит избавиться.</li>\n",
    "    <li><b>Многие столбцы содержат категориальные значения</b>, но имеют тип 'object' или 'int64'. Заменим данный тип на специальный, предназначенный для хранения категориальных значений.</li>\n",
    "</ol>"
   ]
  },
  {
   "cell_type": "code",
   "execution_count": 9,
   "metadata": {},
   "outputs": [],
   "source": [
    "data = data.drop(data.iloc[:,[0, 1]], axis = 1)"
   ]
  },
  {
   "cell_type": "code",
   "execution_count": 10,
   "metadata": {},
   "outputs": [],
   "source": [
    "categorical_indexes = [0, 1, 3, 4] + list(range(6, 20))\n",
    "data.iloc[:,categorical_indexes] = data.iloc[:,categorical_indexes].astype('category')"
   ]
  },
  {
   "cell_type": "markdown",
   "metadata": {},
   "source": [
    "Теперь информация выглядит следующим образом:"
   ]
  },
  {
   "cell_type": "code",
   "execution_count": 11,
   "metadata": {},
   "outputs": [
    {
     "name": "stdout",
     "output_type": "stream",
     "text": [
      "<class 'pandas.core.frame.DataFrame'>\n",
      "RangeIndex: 103904 entries, 0 to 103903\n",
      "Data columns (total 23 columns):\n",
      " #   Column                             Non-Null Count   Dtype   \n",
      "---  ------                             --------------   -----   \n",
      " 0   Gender                             103904 non-null  category\n",
      " 1   Customer Type                      103904 non-null  category\n",
      " 2   Age                                103904 non-null  int64   \n",
      " 3   Type of Travel                     103904 non-null  category\n",
      " 4   Class                              103904 non-null  category\n",
      " 5   Flight Distance                    103904 non-null  int64   \n",
      " 6   Inflight wifi service              103904 non-null  category\n",
      " 7   Departure/Arrival time convenient  103904 non-null  category\n",
      " 8   Ease of Online booking             103904 non-null  category\n",
      " 9   Gate location                      103904 non-null  category\n",
      " 10  Food and drink                     103904 non-null  category\n",
      " 11  Online boarding                    103904 non-null  category\n",
      " 12  Seat comfort                       103904 non-null  category\n",
      " 13  Inflight entertainment             103904 non-null  category\n",
      " 14  On-board service                   103904 non-null  category\n",
      " 15  Leg room service                   103904 non-null  category\n",
      " 16  Baggage handling                   103904 non-null  category\n",
      " 17  Checkin service                    103904 non-null  category\n",
      " 18  Inflight service                   103904 non-null  category\n",
      " 19  Cleanliness                        103904 non-null  category\n",
      " 20  Departure Delay in Minutes         103904 non-null  int64   \n",
      " 21  Arrival Delay in Minutes           103594 non-null  float64 \n",
      " 22  satisfaction                       103904 non-null  object  \n",
      "dtypes: category(18), float64(1), int64(3), object(1)\n",
      "memory usage: 5.8+ MB\n"
     ]
    }
   ],
   "source": [
    "data.info()"
   ]
  },
  {
   "cell_type": "markdown",
   "metadata": {},
   "source": [
    "## Визуализация данных (c интепретацией) и вычисление основных характеристик"
   ]
  },
  {
   "cell_type": "markdown",
   "metadata": {},
   "source": [
    "Для каждого количественного признака получим средние значения, стандартное отклонение, минимальное и макимальное значения, медиана и значения квартилей:"
   ]
  },
  {
   "cell_type": "code",
   "execution_count": 12,
   "metadata": {},
   "outputs": [
    {
     "data": {
      "text/html": [
       "<div>\n",
       "<style scoped>\n",
       "    .dataframe tbody tr th:only-of-type {\n",
       "        vertical-align: middle;\n",
       "    }\n",
       "\n",
       "    .dataframe tbody tr th {\n",
       "        vertical-align: top;\n",
       "    }\n",
       "\n",
       "    .dataframe thead th {\n",
       "        text-align: right;\n",
       "    }\n",
       "</style>\n",
       "<table border=\"1\" class=\"dataframe\">\n",
       "  <thead>\n",
       "    <tr style=\"text-align: right;\">\n",
       "      <th></th>\n",
       "      <th>Age</th>\n",
       "      <th>Flight Distance</th>\n",
       "      <th>Departure Delay in Minutes</th>\n",
       "      <th>Arrival Delay in Minutes</th>\n",
       "    </tr>\n",
       "  </thead>\n",
       "  <tbody>\n",
       "    <tr>\n",
       "      <th>count</th>\n",
       "      <td>103904.000000</td>\n",
       "      <td>103904.000000</td>\n",
       "      <td>103904.000000</td>\n",
       "      <td>103594.000000</td>\n",
       "    </tr>\n",
       "    <tr>\n",
       "      <th>mean</th>\n",
       "      <td>39.379706</td>\n",
       "      <td>1189.448375</td>\n",
       "      <td>14.815618</td>\n",
       "      <td>15.178678</td>\n",
       "    </tr>\n",
       "    <tr>\n",
       "      <th>std</th>\n",
       "      <td>15.114964</td>\n",
       "      <td>997.147281</td>\n",
       "      <td>38.230901</td>\n",
       "      <td>38.698682</td>\n",
       "    </tr>\n",
       "    <tr>\n",
       "      <th>min</th>\n",
       "      <td>7.000000</td>\n",
       "      <td>31.000000</td>\n",
       "      <td>0.000000</td>\n",
       "      <td>0.000000</td>\n",
       "    </tr>\n",
       "    <tr>\n",
       "      <th>25%</th>\n",
       "      <td>27.000000</td>\n",
       "      <td>414.000000</td>\n",
       "      <td>0.000000</td>\n",
       "      <td>0.000000</td>\n",
       "    </tr>\n",
       "    <tr>\n",
       "      <th>50%</th>\n",
       "      <td>40.000000</td>\n",
       "      <td>843.000000</td>\n",
       "      <td>0.000000</td>\n",
       "      <td>0.000000</td>\n",
       "    </tr>\n",
       "    <tr>\n",
       "      <th>75%</th>\n",
       "      <td>51.000000</td>\n",
       "      <td>1743.000000</td>\n",
       "      <td>12.000000</td>\n",
       "      <td>13.000000</td>\n",
       "    </tr>\n",
       "    <tr>\n",
       "      <th>max</th>\n",
       "      <td>85.000000</td>\n",
       "      <td>4983.000000</td>\n",
       "      <td>1592.000000</td>\n",
       "      <td>1584.000000</td>\n",
       "    </tr>\n",
       "  </tbody>\n",
       "</table>\n",
       "</div>"
      ],
      "text/plain": [
       "                 Age  Flight Distance  Departure Delay in Minutes  \\\n",
       "count  103904.000000    103904.000000               103904.000000   \n",
       "mean       39.379706      1189.448375                   14.815618   \n",
       "std        15.114964       997.147281                   38.230901   \n",
       "min         7.000000        31.000000                    0.000000   \n",
       "25%        27.000000       414.000000                    0.000000   \n",
       "50%        40.000000       843.000000                    0.000000   \n",
       "75%        51.000000      1743.000000                   12.000000   \n",
       "max        85.000000      4983.000000                 1592.000000   \n",
       "\n",
       "       Arrival Delay in Minutes  \n",
       "count             103594.000000  \n",
       "mean                  15.178678  \n",
       "std                   38.698682  \n",
       "min                    0.000000  \n",
       "25%                    0.000000  \n",
       "50%                    0.000000  \n",
       "75%                   13.000000  \n",
       "max                 1584.000000  "
      ]
     },
     "execution_count": 12,
     "metadata": {},
     "output_type": "execute_result"
    }
   ],
   "source": [
    "data.describe()"
   ]
  },
  {
   "cell_type": "markdown",
   "metadata": {},
   "source": [
    "Теперь для каждого категориального признака получим общее количество значений, количество уникальных значений, наиболее часто встречающийся элемент и общее количество таких элементов:"
   ]
  },
  {
   "cell_type": "code",
   "execution_count": 13,
   "metadata": {},
   "outputs": [
    {
     "data": {
      "text/html": [
       "<div>\n",
       "<style scoped>\n",
       "    .dataframe tbody tr th:only-of-type {\n",
       "        vertical-align: middle;\n",
       "    }\n",
       "\n",
       "    .dataframe tbody tr th {\n",
       "        vertical-align: top;\n",
       "    }\n",
       "\n",
       "    .dataframe thead th {\n",
       "        text-align: right;\n",
       "    }\n",
       "</style>\n",
       "<table border=\"1\" class=\"dataframe\">\n",
       "  <thead>\n",
       "    <tr style=\"text-align: right;\">\n",
       "      <th></th>\n",
       "      <th>Gender</th>\n",
       "      <th>Customer Type</th>\n",
       "      <th>Type of Travel</th>\n",
       "      <th>Class</th>\n",
       "      <th>Inflight wifi service</th>\n",
       "      <th>Departure/Arrival time convenient</th>\n",
       "      <th>Ease of Online booking</th>\n",
       "      <th>Gate location</th>\n",
       "      <th>Food and drink</th>\n",
       "      <th>Online boarding</th>\n",
       "      <th>Seat comfort</th>\n",
       "      <th>Inflight entertainment</th>\n",
       "      <th>On-board service</th>\n",
       "      <th>Leg room service</th>\n",
       "      <th>Baggage handling</th>\n",
       "      <th>Checkin service</th>\n",
       "      <th>Inflight service</th>\n",
       "      <th>Cleanliness</th>\n",
       "    </tr>\n",
       "  </thead>\n",
       "  <tbody>\n",
       "    <tr>\n",
       "      <th>count</th>\n",
       "      <td>103904</td>\n",
       "      <td>103904</td>\n",
       "      <td>103904</td>\n",
       "      <td>103904</td>\n",
       "      <td>103904</td>\n",
       "      <td>103904</td>\n",
       "      <td>103904</td>\n",
       "      <td>103904</td>\n",
       "      <td>103904</td>\n",
       "      <td>103904</td>\n",
       "      <td>103904</td>\n",
       "      <td>103904</td>\n",
       "      <td>103904</td>\n",
       "      <td>103904</td>\n",
       "      <td>103904</td>\n",
       "      <td>103904</td>\n",
       "      <td>103904</td>\n",
       "      <td>103904</td>\n",
       "    </tr>\n",
       "    <tr>\n",
       "      <th>unique</th>\n",
       "      <td>2</td>\n",
       "      <td>2</td>\n",
       "      <td>2</td>\n",
       "      <td>3</td>\n",
       "      <td>6</td>\n",
       "      <td>6</td>\n",
       "      <td>6</td>\n",
       "      <td>6</td>\n",
       "      <td>6</td>\n",
       "      <td>6</td>\n",
       "      <td>6</td>\n",
       "      <td>6</td>\n",
       "      <td>6</td>\n",
       "      <td>6</td>\n",
       "      <td>5</td>\n",
       "      <td>6</td>\n",
       "      <td>6</td>\n",
       "      <td>6</td>\n",
       "    </tr>\n",
       "    <tr>\n",
       "      <th>top</th>\n",
       "      <td>Female</td>\n",
       "      <td>Loyal Customer</td>\n",
       "      <td>Business travel</td>\n",
       "      <td>Business</td>\n",
       "      <td>3</td>\n",
       "      <td>4</td>\n",
       "      <td>3</td>\n",
       "      <td>3</td>\n",
       "      <td>4</td>\n",
       "      <td>4</td>\n",
       "      <td>4</td>\n",
       "      <td>4</td>\n",
       "      <td>4</td>\n",
       "      <td>4</td>\n",
       "      <td>4</td>\n",
       "      <td>4</td>\n",
       "      <td>4</td>\n",
       "      <td>4</td>\n",
       "    </tr>\n",
       "    <tr>\n",
       "      <th>freq</th>\n",
       "      <td>52727</td>\n",
       "      <td>84923</td>\n",
       "      <td>71655</td>\n",
       "      <td>49665</td>\n",
       "      <td>25868</td>\n",
       "      <td>25546</td>\n",
       "      <td>24449</td>\n",
       "      <td>28577</td>\n",
       "      <td>24359</td>\n",
       "      <td>30762</td>\n",
       "      <td>31765</td>\n",
       "      <td>29423</td>\n",
       "      <td>30867</td>\n",
       "      <td>28789</td>\n",
       "      <td>37383</td>\n",
       "      <td>29055</td>\n",
       "      <td>37945</td>\n",
       "      <td>27179</td>\n",
       "    </tr>\n",
       "  </tbody>\n",
       "</table>\n",
       "</div>"
      ],
      "text/plain": [
       "        Gender   Customer Type   Type of Travel     Class  \\\n",
       "count   103904          103904           103904    103904   \n",
       "unique       2               2                2         3   \n",
       "top     Female  Loyal Customer  Business travel  Business   \n",
       "freq     52727           84923            71655     49665   \n",
       "\n",
       "        Inflight wifi service  Departure/Arrival time convenient  \\\n",
       "count                  103904                             103904   \n",
       "unique                      6                                  6   \n",
       "top                         3                                  4   \n",
       "freq                    25868                              25546   \n",
       "\n",
       "        Ease of Online booking  Gate location  Food and drink  \\\n",
       "count                   103904         103904          103904   \n",
       "unique                       6              6               6   \n",
       "top                          3              3               4   \n",
       "freq                     24449          28577           24359   \n",
       "\n",
       "        Online boarding  Seat comfort  Inflight entertainment  \\\n",
       "count            103904        103904                  103904   \n",
       "unique                6             6                       6   \n",
       "top                   4             4                       4   \n",
       "freq              30762         31765                   29423   \n",
       "\n",
       "        On-board service  Leg room service  Baggage handling  Checkin service  \\\n",
       "count             103904            103904            103904           103904   \n",
       "unique                 6                 6                 5                6   \n",
       "top                    4                 4                 4                4   \n",
       "freq               30867             28789             37383            29055   \n",
       "\n",
       "        Inflight service  Cleanliness  \n",
       "count             103904       103904  \n",
       "unique                 6            6  \n",
       "top                    4            4  \n",
       "freq               37945        27179  "
      ]
     },
     "execution_count": 13,
     "metadata": {},
     "output_type": "execute_result"
    }
   ],
   "source": [
    "data.describe(include = ['category'])"
   ]
  },
  {
   "cell_type": "markdown",
   "metadata": {},
   "source": [
    "Посмотрим на соотношение значений целевой переменной:"
   ]
  },
  {
   "cell_type": "code",
   "execution_count": 14,
   "metadata": {},
   "outputs": [
    {
     "data": {
      "image/png": "[encoded data removed]",
      "text/plain": [
       "<Figure size 432x288 with 1 Axes>"
      ]
     },
     "metadata": {},
     "output_type": "display_data"
    }
   ],
   "source": [
    "plt.pie(data.satisfaction.value_counts(), labels = [\"Neutral or dissatisfied\", \"Satisfied\"], colors = sns.color_palette(\"Set1\"), autopct = '%1.1f%%')\n",
    "pass"
   ]
  },
  {
   "cell_type": "markdown",
   "metadata": {},
   "source": [
    "Из круговой диграммы видно, что <b>выборка является более менее сбалансированной</b>."
   ]
  },
  {
   "cell_type": "markdown",
   "metadata": {},
   "source": [
    "Вычислим матрицу корреляции для количественных признаков и используем визуальный образ данной матрицы:"
   ]
  },
  {
   "cell_type": "code",
   "execution_count": 15,
   "metadata": {},
   "outputs": [
    {
     "data": {
      "text/html": [
       "<div>\n",
       "<style scoped>\n",
       "    .dataframe tbody tr th:only-of-type {\n",
       "        vertical-align: middle;\n",
       "    }\n",
       "\n",
       "    .dataframe tbody tr th {\n",
       "        vertical-align: top;\n",
       "    }\n",
       "\n",
       "    .dataframe thead th {\n",
       "        text-align: right;\n",
       "    }\n",
       "</style>\n",
       "<table border=\"1\" class=\"dataframe\">\n",
       "  <thead>\n",
       "    <tr style=\"text-align: right;\">\n",
       "      <th></th>\n",
       "      <th>Age</th>\n",
       "      <th>Flight Distance</th>\n",
       "      <th>Departure Delay in Minutes</th>\n",
       "      <th>Arrival Delay in Minutes</th>\n",
       "    </tr>\n",
       "  </thead>\n",
       "  <tbody>\n",
       "    <tr>\n",
       "      <th>Age</th>\n",
       "      <td>1.000000</td>\n",
       "      <td>0.099461</td>\n",
       "      <td>-0.010152</td>\n",
       "      <td>-0.012147</td>\n",
       "    </tr>\n",
       "    <tr>\n",
       "      <th>Flight Distance</th>\n",
       "      <td>0.099461</td>\n",
       "      <td>1.000000</td>\n",
       "      <td>0.002158</td>\n",
       "      <td>-0.002426</td>\n",
       "    </tr>\n",
       "    <tr>\n",
       "      <th>Departure Delay in Minutes</th>\n",
       "      <td>-0.010152</td>\n",
       "      <td>0.002158</td>\n",
       "      <td>1.000000</td>\n",
       "      <td>0.965481</td>\n",
       "    </tr>\n",
       "    <tr>\n",
       "      <th>Arrival Delay in Minutes</th>\n",
       "      <td>-0.012147</td>\n",
       "      <td>-0.002426</td>\n",
       "      <td>0.965481</td>\n",
       "      <td>1.000000</td>\n",
       "    </tr>\n",
       "  </tbody>\n",
       "</table>\n",
       "</div>"
      ],
      "text/plain": [
       "                                 Age  Flight Distance  \\\n",
       "Age                         1.000000         0.099461   \n",
       "Flight Distance             0.099461         1.000000   \n",
       "Departure Delay in Minutes -0.010152         0.002158   \n",
       "Arrival Delay in Minutes   -0.012147        -0.002426   \n",
       "\n",
       "                            Departure Delay in Minutes  \\\n",
       "Age                                          -0.010152   \n",
       "Flight Distance                               0.002158   \n",
       "Departure Delay in Minutes                    1.000000   \n",
       "Arrival Delay in Minutes                      0.965481   \n",
       "\n",
       "                            Arrival Delay in Minutes  \n",
       "Age                                        -0.012147  \n",
       "Flight Distance                            -0.002426  \n",
       "Departure Delay in Minutes                  0.965481  \n",
       "Arrival Delay in Minutes                    1.000000  "
      ]
     },
     "execution_count": 15,
     "metadata": {},
     "output_type": "execute_result"
    }
   ],
   "source": [
    "corr_mat = data.corr()\n",
    "corr_mat"
   ]
  },
  {
   "cell_type": "code",
   "execution_count": 16,
   "metadata": {},
   "outputs": [
    {
     "data": {
      "image/png": "[encoded data removed]",
      "text/plain": [
       "<Figure size 432x288 with 2 Axes>"
      ]
     },
     "metadata": {
      "needs_background": "light"
     },
     "output_type": "display_data"
    }
   ],
   "source": [
    "sns.heatmap(corr_mat, square=True, cmap='coolwarm', vmin=-1.0, vmax=1.0)\n",
    "pass"
   ]
  },
  {
   "cell_type": "markdown",
   "metadata": {},
   "source": [
    "Можно заметить, что между признаками <em>`Задержка отправления в минутах`</em> и <em>`Задержка прибытия в минутах`</em> наблюдается большая корреляция. Величина коэффициента корреляции достигает следующего значения:"
   ]
  },
  {
   "cell_type": "code",
   "execution_count": 17,
   "metadata": {},
   "outputs": [
    {
     "data": {
      "text/plain": [
       "Departure Delay in Minutes  Arrival Delay in Minutes    0.965481\n",
       "dtype: float64"
      ]
     },
     "execution_count": 17,
     "metadata": {},
     "output_type": "execute_result"
    }
   ],
   "source": [
    "corr_mat.where(np.triu(corr_mat > 0.5, k=1)).stack().sort_values(ascending = False)"
   ]
  },
  {
   "cell_type": "markdown",
   "metadata": {},
   "source": [
    "Построим диаграмму рассеивания для данных признаков:"
   ]
  },
  {
   "cell_type": "code",
   "execution_count": 18,
   "metadata": {},
   "outputs": [
    {
     "data": {
      "image/png": "[encoded data removed]",
      "text/plain": [
       "<Figure size 432x288 with 1 Axes>"
      ]
     },
     "metadata": {
      "needs_background": "light"
     },
     "output_type": "display_data"
    }
   ],
   "source": [
    "plt.scatter(data['Arrival Delay in Minutes'], data['Departure Delay in Minutes'], alpha = 0.5)\n",
    "pass"
   ]
  },
  {
   "cell_type": "markdown",
   "metadata": {},
   "source": [
    "Из графика видно, что точки выстроились более-менее вдоль прямой, идущей из нижнего левого угла в правый верхний. Таким образом, в некотором приближении <b> наблюдается линейная звивисимость между этими признакми </b>.\n",
    "\n",
    "Полученные результаты являются вполне логичными, и их можно объяснить следующим образом: если рейс клиентов авиакомпании при отправлении был задержан на некоторое количество времени, то примерно на такое же количество времени рейс задержится при посадке (при условии, что самолет в полете не будет увеличивать скорость для наверстывание упущенного времени)."
   ]
  },
  {
   "cell_type": "markdown",
   "metadata": {},
   "source": [
    "Рассмотрим соотношение значений для каждого из категориальных признаков:"
   ]
  },
  {
   "cell_type": "code",
   "execution_count": 19,
   "metadata": {},
   "outputs": [
    {
     "data": {
      "image/png": "[encoded data removed]",
      "text/plain": [
       "<Figure size 1440x1440 with 18 Axes>"
      ]
     },
     "metadata": {},
     "output_type": "display_data"
    }
   ],
   "source": [
    "categ = data.iloc[:,categorical_indexes]\n",
    "fig, axes = plt.subplots(6, 3, figsize = (20, 20))\n",
    "for i, col in enumerate(categ):\n",
    "    column_values = data[col].value_counts()\n",
    "    labels = column_values.index\n",
    "    sizes = column_values.values\n",
    "    axes[i//3, i%3].pie(sizes, labels = labels, colors = sns.color_palette(\"Set1\"), autopct = '%1.0f%%', startangle = 90)\n",
    "    axes[i//3, i%3].axis('equal')\n",
    "    axes[i//3, i%3].set_title(col)\n",
    "plt.show()"
   ]
  },
  {
   "cell_type": "markdown",
   "metadata": {},
   "source": [
    "Некоторые выводы об рассматриваемой выборке:\n",
    "<ul>\n",
    "    <li>Количество мужчин и женщин в данной выборке примерно одинаковое</li>\n",
    "    <li>Значительное большинство клиентов авиакомпании являются постоянными</li>\n",
    "    <li>Большая часть клиентов совершили перелет ради деловой встречи, а не по личным делам</li>\n",
    "    <li>Примерно половина пассажиров находилась в бизнес-классе</li>\n",
    "    <li>Более 60% пассажиров остались довольны сервисом по транспортировке багажа (поставили оценки 4-5 из 5)</li>\n",
    "    <li>Более 50% пассажирам было удобно сидеть на их креслах (поставили оценки 4-5 из 5)</li>\n",
    "</ul>"
   ]
  },
  {
   "cell_type": "markdown",
   "metadata": {},
   "source": [
    "Теперь рассмотрим несколько \"ящиков с усами\" (бокс-диаграмм)."
   ]
  },
  {
   "cell_type": "code",
   "execution_count": 20,
   "metadata": {},
   "outputs": [
    {
     "data": {
      "image/png": "[encoded data removed]",
      "text/plain": [
       "<Figure size 1080x360 with 2 Axes>"
      ]
     },
     "metadata": {
      "needs_background": "light"
     },
     "output_type": "display_data"
    }
   ],
   "source": [
    "f, ax = plt.subplots(1, 2, figsize = (15,5))\n",
    "sns.boxplot(x = \"Customer Type\", y = \"Age\", palette = \"YlOrBr\", data = data, ax = ax[0])\n",
    "sns.histplot(data, x = \"Age\", hue = \"Customer Type\", multiple = \"stack\", palette = \"YlOrBr\", edgecolor = \".3\", linewidth = .5, ax = ax[1])\n",
    "pass"
   ]
  },
  {
   "cell_type": "markdown",
   "metadata": {},
   "source": [
    "По данной бокс-диаграмме можно сделать вывод о том, что <b>большинство постоянных клиентов авиакомпании находятся в возрасте между 30 и 50 годами (в среднем их возраст немного больше 40 лет)</b>. Возрастной диапазон непостоянных клиентов немного меньше (от 25 до 40 лет, в среднем - немного меньше 30)."
   ]
  },
  {
   "cell_type": "code",
   "execution_count": 21,
   "metadata": {},
   "outputs": [
    {
     "data": {
      "image/png": "[encoded data removed]",
      "text/plain": [
       "<Figure size 1080x360 with 2 Axes>"
      ]
     },
     "metadata": {
      "needs_background": "light"
     },
     "output_type": "display_data"
    }
   ],
   "source": [
    "f, ax = plt.subplots(1, 2, figsize = (15,5))\n",
    "sns.boxplot(x = \"Class\", y = \"Age\", palette = \"YlOrBr\", data = data, ax = ax[0])\n",
    "sns.histplot(data, x = \"Age\", hue = \"Class\", multiple = \"stack\", palette = \"YlOrBr\", edgecolor = \".3\", linewidth = .5, ax = ax[1])\n",
    "pass"
   ]
  },
  {
   "cell_type": "markdown",
   "metadata": {},
   "source": [
    "Можно увидеть, что в среднем возрастной диапазон тех клиентов, которые путешествуют в бизнесс-классе, совпадает (в соответствии с предыдущей бокс-диаграммой) с возрастным диапазоном постоянных клиентов. На основании этого наблюдения можно предположить, что <b>постоянные клиенты в основном покупают себе бизнес-класс</b>."
   ]
  },
  {
   "cell_type": "code",
   "execution_count": 22,
   "metadata": {},
   "outputs": [
    {
     "data": {
      "image/png": "[encoded data removed]",
      "text/plain": [
       "<Figure size 1080x360 with 2 Axes>"
      ]
     },
     "metadata": {
      "needs_background": "light"
     },
     "output_type": "display_data"
    }
   ],
   "source": [
    "f, ax = plt.subplots(1, 2, figsize = (15,5))\n",
    "sns.boxplot(x = \"Class\", y = \"Flight Distance\", palette = \"YlOrBr\", data = data, ax = ax[0])\n",
    "sns.histplot(data, x = \"Flight Distance\", hue = \"Class\", multiple = \"stack\", palette = \"YlOrBr\", edgecolor = \".3\", linewidth = .5, ax = ax[1])\n",
    "pass"
   ]
  },
  {
   "cell_type": "markdown",
   "metadata": {},
   "source": [
    "По данной бокс-диграмме можно сделать следующий вывод: <b>клиенты, расстояние полета которых является большим, в основном совершают перелет в бизнес-классе</b>."
   ]
  },
  {
   "cell_type": "code",
   "execution_count": 23,
   "metadata": {},
   "outputs": [
    {
     "data": {
      "image/png": "[encoded data removed]",
      "text/plain": [
       "<Figure size 1080x576 with 4 Axes>"
      ]
     },
     "metadata": {
      "needs_background": "light"
     },
     "output_type": "display_data"
    }
   ],
   "source": [
    "f, ax = plt.subplots(2, 2, figsize = (15,8))\n",
    "sns.boxplot(x = \"Inflight entertainment\", y = \"Flight Distance\", palette = \"YlOrBr\", data = data, ax = ax[0, 0])\n",
    "sns.histplot(data, x = \"Flight Distance\", hue = \"Inflight entertainment\", multiple = \"stack\", palette = \"YlOrBr\", edgecolor = \".3\", linewidth = .5, ax = ax[0, 1])\n",
    "sns.boxplot(x = \"Leg room service\", y = \"Flight Distance\", palette = \"YlOrBr\", data = data, ax = ax[1, 0])\n",
    "sns.histplot(data, x = \"Flight Distance\", hue = \"Leg room service\", multiple = \"stack\", palette = \"YlOrBr\", edgecolor = \".3\", linewidth = .5, ax = ax[1, 1])\n",
    "pass"
   ]
  },
  {
   "cell_type": "markdown",
   "metadata": {},
   "source": [
    "Можно заметить следующую закономерность: <b>чем большее расстояние пассажир самолета преодолевает (соответственно, дольше находится в полете), тем он больше доволен развлечениями в полете и дополнительным пространством для ног (в среднем)</b>."
   ]
  },
  {
   "cell_type": "markdown",
   "metadata": {},
   "source": [
    "Теперь рассмотрим графики зависимостей некоторых категориальных признаков от целевого - <em>удовлетворенности авиапассажиров</em>:"
   ]
  },
  {
   "cell_type": "code",
   "execution_count": 24,
   "metadata": {},
   "outputs": [
    {
     "data": {
      "image/png": "[encoded data removed]",
      "text/plain": [
       "<Figure size 432x288 with 1 Axes>"
      ]
     },
     "metadata": {
      "needs_background": "light"
     },
     "output_type": "display_data"
    }
   ],
   "source": [
    "sns.countplot(x = 'Class', hue = 'satisfaction', palette = \"YlOrBr\", data = data)\n",
    "plt.show()"
   ]
  },
  {
   "cell_type": "markdown",
   "metadata": {},
   "source": [
    "Из графика видно, что <b>большинство пассажиров, совершивших перелет в эконом плюс или эконом-классе, остались недовольны полетом, а пассажиры, летевшие в бизнес-классе, остались довольными</b>."
   ]
  },
  {
   "cell_type": "code",
   "execution_count": 25,
   "metadata": {},
   "outputs": [
    {
     "data": {
      "image/png": "[encoded data removed]",
      "text/plain": [
       "<Figure size 432x288 with 1 Axes>"
      ]
     },
     "metadata": {
      "needs_background": "light"
     },
     "output_type": "display_data"
    }
   ],
   "source": [
    "sns.countplot(x = 'Inflight wifi service', hue = 'satisfaction', palette = \"YlOrBr\", data = data)\n",
    "plt.show()"
   ]
  },
  {
   "cell_type": "markdown",
   "metadata": {},
   "source": [
    "По данному графику можно заметить, что <b>практически все пассажиры, которые оценили wifi сервис на 5 из 5 баллов, остались довольны полетом</b>."
   ]
  },
  {
   "cell_type": "code",
   "execution_count": 26,
   "metadata": {},
   "outputs": [
    {
     "data": {
      "image/png": "[encoded data removed]",
      "text/plain": [
       "<Figure size 1440x360 with 2 Axes>"
      ]
     },
     "metadata": {
      "needs_background": "light"
     },
     "output_type": "display_data"
    }
   ],
   "source": [
    "f, ax = plt.subplots(1, 2, figsize = (20,5))\n",
    "sns.countplot(x = 'Seat comfort', hue = 'satisfaction', palette = \"YlOrBr\", data = data,ax = ax[0])\n",
    "sns.countplot(x = 'Leg room service', hue = 'satisfaction', palette = \"YlOrBr\", data = data, ax = ax[1])\n",
    "plt.show()"
   ]
  },
  {
   "cell_type": "markdown",
   "metadata": {},
   "source": [
    "По графикам выше можно сделать следующий вывод: <b>большинство пассажиров, которые оценили удобство кресел и дополнительное свободное место для ног на 4 и 5 баллов из 5, остались довольны полетом</b>."
   ]
  },
  {
   "cell_type": "markdown",
   "metadata": {},
   "source": [
    "## Заполнение пропущенных значений"
   ]
  },
  {
   "cell_type": "markdown",
   "metadata": {},
   "source": [
    "Посмотрим, сколько пропущенных значений в каждом признаке:"
   ]
  },
  {
   "cell_type": "code",
   "execution_count": 27,
   "metadata": {},
   "outputs": [
    {
     "data": {
      "text/plain": [
       "Gender                                 0\n",
       "Customer Type                          0\n",
       "Age                                    0\n",
       "Type of Travel                         0\n",
       "Class                                  0\n",
       "Flight Distance                        0\n",
       "Inflight wifi service                  0\n",
       "Departure/Arrival time convenient      0\n",
       "Ease of Online booking                 0\n",
       "Gate location                          0\n",
       "Food and drink                         0\n",
       "Online boarding                        0\n",
       "Seat comfort                           0\n",
       "Inflight entertainment                 0\n",
       "On-board service                       0\n",
       "Leg room service                       0\n",
       "Baggage handling                       0\n",
       "Checkin service                        0\n",
       "Inflight service                       0\n",
       "Cleanliness                            0\n",
       "Departure Delay in Minutes             0\n",
       "Arrival Delay in Minutes             310\n",
       "satisfaction                           0\n",
       "dtype: int64"
      ]
     },
     "execution_count": 27,
     "metadata": {},
     "output_type": "execute_result"
    }
   ],
   "source": [
    "data.isna().sum()"
   ]
  },
  {
   "cell_type": "markdown",
   "metadata": {},
   "source": [
    "Заполним <b>медианами</b> пропущенные значения в столбцах, соответствующих количественным признакам:"
   ]
  },
  {
   "cell_type": "code",
   "execution_count": 28,
   "metadata": {},
   "outputs": [],
   "source": [
    "data['Arrival Delay in Minutes'].fillna(data['Arrival Delay in Minutes'].median(axis = 0), inplace = True)"
   ]
  },
  {
   "cell_type": "code",
   "execution_count": 29,
   "metadata": {},
   "outputs": [
    {
     "data": {
      "text/plain": [
       "Gender                               0\n",
       "Customer Type                        0\n",
       "Age                                  0\n",
       "Type of Travel                       0\n",
       "Class                                0\n",
       "Flight Distance                      0\n",
       "Inflight wifi service                0\n",
       "Departure/Arrival time convenient    0\n",
       "Ease of Online booking               0\n",
       "Gate location                        0\n",
       "Food and drink                       0\n",
       "Online boarding                      0\n",
       "Seat comfort                         0\n",
       "Inflight entertainment               0\n",
       "On-board service                     0\n",
       "Leg room service                     0\n",
       "Baggage handling                     0\n",
       "Checkin service                      0\n",
       "Inflight service                     0\n",
       "Cleanliness                          0\n",
       "Departure Delay in Minutes           0\n",
       "Arrival Delay in Minutes             0\n",
       "satisfaction                         0\n",
       "dtype: int64"
      ]
     },
     "execution_count": 29,
     "metadata": {},
     "output_type": "execute_result"
    }
   ],
   "source": [
    "data.isna().sum()"
   ]
  },
  {
   "cell_type": "markdown",
   "metadata": {},
   "source": [
    "Из данной таблицы видно, что пропущенных значений больше нет."
   ]
  },
  {
   "cell_type": "code",
   "execution_count": 30,
   "metadata": {},
   "outputs": [
    {
     "data": {
      "text/html": [
       "<div>\n",
       "<style scoped>\n",
       "    .dataframe tbody tr th:only-of-type {\n",
       "        vertical-align: middle;\n",
       "    }\n",
       "\n",
       "    .dataframe tbody tr th {\n",
       "        vertical-align: top;\n",
       "    }\n",
       "\n",
       "    .dataframe thead th {\n",
       "        text-align: right;\n",
       "    }\n",
       "</style>\n",
       "<table border=\"1\" class=\"dataframe\">\n",
       "  <thead>\n",
       "    <tr style=\"text-align: right;\">\n",
       "      <th></th>\n",
       "      <th>Age</th>\n",
       "      <th>Flight Distance</th>\n",
       "      <th>Departure Delay in Minutes</th>\n",
       "      <th>Arrival Delay in Minutes</th>\n",
       "    </tr>\n",
       "  </thead>\n",
       "  <tbody>\n",
       "    <tr>\n",
       "      <th>count</th>\n",
       "      <td>103904.000000</td>\n",
       "      <td>103904.000000</td>\n",
       "      <td>103904.000000</td>\n",
       "      <td>103904.000000</td>\n",
       "    </tr>\n",
       "    <tr>\n",
       "      <th>mean</th>\n",
       "      <td>39.379706</td>\n",
       "      <td>1189.448375</td>\n",
       "      <td>14.815618</td>\n",
       "      <td>15.133392</td>\n",
       "    </tr>\n",
       "    <tr>\n",
       "      <th>std</th>\n",
       "      <td>15.114964</td>\n",
       "      <td>997.147281</td>\n",
       "      <td>38.230901</td>\n",
       "      <td>38.649776</td>\n",
       "    </tr>\n",
       "    <tr>\n",
       "      <th>min</th>\n",
       "      <td>7.000000</td>\n",
       "      <td>31.000000</td>\n",
       "      <td>0.000000</td>\n",
       "      <td>0.000000</td>\n",
       "    </tr>\n",
       "    <tr>\n",
       "      <th>25%</th>\n",
       "      <td>27.000000</td>\n",
       "      <td>414.000000</td>\n",
       "      <td>0.000000</td>\n",
       "      <td>0.000000</td>\n",
       "    </tr>\n",
       "    <tr>\n",
       "      <th>50%</th>\n",
       "      <td>40.000000</td>\n",
       "      <td>843.000000</td>\n",
       "      <td>0.000000</td>\n",
       "      <td>0.000000</td>\n",
       "    </tr>\n",
       "    <tr>\n",
       "      <th>75%</th>\n",
       "      <td>51.000000</td>\n",
       "      <td>1743.000000</td>\n",
       "      <td>12.000000</td>\n",
       "      <td>13.000000</td>\n",
       "    </tr>\n",
       "    <tr>\n",
       "      <th>max</th>\n",
       "      <td>85.000000</td>\n",
       "      <td>4983.000000</td>\n",
       "      <td>1592.000000</td>\n",
       "      <td>1584.000000</td>\n",
       "    </tr>\n",
       "  </tbody>\n",
       "</table>\n",
       "</div>"
      ],
      "text/plain": [
       "                 Age  Flight Distance  Departure Delay in Minutes  \\\n",
       "count  103904.000000    103904.000000               103904.000000   \n",
       "mean       39.379706      1189.448375                   14.815618   \n",
       "std        15.114964       997.147281                   38.230901   \n",
       "min         7.000000        31.000000                    0.000000   \n",
       "25%        27.000000       414.000000                    0.000000   \n",
       "50%        40.000000       843.000000                    0.000000   \n",
       "75%        51.000000      1743.000000                   12.000000   \n",
       "max        85.000000      4983.000000                 1592.000000   \n",
       "\n",
       "       Arrival Delay in Minutes  \n",
       "count             103904.000000  \n",
       "mean                  15.133392  \n",
       "std                   38.649776  \n",
       "min                    0.000000  \n",
       "25%                    0.000000  \n",
       "50%                    0.000000  \n",
       "75%                   13.000000  \n",
       "max                 1584.000000  "
      ]
     },
     "execution_count": 30,
     "metadata": {},
     "output_type": "execute_result"
    }
   ],
   "source": [
    "data.describe()"
   ]
  },
  {
   "cell_type": "markdown",
   "metadata": {},
   "source": [
    "## Обработка категориальных признаков"
   ]
  },
  {
   "cell_type": "markdown",
   "metadata": {},
   "source": [
    "Разделим признаки на количественные и категориальные:"
   ]
  },
  {
   "cell_type": "code",
   "execution_count": 31,
   "metadata": {},
   "outputs": [],
   "source": [
    "numerical_columns = [c for c in data.columns if data[c].dtype.name != 'category']\n",
    "numerical_columns.remove('satisfaction')\n",
    "categorical_columns = [c for c in data.columns if data[c].dtype.name == 'category']\n",
    "data_describe = data.describe(include = ['category'])"
   ]
  },
  {
   "cell_type": "markdown",
   "metadata": {},
   "source": [
    "Разделим категориальные признаки на бинарные и небинарные:"
   ]
  },
  {
   "cell_type": "code",
   "execution_count": 32,
   "metadata": {},
   "outputs": [
    {
     "name": "stdout",
     "output_type": "stream",
     "text": [
      "['Gender', 'Customer Type', 'Type of Travel'] ['Class', 'Inflight wifi service', 'Departure/Arrival time convenient', 'Ease of Online booking', 'Gate location', 'Food and drink', 'Online boarding', 'Seat comfort', 'Inflight entertainment', 'On-board service', 'Leg room service', 'Baggage handling', 'Checkin service', 'Inflight service', 'Cleanliness']\n"
     ]
    }
   ],
   "source": [
    "binary_columns = [c for c in categorical_columns if data_describe[c]['unique'] == 2]\n",
    "nonbinary_columns = [c for c in categorical_columns if data_describe[c]['unique'] > 2]\n",
    "print(binary_columns, nonbinary_columns)"
   ]
  },
  {
   "cell_type": "markdown",
   "metadata": {},
   "source": [
    "Посмотрим на уникальные значения для каждого бинарного признака:"
   ]
  },
  {
   "cell_type": "code",
   "execution_count": 33,
   "metadata": {},
   "outputs": [
    {
     "name": "stdout",
     "output_type": "stream",
     "text": [
      "Gender : Male, Female.\n",
      "Customer Type : Loyal Customer, disloyal Customer.\n",
      "Type of Travel : Personal Travel, Business travel.\n"
     ]
    }
   ],
   "source": [
    "for col in binary_columns:\n",
    "    print(col, ': ', end = '')\n",
    "    for uniq in data[col].unique():\n",
    "        if uniq == data[col].unique()[-1]:\n",
    "            print(uniq, end = '.')\n",
    "        else:\n",
    "            print(uniq, end = ', ')\n",
    "    print()"
   ]
  },
  {
   "cell_type": "markdown",
   "metadata": {},
   "source": [
    "Выполним бинаризацию:"
   ]
  },
  {
   "cell_type": "code",
   "execution_count": 34,
   "metadata": {},
   "outputs": [],
   "source": [
    "for col in binary_columns:\n",
    "    data[col] = data[col].cat.codes"
   ]
  },
  {
   "cell_type": "markdown",
   "metadata": {},
   "source": [
    "Посмотрим теперь на небинарные категориальные признаки:"
   ]
  },
  {
   "cell_type": "code",
   "execution_count": 35,
   "metadata": {},
   "outputs": [
    {
     "data": {
      "text/html": [
       "<div>\n",
       "<style scoped>\n",
       "    .dataframe tbody tr th:only-of-type {\n",
       "        vertical-align: middle;\n",
       "    }\n",
       "\n",
       "    .dataframe tbody tr th {\n",
       "        vertical-align: top;\n",
       "    }\n",
       "\n",
       "    .dataframe thead th {\n",
       "        text-align: right;\n",
       "    }\n",
       "</style>\n",
       "<table border=\"1\" class=\"dataframe\">\n",
       "  <thead>\n",
       "    <tr style=\"text-align: right;\">\n",
       "      <th></th>\n",
       "      <th>Class</th>\n",
       "      <th>Inflight wifi service</th>\n",
       "      <th>Departure/Arrival time convenient</th>\n",
       "      <th>Ease of Online booking</th>\n",
       "      <th>Gate location</th>\n",
       "      <th>Food and drink</th>\n",
       "      <th>Online boarding</th>\n",
       "      <th>Seat comfort</th>\n",
       "      <th>Inflight entertainment</th>\n",
       "      <th>On-board service</th>\n",
       "      <th>Leg room service</th>\n",
       "      <th>Baggage handling</th>\n",
       "      <th>Checkin service</th>\n",
       "      <th>Inflight service</th>\n",
       "      <th>Cleanliness</th>\n",
       "    </tr>\n",
       "  </thead>\n",
       "  <tbody>\n",
       "    <tr>\n",
       "      <th>0</th>\n",
       "      <td>Eco Plus</td>\n",
       "      <td>3</td>\n",
       "      <td>4</td>\n",
       "      <td>3</td>\n",
       "      <td>1</td>\n",
       "      <td>5</td>\n",
       "      <td>3</td>\n",
       "      <td>5</td>\n",
       "      <td>5</td>\n",
       "      <td>4</td>\n",
       "      <td>3</td>\n",
       "      <td>4</td>\n",
       "      <td>4</td>\n",
       "      <td>5</td>\n",
       "      <td>5</td>\n",
       "    </tr>\n",
       "    <tr>\n",
       "      <th>1</th>\n",
       "      <td>Business</td>\n",
       "      <td>3</td>\n",
       "      <td>2</td>\n",
       "      <td>3</td>\n",
       "      <td>3</td>\n",
       "      <td>1</td>\n",
       "      <td>3</td>\n",
       "      <td>1</td>\n",
       "      <td>1</td>\n",
       "      <td>1</td>\n",
       "      <td>5</td>\n",
       "      <td>3</td>\n",
       "      <td>1</td>\n",
       "      <td>4</td>\n",
       "      <td>1</td>\n",
       "    </tr>\n",
       "    <tr>\n",
       "      <th>2</th>\n",
       "      <td>Business</td>\n",
       "      <td>2</td>\n",
       "      <td>2</td>\n",
       "      <td>2</td>\n",
       "      <td>2</td>\n",
       "      <td>5</td>\n",
       "      <td>5</td>\n",
       "      <td>5</td>\n",
       "      <td>5</td>\n",
       "      <td>4</td>\n",
       "      <td>3</td>\n",
       "      <td>4</td>\n",
       "      <td>4</td>\n",
       "      <td>4</td>\n",
       "      <td>5</td>\n",
       "    </tr>\n",
       "    <tr>\n",
       "      <th>3</th>\n",
       "      <td>Business</td>\n",
       "      <td>2</td>\n",
       "      <td>5</td>\n",
       "      <td>5</td>\n",
       "      <td>5</td>\n",
       "      <td>2</td>\n",
       "      <td>2</td>\n",
       "      <td>2</td>\n",
       "      <td>2</td>\n",
       "      <td>2</td>\n",
       "      <td>5</td>\n",
       "      <td>3</td>\n",
       "      <td>1</td>\n",
       "      <td>4</td>\n",
       "      <td>2</td>\n",
       "    </tr>\n",
       "    <tr>\n",
       "      <th>4</th>\n",
       "      <td>Business</td>\n",
       "      <td>3</td>\n",
       "      <td>3</td>\n",
       "      <td>3</td>\n",
       "      <td>3</td>\n",
       "      <td>4</td>\n",
       "      <td>5</td>\n",
       "      <td>5</td>\n",
       "      <td>3</td>\n",
       "      <td>3</td>\n",
       "      <td>4</td>\n",
       "      <td>4</td>\n",
       "      <td>3</td>\n",
       "      <td>3</td>\n",
       "      <td>3</td>\n",
       "    </tr>\n",
       "    <tr>\n",
       "      <th>...</th>\n",
       "      <td>...</td>\n",
       "      <td>...</td>\n",
       "      <td>...</td>\n",
       "      <td>...</td>\n",
       "      <td>...</td>\n",
       "      <td>...</td>\n",
       "      <td>...</td>\n",
       "      <td>...</td>\n",
       "      <td>...</td>\n",
       "      <td>...</td>\n",
       "      <td>...</td>\n",
       "      <td>...</td>\n",
       "      <td>...</td>\n",
       "      <td>...</td>\n",
       "      <td>...</td>\n",
       "    </tr>\n",
       "    <tr>\n",
       "      <th>103899</th>\n",
       "      <td>Eco</td>\n",
       "      <td>2</td>\n",
       "      <td>1</td>\n",
       "      <td>2</td>\n",
       "      <td>3</td>\n",
       "      <td>2</td>\n",
       "      <td>2</td>\n",
       "      <td>2</td>\n",
       "      <td>2</td>\n",
       "      <td>3</td>\n",
       "      <td>1</td>\n",
       "      <td>4</td>\n",
       "      <td>2</td>\n",
       "      <td>3</td>\n",
       "      <td>2</td>\n",
       "    </tr>\n",
       "    <tr>\n",
       "      <th>103900</th>\n",
       "      <td>Business</td>\n",
       "      <td>4</td>\n",
       "      <td>4</td>\n",
       "      <td>4</td>\n",
       "      <td>4</td>\n",
       "      <td>2</td>\n",
       "      <td>4</td>\n",
       "      <td>5</td>\n",
       "      <td>5</td>\n",
       "      <td>5</td>\n",
       "      <td>5</td>\n",
       "      <td>5</td>\n",
       "      <td>5</td>\n",
       "      <td>5</td>\n",
       "      <td>4</td>\n",
       "    </tr>\n",
       "    <tr>\n",
       "      <th>103901</th>\n",
       "      <td>Business</td>\n",
       "      <td>1</td>\n",
       "      <td>1</td>\n",
       "      <td>1</td>\n",
       "      <td>3</td>\n",
       "      <td>4</td>\n",
       "      <td>1</td>\n",
       "      <td>5</td>\n",
       "      <td>4</td>\n",
       "      <td>3</td>\n",
       "      <td>2</td>\n",
       "      <td>4</td>\n",
       "      <td>5</td>\n",
       "      <td>5</td>\n",
       "      <td>4</td>\n",
       "    </tr>\n",
       "    <tr>\n",
       "      <th>103902</th>\n",
       "      <td>Eco</td>\n",
       "      <td>1</td>\n",
       "      <td>1</td>\n",
       "      <td>1</td>\n",
       "      <td>5</td>\n",
       "      <td>1</td>\n",
       "      <td>1</td>\n",
       "      <td>1</td>\n",
       "      <td>1</td>\n",
       "      <td>4</td>\n",
       "      <td>5</td>\n",
       "      <td>1</td>\n",
       "      <td>5</td>\n",
       "      <td>4</td>\n",
       "      <td>1</td>\n",
       "    </tr>\n",
       "    <tr>\n",
       "      <th>103903</th>\n",
       "      <td>Business</td>\n",
       "      <td>1</td>\n",
       "      <td>3</td>\n",
       "      <td>3</td>\n",
       "      <td>3</td>\n",
       "      <td>1</td>\n",
       "      <td>1</td>\n",
       "      <td>1</td>\n",
       "      <td>1</td>\n",
       "      <td>1</td>\n",
       "      <td>1</td>\n",
       "      <td>4</td>\n",
       "      <td>4</td>\n",
       "      <td>3</td>\n",
       "      <td>1</td>\n",
       "    </tr>\n",
       "  </tbody>\n",
       "</table>\n",
       "<p>103904 rows × 15 columns</p>\n",
       "</div>"
      ],
      "text/plain": [
       "           Class Inflight wifi service Departure/Arrival time convenient  \\\n",
       "0       Eco Plus                     3                                 4   \n",
       "1       Business                     3                                 2   \n",
       "2       Business                     2                                 2   \n",
       "3       Business                     2                                 5   \n",
       "4       Business                     3                                 3   \n",
       "...          ...                   ...                               ...   \n",
       "103899       Eco                     2                                 1   \n",
       "103900  Business                     4                                 4   \n",
       "103901  Business                     1                                 1   \n",
       "103902       Eco                     1                                 1   \n",
       "103903  Business                     1                                 3   \n",
       "\n",
       "       Ease of Online booking Gate location Food and drink Online boarding  \\\n",
       "0                           3             1              5               3   \n",
       "1                           3             3              1               3   \n",
       "2                           2             2              5               5   \n",
       "3                           5             5              2               2   \n",
       "4                           3             3              4               5   \n",
       "...                       ...           ...            ...             ...   \n",
       "103899                      2             3              2               2   \n",
       "103900                      4             4              2               4   \n",
       "103901                      1             3              4               1   \n",
       "103902                      1             5              1               1   \n",
       "103903                      3             3              1               1   \n",
       "\n",
       "       Seat comfort Inflight entertainment On-board service Leg room service  \\\n",
       "0                 5                      5                4                3   \n",
       "1                 1                      1                1                5   \n",
       "2                 5                      5                4                3   \n",
       "3                 2                      2                2                5   \n",
       "4                 5                      3                3                4   \n",
       "...             ...                    ...              ...              ...   \n",
       "103899            2                      2                3                1   \n",
       "103900            5                      5                5                5   \n",
       "103901            5                      4                3                2   \n",
       "103902            1                      1                4                5   \n",
       "103903            1                      1                1                1   \n",
       "\n",
       "       Baggage handling Checkin service Inflight service Cleanliness  \n",
       "0                     4               4                5           5  \n",
       "1                     3               1                4           1  \n",
       "2                     4               4                4           5  \n",
       "3                     3               1                4           2  \n",
       "4                     4               3                3           3  \n",
       "...                 ...             ...              ...         ...  \n",
       "103899                4               2                3           2  \n",
       "103900                5               5                5           4  \n",
       "103901                4               5                5           4  \n",
       "103902                1               5                4           1  \n",
       "103903                4               4                3           1  \n",
       "\n",
       "[103904 rows x 15 columns]"
      ]
     },
     "execution_count": 35,
     "metadata": {},
     "output_type": "execute_result"
    }
   ],
   "source": [
    "data[nonbinary_columns]"
   ]
  },
  {
   "cell_type": "markdown",
   "metadata": {},
   "source": [
    "К небинарными признакам применим следующий метод векторизации:\n",
    "\n",
    "Признак j, принимающий s значений, заменим на s признаков, принимащих значения 0 или 1, в зависимости от того, чему равно значение исходного признака j.\n",
    "\n",
    "Такую векторизацию осуществляет метод get_dummies:"
   ]
  },
  {
   "cell_type": "code",
   "execution_count": 36,
   "metadata": {},
   "outputs": [
    {
     "name": "stdout",
     "output_type": "stream",
     "text": [
      "Index(['Class_Business', 'Class_Eco', 'Class_Eco Plus',\n",
      "       'Inflight wifi service_0', 'Inflight wifi service_1',\n",
      "       'Inflight wifi service_2', 'Inflight wifi service_3',\n",
      "       'Inflight wifi service_4', 'Inflight wifi service_5',\n",
      "       'Departure/Arrival time convenient_0',\n",
      "       'Departure/Arrival time convenient_1',\n",
      "       'Departure/Arrival time convenient_2',\n",
      "       'Departure/Arrival time convenient_3',\n",
      "       'Departure/Arrival time convenient_4',\n",
      "       'Departure/Arrival time convenient_5', 'Ease of Online booking_0',\n",
      "       'Ease of Online booking_1', 'Ease of Online booking_2',\n",
      "       'Ease of Online booking_3', 'Ease of Online booking_4',\n",
      "       'Ease of Online booking_5', 'Gate location_0', 'Gate location_1',\n",
      "       'Gate location_2', 'Gate location_3', 'Gate location_4',\n",
      "       'Gate location_5', 'Food and drink_0', 'Food and drink_1',\n",
      "       'Food and drink_2', 'Food and drink_3', 'Food and drink_4',\n",
      "       'Food and drink_5', 'Online boarding_0', 'Online boarding_1',\n",
      "       'Online boarding_2', 'Online boarding_3', 'Online boarding_4',\n",
      "       'Online boarding_5', 'Seat comfort_0', 'Seat comfort_1',\n",
      "       'Seat comfort_2', 'Seat comfort_3', 'Seat comfort_4', 'Seat comfort_5',\n",
      "       'Inflight entertainment_0', 'Inflight entertainment_1',\n",
      "       'Inflight entertainment_2', 'Inflight entertainment_3',\n",
      "       'Inflight entertainment_4', 'Inflight entertainment_5',\n",
      "       'On-board service_0', 'On-board service_1', 'On-board service_2',\n",
      "       'On-board service_3', 'On-board service_4', 'On-board service_5',\n",
      "       'Leg room service_0', 'Leg room service_1', 'Leg room service_2',\n",
      "       'Leg room service_3', 'Leg room service_4', 'Leg room service_5',\n",
      "       'Baggage handling_1', 'Baggage handling_2', 'Baggage handling_3',\n",
      "       'Baggage handling_4', 'Baggage handling_5', 'Checkin service_0',\n",
      "       'Checkin service_1', 'Checkin service_2', 'Checkin service_3',\n",
      "       'Checkin service_4', 'Checkin service_5', 'Inflight service_0',\n",
      "       'Inflight service_1', 'Inflight service_2', 'Inflight service_3',\n",
      "       'Inflight service_4', 'Inflight service_5', 'Cleanliness_0',\n",
      "       'Cleanliness_1', 'Cleanliness_2', 'Cleanliness_3', 'Cleanliness_4',\n",
      "       'Cleanliness_5'],\n",
      "      dtype='object')\n"
     ]
    }
   ],
   "source": [
    "data_nonbinary = pd.get_dummies(data[nonbinary_columns])\n",
    "print(data_nonbinary.columns)"
   ]
  },
  {
   "cell_type": "code",
   "execution_count": 37,
   "metadata": {},
   "outputs": [
    {
     "data": {
      "text/plain": [
       "86"
      ]
     },
     "execution_count": 37,
     "metadata": {},
     "output_type": "execute_result"
    }
   ],
   "source": [
    "len(data_nonbinary.columns)"
   ]
  },
  {
   "cell_type": "markdown",
   "metadata": {},
   "source": [
    "## Нормализация количественных признаков"
   ]
  },
  {
   "cell_type": "markdown",
   "metadata": {},
   "source": [
    "Имеем следующие количественные признаки:"
   ]
  },
  {
   "cell_type": "code",
   "execution_count": 38,
   "metadata": {},
   "outputs": [
    {
     "data": {
      "text/html": [
       "<div>\n",
       "<style scoped>\n",
       "    .dataframe tbody tr th:only-of-type {\n",
       "        vertical-align: middle;\n",
       "    }\n",
       "\n",
       "    .dataframe tbody tr th {\n",
       "        vertical-align: top;\n",
       "    }\n",
       "\n",
       "    .dataframe thead th {\n",
       "        text-align: right;\n",
       "    }\n",
       "</style>\n",
       "<table border=\"1\" class=\"dataframe\">\n",
       "  <thead>\n",
       "    <tr style=\"text-align: right;\">\n",
       "      <th></th>\n",
       "      <th>Age</th>\n",
       "      <th>Flight Distance</th>\n",
       "      <th>Departure Delay in Minutes</th>\n",
       "      <th>Arrival Delay in Minutes</th>\n",
       "    </tr>\n",
       "  </thead>\n",
       "  <tbody>\n",
       "    <tr>\n",
       "      <th>count</th>\n",
       "      <td>103904.000000</td>\n",
       "      <td>103904.000000</td>\n",
       "      <td>103904.000000</td>\n",
       "      <td>103904.000000</td>\n",
       "    </tr>\n",
       "    <tr>\n",
       "      <th>mean</th>\n",
       "      <td>39.379706</td>\n",
       "      <td>1189.448375</td>\n",
       "      <td>14.815618</td>\n",
       "      <td>15.133392</td>\n",
       "    </tr>\n",
       "    <tr>\n",
       "      <th>std</th>\n",
       "      <td>15.114964</td>\n",
       "      <td>997.147281</td>\n",
       "      <td>38.230901</td>\n",
       "      <td>38.649776</td>\n",
       "    </tr>\n",
       "    <tr>\n",
       "      <th>min</th>\n",
       "      <td>7.000000</td>\n",
       "      <td>31.000000</td>\n",
       "      <td>0.000000</td>\n",
       "      <td>0.000000</td>\n",
       "    </tr>\n",
       "    <tr>\n",
       "      <th>25%</th>\n",
       "      <td>27.000000</td>\n",
       "      <td>414.000000</td>\n",
       "      <td>0.000000</td>\n",
       "      <td>0.000000</td>\n",
       "    </tr>\n",
       "    <tr>\n",
       "      <th>50%</th>\n",
       "      <td>40.000000</td>\n",
       "      <td>843.000000</td>\n",
       "      <td>0.000000</td>\n",
       "      <td>0.000000</td>\n",
       "    </tr>\n",
       "    <tr>\n",
       "      <th>75%</th>\n",
       "      <td>51.000000</td>\n",
       "      <td>1743.000000</td>\n",
       "      <td>12.000000</td>\n",
       "      <td>13.000000</td>\n",
       "    </tr>\n",
       "    <tr>\n",
       "      <th>max</th>\n",
       "      <td>85.000000</td>\n",
       "      <td>4983.000000</td>\n",
       "      <td>1592.000000</td>\n",
       "      <td>1584.000000</td>\n",
       "    </tr>\n",
       "  </tbody>\n",
       "</table>\n",
       "</div>"
      ],
      "text/plain": [
       "                 Age  Flight Distance  Departure Delay in Minutes  \\\n",
       "count  103904.000000    103904.000000               103904.000000   \n",
       "mean       39.379706      1189.448375                   14.815618   \n",
       "std        15.114964       997.147281                   38.230901   \n",
       "min         7.000000        31.000000                    0.000000   \n",
       "25%        27.000000       414.000000                    0.000000   \n",
       "50%        40.000000       843.000000                    0.000000   \n",
       "75%        51.000000      1743.000000                   12.000000   \n",
       "max        85.000000      4983.000000                 1592.000000   \n",
       "\n",
       "       Arrival Delay in Minutes  \n",
       "count             103904.000000  \n",
       "mean                  15.133392  \n",
       "std                   38.649776  \n",
       "min                    0.000000  \n",
       "25%                    0.000000  \n",
       "50%                    0.000000  \n",
       "75%                   13.000000  \n",
       "max                 1584.000000  "
      ]
     },
     "execution_count": 38,
     "metadata": {},
     "output_type": "execute_result"
    }
   ],
   "source": [
    "data_numerical = data[numerical_columns]\n",
    "data_numerical.describe()"
   ]
  },
  {
   "cell_type": "markdown",
   "metadata": {},
   "source": [
    "Выполним <b>стандартизацию</b> (<em>линейное преобразование, приводящее все значения к нулевому среднему и единичному стандартному отклонению</em>) всех количественных признаков:"
   ]
  },
  {
   "cell_type": "code",
   "execution_count": 39,
   "metadata": {},
   "outputs": [],
   "source": [
    "data_numerical = (data_numerical - data_numerical.mean(axis = 0))/data_numerical.std(axis = 0)"
   ]
  },
  {
   "cell_type": "code",
   "execution_count": 40,
   "metadata": {},
   "outputs": [
    {
     "data": {
      "text/html": [
       "<div>\n",
       "<style scoped>\n",
       "    .dataframe tbody tr th:only-of-type {\n",
       "        vertical-align: middle;\n",
       "    }\n",
       "\n",
       "    .dataframe tbody tr th {\n",
       "        vertical-align: top;\n",
       "    }\n",
       "\n",
       "    .dataframe thead th {\n",
       "        text-align: right;\n",
       "    }\n",
       "</style>\n",
       "<table border=\"1\" class=\"dataframe\">\n",
       "  <thead>\n",
       "    <tr style=\"text-align: right;\">\n",
       "      <th></th>\n",
       "      <th>Age</th>\n",
       "      <th>Flight Distance</th>\n",
       "      <th>Departure Delay in Minutes</th>\n",
       "      <th>Arrival Delay in Minutes</th>\n",
       "    </tr>\n",
       "  </thead>\n",
       "  <tbody>\n",
       "    <tr>\n",
       "      <th>count</th>\n",
       "      <td>1.039040e+05</td>\n",
       "      <td>1.039040e+05</td>\n",
       "      <td>1.039040e+05</td>\n",
       "      <td>1.039040e+05</td>\n",
       "    </tr>\n",
       "    <tr>\n",
       "      <th>mean</th>\n",
       "      <td>-2.549034e-17</td>\n",
       "      <td>8.000991e-17</td>\n",
       "      <td>1.853221e-17</td>\n",
       "      <td>1.463429e-17</td>\n",
       "    </tr>\n",
       "    <tr>\n",
       "      <th>std</th>\n",
       "      <td>1.000000e+00</td>\n",
       "      <td>1.000000e+00</td>\n",
       "      <td>1.000000e+00</td>\n",
       "      <td>1.000000e+00</td>\n",
       "    </tr>\n",
       "    <tr>\n",
       "      <th>min</th>\n",
       "      <td>-2.142229e+00</td>\n",
       "      <td>-1.161763e+00</td>\n",
       "      <td>-3.875299e-01</td>\n",
       "      <td>-3.915519e-01</td>\n",
       "    </tr>\n",
       "    <tr>\n",
       "      <th>25%</th>\n",
       "      <td>-8.190365e-01</td>\n",
       "      <td>-7.776668e-01</td>\n",
       "      <td>-3.875299e-01</td>\n",
       "      <td>-3.915519e-01</td>\n",
       "    </tr>\n",
       "    <tr>\n",
       "      <th>50%</th>\n",
       "      <td>4.103839e-02</td>\n",
       "      <td>-3.474395e-01</td>\n",
       "      <td>-3.875299e-01</td>\n",
       "      <td>-3.915519e-01</td>\n",
       "    </tr>\n",
       "    <tr>\n",
       "      <th>75%</th>\n",
       "      <td>7.687940e-01</td>\n",
       "      <td>5.551353e-01</td>\n",
       "      <td>-7.364771e-02</td>\n",
       "      <td>-5.519805e-02</td>\n",
       "    </tr>\n",
       "    <tr>\n",
       "      <th>max</th>\n",
       "      <td>3.018221e+00</td>\n",
       "      <td>3.804405e+00</td>\n",
       "      <td>4.125418e+01</td>\n",
       "      <td>4.059187e+01</td>\n",
       "    </tr>\n",
       "  </tbody>\n",
       "</table>\n",
       "</div>"
      ],
      "text/plain": [
       "                Age  Flight Distance  Departure Delay in Minutes  \\\n",
       "count  1.039040e+05     1.039040e+05                1.039040e+05   \n",
       "mean  -2.549034e-17     8.000991e-17                1.853221e-17   \n",
       "std    1.000000e+00     1.000000e+00                1.000000e+00   \n",
       "min   -2.142229e+00    -1.161763e+00               -3.875299e-01   \n",
       "25%   -8.190365e-01    -7.776668e-01               -3.875299e-01   \n",
       "50%    4.103839e-02    -3.474395e-01               -3.875299e-01   \n",
       "75%    7.687940e-01     5.551353e-01               -7.364771e-02   \n",
       "max    3.018221e+00     3.804405e+00                4.125418e+01   \n",
       "\n",
       "       Arrival Delay in Minutes  \n",
       "count              1.039040e+05  \n",
       "mean               1.463429e-17  \n",
       "std                1.000000e+00  \n",
       "min               -3.915519e-01  \n",
       "25%               -3.915519e-01  \n",
       "50%               -3.915519e-01  \n",
       "75%               -5.519805e-02  \n",
       "max                4.059187e+01  "
      ]
     },
     "execution_count": 40,
     "metadata": {},
     "output_type": "execute_result"
    }
   ],
   "source": [
    "data_numerical.describe()"
   ]
  },
  {
   "cell_type": "markdown",
   "metadata": {},
   "source": [
    "## Формирование таблицы"
   ]
  },
  {
   "cell_type": "markdown",
   "metadata": {},
   "source": [
    "Соединяем все преобразованные столбцы в одну таблицу:"
   ]
  },
  {
   "cell_type": "code",
   "execution_count": 41,
   "metadata": {},
   "outputs": [
    {
     "name": "stdout",
     "output_type": "stream",
     "text": [
      "(103904, 93)\n"
     ]
    }
   ],
   "source": [
    "target = data['satisfaction']\n",
    "data = pd.concat((data_numerical, data_nonbinary, data[binary_columns]), axis = 1)\n",
    "print(data.shape)"
   ]
  },
  {
   "cell_type": "markdown",
   "metadata": {},
   "source": [
    "Теперь она имеет следующий вид:"
   ]
  },
  {
   "cell_type": "code",
   "execution_count": 42,
   "metadata": {},
   "outputs": [
    {
     "data": {
      "text/html": [
       "<div>\n",
       "<style scoped>\n",
       "    .dataframe tbody tr th:only-of-type {\n",
       "        vertical-align: middle;\n",
       "    }\n",
       "\n",
       "    .dataframe tbody tr th {\n",
       "        vertical-align: top;\n",
       "    }\n",
       "\n",
       "    .dataframe thead th {\n",
       "        text-align: right;\n",
       "    }\n",
       "</style>\n",
       "<table border=\"1\" class=\"dataframe\">\n",
       "  <thead>\n",
       "    <tr style=\"text-align: right;\">\n",
       "      <th></th>\n",
       "      <th>Age</th>\n",
       "      <th>Flight Distance</th>\n",
       "      <th>Departure Delay in Minutes</th>\n",
       "      <th>Arrival Delay in Minutes</th>\n",
       "      <th>Class_Business</th>\n",
       "      <th>Class_Eco</th>\n",
       "      <th>Class_Eco Plus</th>\n",
       "      <th>Inflight wifi service_0</th>\n",
       "      <th>Inflight wifi service_1</th>\n",
       "      <th>Inflight wifi service_2</th>\n",
       "      <th>...</th>\n",
       "      <th>Inflight service_5</th>\n",
       "      <th>Cleanliness_0</th>\n",
       "      <th>Cleanliness_1</th>\n",
       "      <th>Cleanliness_2</th>\n",
       "      <th>Cleanliness_3</th>\n",
       "      <th>Cleanliness_4</th>\n",
       "      <th>Cleanliness_5</th>\n",
       "      <th>Gender</th>\n",
       "      <th>Customer Type</th>\n",
       "      <th>Type of Travel</th>\n",
       "    </tr>\n",
       "  </thead>\n",
       "  <tbody>\n",
       "    <tr>\n",
       "      <th>count</th>\n",
       "      <td>1.039040e+05</td>\n",
       "      <td>1.039040e+05</td>\n",
       "      <td>1.039040e+05</td>\n",
       "      <td>1.039040e+05</td>\n",
       "      <td>103904.000000</td>\n",
       "      <td>103904.000000</td>\n",
       "      <td>103904.000000</td>\n",
       "      <td>103904.000000</td>\n",
       "      <td>103904.000000</td>\n",
       "      <td>103904.000000</td>\n",
       "      <td>...</td>\n",
       "      <td>103904.000000</td>\n",
       "      <td>103904.000000</td>\n",
       "      <td>103904.000000</td>\n",
       "      <td>103904.000000</td>\n",
       "      <td>103904.000000</td>\n",
       "      <td>103904.000000</td>\n",
       "      <td>103904.000000</td>\n",
       "      <td>103904.000000</td>\n",
       "      <td>103904.000000</td>\n",
       "      <td>103904.000000</td>\n",
       "    </tr>\n",
       "    <tr>\n",
       "      <th>mean</th>\n",
       "      <td>-2.549034e-17</td>\n",
       "      <td>8.000991e-17</td>\n",
       "      <td>1.853221e-17</td>\n",
       "      <td>1.463429e-17</td>\n",
       "      <td>0.477989</td>\n",
       "      <td>0.449886</td>\n",
       "      <td>0.072124</td>\n",
       "      <td>0.029864</td>\n",
       "      <td>0.171697</td>\n",
       "      <td>0.248595</td>\n",
       "      <td>...</td>\n",
       "      <td>0.260972</td>\n",
       "      <td>0.000115</td>\n",
       "      <td>0.128176</td>\n",
       "      <td>0.155259</td>\n",
       "      <td>0.236507</td>\n",
       "      <td>0.261578</td>\n",
       "      <td>0.218365</td>\n",
       "      <td>0.492541</td>\n",
       "      <td>0.182678</td>\n",
       "      <td>0.310373</td>\n",
       "    </tr>\n",
       "    <tr>\n",
       "      <th>std</th>\n",
       "      <td>1.000000e+00</td>\n",
       "      <td>1.000000e+00</td>\n",
       "      <td>1.000000e+00</td>\n",
       "      <td>1.000000e+00</td>\n",
       "      <td>0.499518</td>\n",
       "      <td>0.497485</td>\n",
       "      <td>0.258695</td>\n",
       "      <td>0.170213</td>\n",
       "      <td>0.377119</td>\n",
       "      <td>0.432200</td>\n",
       "      <td>...</td>\n",
       "      <td>0.439167</td>\n",
       "      <td>0.010746</td>\n",
       "      <td>0.334287</td>\n",
       "      <td>0.362153</td>\n",
       "      <td>0.424939</td>\n",
       "      <td>0.439496</td>\n",
       "      <td>0.413138</td>\n",
       "      <td>0.499947</td>\n",
       "      <td>0.386404</td>\n",
       "      <td>0.462649</td>\n",
       "    </tr>\n",
       "    <tr>\n",
       "      <th>min</th>\n",
       "      <td>-2.142229e+00</td>\n",
       "      <td>-1.161763e+00</td>\n",
       "      <td>-3.875299e-01</td>\n",
       "      <td>-3.915519e-01</td>\n",
       "      <td>0.000000</td>\n",
       "      <td>0.000000</td>\n",
       "      <td>0.000000</td>\n",
       "      <td>0.000000</td>\n",
       "      <td>0.000000</td>\n",
       "      <td>0.000000</td>\n",
       "      <td>...</td>\n",
       "      <td>0.000000</td>\n",
       "      <td>0.000000</td>\n",
       "      <td>0.000000</td>\n",
       "      <td>0.000000</td>\n",
       "      <td>0.000000</td>\n",
       "      <td>0.000000</td>\n",
       "      <td>0.000000</td>\n",
       "      <td>0.000000</td>\n",
       "      <td>0.000000</td>\n",
       "      <td>0.000000</td>\n",
       "    </tr>\n",
       "    <tr>\n",
       "      <th>25%</th>\n",
       "      <td>-8.190365e-01</td>\n",
       "      <td>-7.776668e-01</td>\n",
       "      <td>-3.875299e-01</td>\n",
       "      <td>-3.915519e-01</td>\n",
       "      <td>0.000000</td>\n",
       "      <td>0.000000</td>\n",
       "      <td>0.000000</td>\n",
       "      <td>0.000000</td>\n",
       "      <td>0.000000</td>\n",
       "      <td>0.000000</td>\n",
       "      <td>...</td>\n",
       "      <td>0.000000</td>\n",
       "      <td>0.000000</td>\n",
       "      <td>0.000000</td>\n",
       "      <td>0.000000</td>\n",
       "      <td>0.000000</td>\n",
       "      <td>0.000000</td>\n",
       "      <td>0.000000</td>\n",
       "      <td>0.000000</td>\n",
       "      <td>0.000000</td>\n",
       "      <td>0.000000</td>\n",
       "    </tr>\n",
       "    <tr>\n",
       "      <th>50%</th>\n",
       "      <td>4.103839e-02</td>\n",
       "      <td>-3.474395e-01</td>\n",
       "      <td>-3.875299e-01</td>\n",
       "      <td>-3.915519e-01</td>\n",
       "      <td>0.000000</td>\n",
       "      <td>0.000000</td>\n",
       "      <td>0.000000</td>\n",
       "      <td>0.000000</td>\n",
       "      <td>0.000000</td>\n",
       "      <td>0.000000</td>\n",
       "      <td>...</td>\n",
       "      <td>0.000000</td>\n",
       "      <td>0.000000</td>\n",
       "      <td>0.000000</td>\n",
       "      <td>0.000000</td>\n",
       "      <td>0.000000</td>\n",
       "      <td>0.000000</td>\n",
       "      <td>0.000000</td>\n",
       "      <td>0.000000</td>\n",
       "      <td>0.000000</td>\n",
       "      <td>0.000000</td>\n",
       "    </tr>\n",
       "    <tr>\n",
       "      <th>75%</th>\n",
       "      <td>7.687940e-01</td>\n",
       "      <td>5.551353e-01</td>\n",
       "      <td>-7.364771e-02</td>\n",
       "      <td>-5.519805e-02</td>\n",
       "      <td>1.000000</td>\n",
       "      <td>1.000000</td>\n",
       "      <td>0.000000</td>\n",
       "      <td>0.000000</td>\n",
       "      <td>0.000000</td>\n",
       "      <td>0.000000</td>\n",
       "      <td>...</td>\n",
       "      <td>1.000000</td>\n",
       "      <td>0.000000</td>\n",
       "      <td>0.000000</td>\n",
       "      <td>0.000000</td>\n",
       "      <td>0.000000</td>\n",
       "      <td>1.000000</td>\n",
       "      <td>0.000000</td>\n",
       "      <td>1.000000</td>\n",
       "      <td>0.000000</td>\n",
       "      <td>1.000000</td>\n",
       "    </tr>\n",
       "    <tr>\n",
       "      <th>max</th>\n",
       "      <td>3.018221e+00</td>\n",
       "      <td>3.804405e+00</td>\n",
       "      <td>4.125418e+01</td>\n",
       "      <td>4.059187e+01</td>\n",
       "      <td>1.000000</td>\n",
       "      <td>1.000000</td>\n",
       "      <td>1.000000</td>\n",
       "      <td>1.000000</td>\n",
       "      <td>1.000000</td>\n",
       "      <td>1.000000</td>\n",
       "      <td>...</td>\n",
       "      <td>1.000000</td>\n",
       "      <td>1.000000</td>\n",
       "      <td>1.000000</td>\n",
       "      <td>1.000000</td>\n",
       "      <td>1.000000</td>\n",
       "      <td>1.000000</td>\n",
       "      <td>1.000000</td>\n",
       "      <td>1.000000</td>\n",
       "      <td>1.000000</td>\n",
       "      <td>1.000000</td>\n",
       "    </tr>\n",
       "  </tbody>\n",
       "</table>\n",
       "<p>8 rows × 93 columns</p>\n",
       "</div>"
      ],
      "text/plain": [
       "                Age  Flight Distance  Departure Delay in Minutes  \\\n",
       "count  1.039040e+05     1.039040e+05                1.039040e+05   \n",
       "mean  -2.549034e-17     8.000991e-17                1.853221e-17   \n",
       "std    1.000000e+00     1.000000e+00                1.000000e+00   \n",
       "min   -2.142229e+00    -1.161763e+00               -3.875299e-01   \n",
       "25%   -8.190365e-01    -7.776668e-01               -3.875299e-01   \n",
       "50%    4.103839e-02    -3.474395e-01               -3.875299e-01   \n",
       "75%    7.687940e-01     5.551353e-01               -7.364771e-02   \n",
       "max    3.018221e+00     3.804405e+00                4.125418e+01   \n",
       "\n",
       "       Arrival Delay in Minutes  Class_Business      Class_Eco  \\\n",
       "count              1.039040e+05   103904.000000  103904.000000   \n",
       "mean               1.463429e-17        0.477989       0.449886   \n",
       "std                1.000000e+00        0.499518       0.497485   \n",
       "min               -3.915519e-01        0.000000       0.000000   \n",
       "25%               -3.915519e-01        0.000000       0.000000   \n",
       "50%               -3.915519e-01        0.000000       0.000000   \n",
       "75%               -5.519805e-02        1.000000       1.000000   \n",
       "max                4.059187e+01        1.000000       1.000000   \n",
       "\n",
       "       Class_Eco Plus  Inflight wifi service_0  Inflight wifi service_1  \\\n",
       "count   103904.000000            103904.000000            103904.000000   \n",
       "mean         0.072124                 0.029864                 0.171697   \n",
       "std          0.258695                 0.170213                 0.377119   \n",
       "min          0.000000                 0.000000                 0.000000   \n",
       "25%          0.000000                 0.000000                 0.000000   \n",
       "50%          0.000000                 0.000000                 0.000000   \n",
       "75%          0.000000                 0.000000                 0.000000   \n",
       "max          1.000000                 1.000000                 1.000000   \n",
       "\n",
       "       Inflight wifi service_2  ...  Inflight service_5  Cleanliness_0  \\\n",
       "count            103904.000000  ...       103904.000000  103904.000000   \n",
       "mean                  0.248595  ...            0.260972       0.000115   \n",
       "std                   0.432200  ...            0.439167       0.010746   \n",
       "min                   0.000000  ...            0.000000       0.000000   \n",
       "25%                   0.000000  ...            0.000000       0.000000   \n",
       "50%                   0.000000  ...            0.000000       0.000000   \n",
       "75%                   0.000000  ...            1.000000       0.000000   \n",
       "max                   1.000000  ...            1.000000       1.000000   \n",
       "\n",
       "       Cleanliness_1  Cleanliness_2  Cleanliness_3  Cleanliness_4  \\\n",
       "count  103904.000000  103904.000000  103904.000000  103904.000000   \n",
       "mean        0.128176       0.155259       0.236507       0.261578   \n",
       "std         0.334287       0.362153       0.424939       0.439496   \n",
       "min         0.000000       0.000000       0.000000       0.000000   \n",
       "25%         0.000000       0.000000       0.000000       0.000000   \n",
       "50%         0.000000       0.000000       0.000000       0.000000   \n",
       "75%         0.000000       0.000000       0.000000       1.000000   \n",
       "max         1.000000       1.000000       1.000000       1.000000   \n",
       "\n",
       "       Cleanliness_5         Gender  Customer Type  Type of Travel  \n",
       "count  103904.000000  103904.000000  103904.000000   103904.000000  \n",
       "mean        0.218365       0.492541       0.182678        0.310373  \n",
       "std         0.413138       0.499947       0.386404        0.462649  \n",
       "min         0.000000       0.000000       0.000000        0.000000  \n",
       "25%         0.000000       0.000000       0.000000        0.000000  \n",
       "50%         0.000000       0.000000       0.000000        0.000000  \n",
       "75%         0.000000       1.000000       0.000000        1.000000  \n",
       "max         1.000000       1.000000       1.000000        1.000000  \n",
       "\n",
       "[8 rows x 93 columns]"
      ]
     },
     "execution_count": 42,
     "metadata": {},
     "output_type": "execute_result"
    }
   ],
   "source": [
    "data.describe()"
   ]
  },
  {
   "cell_type": "markdown",
   "metadata": {},
   "source": [
    "## Разделение данных на обучающую и тестовую выборки"
   ]
  },
  {
   "cell_type": "markdown",
   "metadata": {},
   "source": [
    "Получим <b>X</b> и <b>y</b>:"
   ]
  },
  {
   "cell_type": "code",
   "execution_count": 43,
   "metadata": {},
   "outputs": [
    {
     "data": {
      "text/plain": [
       "(103904, 93)"
      ]
     },
     "execution_count": 43,
     "metadata": {},
     "output_type": "execute_result"
    }
   ],
   "source": [
    "X = data\n",
    "y = target\n",
    "N, d = X.shape\n",
    "N, d"
   ]
  },
  {
   "cell_type": "code",
   "execution_count": 44,
   "metadata": {},
   "outputs": [
    {
     "data": {
      "text/plain": [
       "Index(['Age', 'Flight Distance', 'Departure Delay in Minutes',\n",
       "       'Arrival Delay in Minutes', 'Class_Business', 'Class_Eco',\n",
       "       'Class_Eco Plus', 'Inflight wifi service_0', 'Inflight wifi service_1',\n",
       "       'Inflight wifi service_2', 'Inflight wifi service_3',\n",
       "       'Inflight wifi service_4', 'Inflight wifi service_5',\n",
       "       'Departure/Arrival time convenient_0',\n",
       "       'Departure/Arrival time convenient_1',\n",
       "       'Departure/Arrival time convenient_2',\n",
       "       'Departure/Arrival time convenient_3',\n",
       "       'Departure/Arrival time convenient_4',\n",
       "       'Departure/Arrival time convenient_5', 'Ease of Online booking_0',\n",
       "       'Ease of Online booking_1', 'Ease of Online booking_2',\n",
       "       'Ease of Online booking_3', 'Ease of Online booking_4',\n",
       "       'Ease of Online booking_5', 'Gate location_0', 'Gate location_1',\n",
       "       'Gate location_2', 'Gate location_3', 'Gate location_4',\n",
       "       'Gate location_5', 'Food and drink_0', 'Food and drink_1',\n",
       "       'Food and drink_2', 'Food and drink_3', 'Food and drink_4',\n",
       "       'Food and drink_5', 'Online boarding_0', 'Online boarding_1',\n",
       "       'Online boarding_2', 'Online boarding_3', 'Online boarding_4',\n",
       "       'Online boarding_5', 'Seat comfort_0', 'Seat comfort_1',\n",
       "       'Seat comfort_2', 'Seat comfort_3', 'Seat comfort_4', 'Seat comfort_5',\n",
       "       'Inflight entertainment_0', 'Inflight entertainment_1',\n",
       "       'Inflight entertainment_2', 'Inflight entertainment_3',\n",
       "       'Inflight entertainment_4', 'Inflight entertainment_5',\n",
       "       'On-board service_0', 'On-board service_1', 'On-board service_2',\n",
       "       'On-board service_3', 'On-board service_4', 'On-board service_5',\n",
       "       'Leg room service_0', 'Leg room service_1', 'Leg room service_2',\n",
       "       'Leg room service_3', 'Leg room service_4', 'Leg room service_5',\n",
       "       'Baggage handling_1', 'Baggage handling_2', 'Baggage handling_3',\n",
       "       'Baggage handling_4', 'Baggage handling_5', 'Checkin service_0',\n",
       "       'Checkin service_1', 'Checkin service_2', 'Checkin service_3',\n",
       "       'Checkin service_4', 'Checkin service_5', 'Inflight service_0',\n",
       "       'Inflight service_1', 'Inflight service_2', 'Inflight service_3',\n",
       "       'Inflight service_4', 'Inflight service_5', 'Cleanliness_0',\n",
       "       'Cleanliness_1', 'Cleanliness_2', 'Cleanliness_3', 'Cleanliness_4',\n",
       "       'Cleanliness_5', 'Gender', 'Customer Type', 'Type of Travel'],\n",
       "      dtype='object')"
      ]
     },
     "execution_count": 44,
     "metadata": {},
     "output_type": "execute_result"
    }
   ],
   "source": [
    "X.columns"
   ]
  },
  {
   "cell_type": "code",
   "execution_count": 45,
   "metadata": {},
   "outputs": [
    {
     "data": {
      "text/plain": [
       "0         neutral or dissatisfied\n",
       "1         neutral or dissatisfied\n",
       "2                       satisfied\n",
       "3         neutral or dissatisfied\n",
       "4                       satisfied\n",
       "                   ...           \n",
       "103899    neutral or dissatisfied\n",
       "103900                  satisfied\n",
       "103901    neutral or dissatisfied\n",
       "103902    neutral or dissatisfied\n",
       "103903    neutral or dissatisfied\n",
       "Name: satisfaction, Length: 103904, dtype: object"
      ]
     },
     "execution_count": 45,
     "metadata": {},
     "output_type": "execute_result"
    }
   ],
   "source": [
    "y"
   ]
  },
  {
   "cell_type": "markdown",
   "metadata": {},
   "source": [
    "Разобьем данные на обучающую и тестовую выборки в пропорции 9:1 <b>(90% – обучающая выборка, 10% – тестовая)</b>:"
   ]
  },
  {
   "cell_type": "code",
   "execution_count": 46,
   "metadata": {},
   "outputs": [
    {
     "data": {
      "text/plain": [
       "(93513, 10391)"
      ]
     },
     "execution_count": 46,
     "metadata": {},
     "output_type": "execute_result"
    }
   ],
   "source": [
    "from sklearn.model_selection import train_test_split\n",
    "X_train, X_test, y_train, y_test = train_test_split(X, y, test_size = 0.1, random_state = 777)\n",
    "\n",
    "N_train, _ = X_train.shape \n",
    "N_test,  _ = X_test.shape \n",
    "\n",
    "N_train, N_test"
   ]
  },
  {
   "cell_type": "markdown",
   "metadata": {},
   "source": [
    "## Метод k-ближайших соседей (kNN)"
   ]
  },
  {
   "cell_type": "code",
   "execution_count": 47,
   "metadata": {},
   "outputs": [],
   "source": [
    "import sklearn\n",
    "from sklearn.neighbors import KNeighborsClassifier\n",
    "from sklearn.model_selection import GridSearchCV\n",
    "from sklearn.svm import SVC\n",
    "from sklearn import ensemble\n",
    "from sklearn.neural_network import MLPClassifier\n",
    "from sklearn.metrics import accuracy_score"
   ]
  },
  {
   "cell_type": "markdown",
   "metadata": {},
   "source": [
    "Переберем количество соседей от 1 до 20 и определим оптимальное (с наименьшей ошибкой кросс-валидации) количество:"
   ]
  },
  {
   "cell_type": "code",
   "execution_count": 48,
   "metadata": {},
   "outputs": [
    {
     "name": "stdout",
     "output_type": "stream",
     "text": [
      "Ошибка на кросс-валидации:  0.06368096327560957\n",
      "Оптимальное количество соседей:  12\n"
     ]
    }
   ],
   "source": [
    "grid = GridSearchCV(KNeighborsClassifier(), param_grid = {'n_neighbors': range(1, 21)}, cv = 5)\n",
    "grid.fit(X_train, y_train)\n",
    "\n",
    "best_cv_err = 1 - grid.best_score_\n",
    "best_n_neighbors = grid.best_estimator_.n_neighbors\n",
    "\n",
    "print('Ошибка на кросс-валидации: ', best_cv_err)\n",
    "print('Оптимальное количество соседей: ', best_n_neighbors)"
   ]
  },
  {
   "cell_type": "markdown",
   "metadata": {},
   "source": [
    "Обучим и запустим kNN для оптимального среди рассмотренных количества соседей:"
   ]
  },
  {
   "cell_type": "code",
   "execution_count": 49,
   "metadata": {},
   "outputs": [
    {
     "name": "stdout",
     "output_type": "stream",
     "text": [
      "Ошибка на обучающей выборке:  0.054334691433276655\n",
      "Ошибка на тестовой выборке:  0.06592243287460302\n"
     ]
    }
   ],
   "source": [
    "knn = KNeighborsClassifier()\n",
    "\n",
    "knn.set_params(n_neighbors = best_n_neighbors)\n",
    "knn.fit(X_train, y_train)\n",
    "\n",
    "err_train = np.mean(y_train != knn.predict(X_train))\n",
    "err_test  = np.mean(y_test  != knn.predict(X_test))\n",
    "\n",
    "print('Ошибка на обучающей выборке: ', err_train)\n",
    "print('Ошибка на тестовой выборке: ', err_test)"
   ]
  },
  {
   "cell_type": "markdown",
   "metadata": {},
   "source": [
    "## SVC"
   ]
  },
  {
   "cell_type": "markdown",
   "metadata": {},
   "source": [
    "Обучим и запустим метод опорных векторов:"
   ]
  },
  {
   "cell_type": "code",
   "execution_count": 50,
   "metadata": {},
   "outputs": [
    {
     "name": "stdout",
     "output_type": "stream",
     "text": [
      "Ошибка на обучающей выборке:  0.04966154438420327\n",
      "Ошибка на тестовой выборке:  0.050235780964296026\n"
     ]
    }
   ],
   "source": [
    "svc = SVC(gamma = 'auto')\n",
    "svc.fit(X_train, y_train)\n",
    "\n",
    "err_train = np.mean(y_train != svc.predict(X_train))\n",
    "err_test  = np.mean(y_test  != svc.predict(X_test))\n",
    "\n",
    "print('Ошибка на обучающей выборке: ', err_train)\n",
    "print('Ошибка на тестовой выборке: ', err_test)"
   ]
  },
  {
   "cell_type": "markdown",
   "metadata": {},
   "source": [
    "## Random Forest"
   ]
  },
  {
   "cell_type": "markdown",
   "metadata": {},
   "source": [
    "Обучим и запустим случайный лес:"
   ]
  },
  {
   "cell_type": "code",
   "execution_count": 51,
   "metadata": {},
   "outputs": [
    {
     "name": "stdout",
     "output_type": "stream",
     "text": [
      "Ошибка на обучающей выборке:  0.0\n",
      "Ошибка на тестовой выборке:  0.03955345972476181\n"
     ]
    }
   ],
   "source": [
    "rf = ensemble.RandomForestClassifier(n_estimators = 100)\n",
    "rf.fit(X_train, y_train)\n",
    "\n",
    "err_train = np.mean(y_train != rf.predict(X_train))\n",
    "err_test  = np.mean(y_test  != rf.predict(X_test))\n",
    "\n",
    "print('Ошибка на обучающей выборке: ', err_train)\n",
    "print('Ошибка на тестовой выборке: ', err_test)"
   ]
  },
  {
   "cell_type": "markdown",
   "metadata": {},
   "source": [
    "## Extremely Randomized Trees"
   ]
  },
  {
   "cell_type": "markdown",
   "metadata": {},
   "source": [
    "Обучим и запустим экстремально случайный лес:"
   ]
  },
  {
   "cell_type": "code",
   "execution_count": 52,
   "metadata": {},
   "outputs": [
    {
     "name": "stdout",
     "output_type": "stream",
     "text": [
      "Ошибка на обучающей выборке:  0.0\n",
      "Ошибка на тестовой выборке:  0.03859108844192089\n"
     ]
    }
   ],
   "source": [
    "ert = ensemble.ExtraTreesClassifier(n_estimators = 100).fit(X_train, y_train)\n",
    "\n",
    "err_train = np.mean(y_train != ert.predict(X_train))\n",
    "err_test  = np.mean(y_test  != ert.predict(X_test))\n",
    "\n",
    "print('Ошибка на обучающей выборке: ', err_train)\n",
    "print('Ошибка на тестовой выборке: ', err_test)"
   ]
  },
  {
   "cell_type": "markdown",
   "metadata": {},
   "source": [
    "## AdaBoost"
   ]
  },
  {
   "cell_type": "markdown",
   "metadata": {},
   "source": [
    "Обучим и запустим алгоритм AdaBoost:"
   ]
  },
  {
   "cell_type": "code",
   "execution_count": 53,
   "metadata": {},
   "outputs": [
    {
     "name": "stdout",
     "output_type": "stream",
     "text": [
      "Ошибка на обучающей выборке:  0.0702576112412178\n",
      "Ошибка на тестовой выборке:  0.07160042344336445\n"
     ]
    }
   ],
   "source": [
    "ada = ensemble.AdaBoostClassifier(n_estimators = 100)\n",
    "ada.fit(X_train, y_train)\n",
    "\n",
    "err_train = np.mean(y_train != ada.predict(X_train))\n",
    "err_test = np.mean(y_test != ada.predict(X_test))\n",
    "\n",
    "print('Ошибка на обучающей выборке: ', err_train)\n",
    "print('Ошибка на тестовой выборке: ', err_test)"
   ]
  },
  {
   "cell_type": "markdown",
   "metadata": {},
   "source": [
    "## GBT"
   ]
  },
  {
   "cell_type": "markdown",
   "metadata": {},
   "source": [
    "Обучим и запустим градиентный бустинг деревьев решений:"
   ]
  },
  {
   "cell_type": "code",
   "execution_count": 54,
   "metadata": {},
   "outputs": [
    {
     "name": "stdout",
     "output_type": "stream",
     "text": [
      "Ошибка на обучающей выборке:  0.055286430763637144\n",
      "Ошибка на тестовой выборке:  0.056394957174477914\n"
     ]
    }
   ],
   "source": [
    "gbt = ensemble.GradientBoostingClassifier(n_estimators = 100)\n",
    "gbt.fit(X_train, y_train)\n",
    "\n",
    "err_train = np.mean(y_train != gbt.predict(X_train))\n",
    "err_test = np.mean(y_test != gbt.predict(X_test))\n",
    "\n",
    "print('Ошибка на обучающей выборке: ', err_train)\n",
    "print('Ошибка на тестовой выборке: ', err_test)"
   ]
  },
  {
   "cell_type": "markdown",
   "metadata": {},
   "source": [
    "## Общие выводы\n",
    "***\n",
    "<b>Выводы о рассматриваемой выборке</b>:\n",
    "\n",
    "> <ul>\n",
    ">     <li>Выборка является более менее сбалансированной <em>(56.7% на 43.3%)</em>.</li>\n",
    ">     <li>Количество мужчин и женщин в данной выборке примерно одинаковое.</li>\n",
    ">     <li>Значительное большинство клиентов авиакомпании являются постоянными.</li>\n",
    ">     <li>Большая часть клиентов совершили перелет ради деловой встречи, а не по личным делам.</li>\n",
    ">     <li>Примерно половина пассажиров находилась в бизнес-классе.</li>\n",
    ">     <li>Более 60% пассажиров остались довольны сервисом по транспортировке багажа (поставили оценки 4-5 из 5).</li>\n",
    ">     <li>Более 50% пассажирам было удобно сидеть на их креслах (поставили оценки 4-5 из 5).</li>\n",
    ">     <li>Была замечена большая корреляция <em>(96%)</em> между признаками 'Задержка отправления в минутах' и 'Задержка прибытия в минутах' (что является вполне логичным и было подробно рассмотрено выше).</li>\n",
    ">     <li>Большинство постоянных клиентов авиакомпании находятся в возрасте между 30 и 50 годами (в среднем их возраст немного больше 40 лет). Возрастной диапазон непостоянных клиентов немного меньше (от 25 до 40 лет, в среднем - немного меньше 30).</li>\n",
    ">     <li>Клиенты, расстояние полета которых является большим, в основном совершают перелет в бизнес-классе.</li>\n",
    ">     <li>Чем большее расстояние пассажир самолета преодолевает (соответственно, дольше находится в полете), тем он больше доволен развлечениями в полете и дополнительным пространством для ног (в среднем).</li>\n",
    ">     <li>Большинство пассажиров, совершивших перелет в эконом плюс или эконом-классе, остались недовольны полетом, а те, кому посчастливилось совершить полет в бизнес-классе, довольны.</li>\n",
    ">     <li>Практически все пассажиры, которые оценили wifi сервис на 5 из 5 баллов, остались довольны полетом.</li>\n",
    ">     <li>Большинство пассажиров, которые оценили удобство кресел и дополнительное свободное место для ног на 4 и 5 баллов из 5, остались довольны полетом.\n",
    "> </ul>\n",
    "\n",
    "***\n",
    "<b>Выводы о результатах классификации</b>:\n",
    "\n",
    "> <ul>\n",
    ">     <li>Для оптимального (с наименьшей ошибкой кросс-валидации) количества соседей было получено, что метод kNN ошибся на обучающей выборке в <em>5.5%</em> случаев, а на тестовой - в <em>6.6%</em> при обучении на 93.5 тыс. данных и тестировании на 10 тыс.</li>\n",
    ">     <li>Для метода опорных векторов ошибка как на обучающей, так и на тестовой выборке составила <em>5%</em>.</li>\n",
    ">     <li>Для классификаторов случайный лес и экстремально случайный лес ошибка на обучащей выборке не наблюдалась, а на тестовой составила <em>4%</em>.</li>\n",
    ">     <li>Для алгоритма AdaBoost ошибка на обучающей выборке составила <em>7%</em>, а на тестовой – <em>7.2%</em>.</li>\n",
    ">     <li>Для градиентного бустинга деревьев решений ошибка на обучающей и тестовой выборках составила <em>5.5% и 5.6%</em> соответственно.</li>\n",
    ">     <li>Лучший результат показали классификаторы случайный и экстремально случайный лес (ошибка на тестовой выборке <em>4%).</em></li>\n",
    "</ul>\n",
    "\n",
    "***"
   ]
  },
  {
   "attachments": {},
   "cell_type": "markdown",
   "metadata": {},
   "source": [
    "## Нейронная сеть"
   ]
  },
  {
   "cell_type": "code",
   "execution_count": 55,
   "metadata": {},
   "outputs": [],
   "source": [
    "import sklearn\n",
    "from sklearn.neural_network import MLPClassifier\n",
    "from sklearn.metrics import accuracy_score, confusion_matrix, ConfusionMatrixDisplay\n",
    "from sklearn.model_selection import train_test_split"
   ]
  },
  {
   "attachments": {},
   "cell_type": "markdown",
   "metadata": {},
   "source": [
    "### Разделение данных на обучающу и тестовую выборку"
   ]
  },
  {
   "attachments": {},
   "cell_type": "markdown",
   "metadata": {},
   "source": [
    "Общее количество данных:"
   ]
  },
  {
   "cell_type": "code",
   "execution_count": 56,
   "metadata": {},
   "outputs": [
    {
     "data": {
      "text/plain": [
       "(103904, 93)"
      ]
     },
     "execution_count": 56,
     "metadata": {},
     "output_type": "execute_result"
    }
   ],
   "source": [
    "N, d"
   ]
  },
  {
   "attachments": {},
   "cell_type": "markdown",
   "metadata": {},
   "source": [
    "Возьмем только часть данных, потому что обучение нейронной сети требует много времени"
   ]
  },
  {
   "cell_type": "code",
   "execution_count": 57,
   "metadata": {},
   "outputs": [
    {
     "data": {
      "text/plain": [
       "((25000, 93), (3000, 93))"
      ]
     },
     "execution_count": 57,
     "metadata": {},
     "output_type": "execute_result"
    }
   ],
   "source": [
    "N_train = 25000\n",
    "N_test = 3000\n",
    "\n",
    "X_train, X_test, y_train, y_test = train_test_split(X, y, \n",
    "                                                    train_size = N_train, test_size = N_test, \n",
    "                                                    stratify = y, random_state = 2)\n",
    "\n",
    "X_train.shape, X_test.shape "
   ]
  },
  {
   "attachments": {},
   "cell_type": "markdown",
   "metadata": {},
   "source": [
    "### Подбор гиперпараметров\n",
    "\n",
    "Подбирать гиперпарраметры будет двумя способами:\n",
    "\n",
    "**Первый способ**:\n",
    "1. Подбор параметра `alpha` для одного скрытого слоя из 50 нейронов (`alpha_local_opt`)\n",
    "2. Подбор количества нейронов для одного скрытого слоя при `alpha_local_opt` (`hidden_layer_local_opt_1`)\n",
    "3. Обучение нейронной сети при `alpha_local_opt` и количестве нейронов одного скрытого слоя, равного `hidden_layer_local_opt_1`\n",
    "4. Подбор количества нейронов для второго скрытого слоя, при количестве нейронов первого скрытого слоя, равного  `hidden_layer_local_opt_1`, и параметра `alpha = alpha_local_opt`\n",
    "5. Обучение нейронной сети при `alpha_local_opt` и количестве нейронов первого скрытого слоя, равного `hidden_layer_local_opt_1` и количестве нейронов второго скрытого слоя, равного `hidden_layer_local_opt_2`\n",
    "\n",
    "**Второй способ**:\n",
    "Во втором способе будем одновременно перебирать гиперпараметры в некоторой окресностях, полученных ранее. \n",
    "Перебираемы гиперпараметры:\n",
    "* `alhpa`;\n",
    "* Количество нейронов первого скрытого слоя;\n",
    "* Количество нейронов второго скрытого слоя."
   ]
  },
  {
   "attachments": {},
   "cell_type": "markdown",
   "metadata": {},
   "source": [
    "### Первый способ перебор гиперпараметров\n",
    "\n",
    "#### Подбор оптимального параметра регуляризации `alpha` (для 1 скрытого слоя из 50 нейронов)"
   ]
  },
  {
   "cell_type": "code",
   "execution_count": 58,
   "metadata": {},
   "outputs": [
    {
     "name": "stdout",
     "output_type": "stream",
     "text": [
      "CPU times: total: 24min 33s\n",
      "Wall time: 4min 33s\n"
     ]
    }
   ],
   "source": [
    "%%time\n",
    "alpha_arr = np.logspace(-3, 2, 21)\n",
    "test_err = []\n",
    "train_err = []\n",
    "train_acc = []\n",
    "test_acc = []\n",
    "\n",
    "for alpha in alpha_arr:\n",
    "    mlp_model = MLPClassifier(alpha = alpha, \n",
    "                              hidden_layer_sizes = 50,\n",
    "                              solver = 'lbfgs', \n",
    "                              max_iter = 1000, \n",
    "                              activation = 'logistic',\n",
    "                              random_state = 42)\n",
    "    \n",
    "    \n",
    "    mlp_model.fit(X_train, y_train)\n",
    "\n",
    "    y_train_pred = mlp_model.predict(X_train)\n",
    "    y_test_pred = mlp_model.predict(X_test)\n",
    "    \n",
    "    train_err.append(np.mean(y_train != y_train_pred))\n",
    "    test_err.append(np.mean(y_test != y_test_pred))\n",
    "    train_acc.append(accuracy_score(y_train, y_train_pred))\n",
    "    test_acc.append(accuracy_score(y_test, y_test_pred))"
   ]
  },
  {
   "cell_type": "code",
   "execution_count": 59,
   "metadata": {},
   "outputs": [
    {
     "data": {
      "image/png": "[encoded data removed]",
      "text/plain": [
       "<Figure size 432x288 with 1 Axes>"
      ]
     },
     "metadata": {
      "needs_background": "light"
     },
     "output_type": "display_data"
    }
   ],
   "source": [
    "plt.semilogx(alpha_arr, train_err, 'b-o', label = 'train')\n",
    "plt.semilogx(alpha_arr, test_err, 'r-o', label = 'test')\n",
    "plt.xlim([np.min(alpha_arr), np.max(alpha_arr)])\n",
    "plt.title('Error vs. alpha')\n",
    "plt.xlabel('Alpha')\n",
    "plt.ylabel('Error')\n",
    "plt.legend()\n",
    "pass"
   ]
  },
  {
   "cell_type": "code",
   "execution_count": 60,
   "metadata": {},
   "outputs": [
    {
     "data": {
      "image/png": "[encoded data removed]",
      "text/plain": [
       "<Figure size 432x288 with 1 Axes>"
      ]
     },
     "metadata": {
      "needs_background": "light"
     },
     "output_type": "display_data"
    }
   ],
   "source": [
    "plt.semilogx(alpha_arr, train_acc, 'r-o', label = 'train')\n",
    "plt.semilogx(alpha_arr, test_acc, 'b-o', label = 'test')\n",
    "plt.xlim([np.min(alpha_arr), np.max(alpha_arr)])\n",
    "plt.title('Accuracy vs. alpha')\n",
    "plt.xlabel('Alpha')\n",
    "plt.ylabel('Accuracy')\n",
    "plt.legend()\n",
    "pass"
   ]
  },
  {
   "cell_type": "code",
   "execution_count": 61,
   "metadata": {},
   "outputs": [
    {
     "name": "stdout",
     "output_type": "stream",
     "text": [
      "Минимальная ошибка на обучающей выборке:  4e-05\n",
      "Минимальная ошибка на тестовой выборке:  0.04466666666666667\n"
     ]
    }
   ],
   "source": [
    "min_train_err = np.min(train_err)\n",
    "min_test_err = np.min(test_err)\n",
    "print('Минимальная ошибка на обучающей выборке: ', min_train_err)\n",
    "print('Минимальная ошибка на тестовой выборке: ', min_test_err)"
   ]
  },
  {
   "cell_type": "code",
   "execution_count": 62,
   "metadata": {},
   "outputs": [
    {
     "name": "stdout",
     "output_type": "stream",
     "text": [
      "Оптимальное значение alpha:  1.7782794100389228\n"
     ]
    }
   ],
   "source": [
    "alpha_local_opt = alpha_arr[test_err == min_test_err][0]\n",
    "print('Оптимальное значение alpha: ', alpha_local_opt)"
   ]
  },
  {
   "attachments": {},
   "cell_type": "markdown",
   "metadata": {},
   "source": [
    "#### Обучение классификатора при значении `alpha_local_opt` (для 1 скрытого слоя из 50 нейронов)"
   ]
  },
  {
   "cell_type": "code",
   "execution_count": 63,
   "metadata": {},
   "outputs": [
    {
     "name": "stdout",
     "output_type": "stream",
     "text": [
      "CPU times: total: 2min 12s\n",
      "Wall time: 23.2 s\n"
     ]
    }
   ],
   "source": [
    "%%time\n",
    "mlp_model = MLPClassifier(alpha = alpha_local_opt, \n",
    "                          hidden_layer_sizes = 50,\n",
    "                          solver = 'lbfgs', \n",
    "                          max_iter = 1000, \n",
    "                          activation = 'logistic',\n",
    "                          random_state = 42)\n",
    "\n",
    "mlp_model.fit(X_train, y_train)\n",
    "pass"
   ]
  },
  {
   "cell_type": "code",
   "execution_count": 64,
   "metadata": {},
   "outputs": [
    {
     "name": "stdout",
     "output_type": "stream",
     "text": [
      "Ошибка на обучающей выборке:  0.013\n",
      "Ошибка на тестовой выборке:  0.04466666666666667\n"
     ]
    }
   ],
   "source": [
    "y_train_pred = mlp_model.predict(X_train)\n",
    "y_test_pred = mlp_model.predict(X_test)\n",
    "\n",
    "err_train = np.mean(y_train != y_train_pred)\n",
    "err_test = np.mean(y_test != y_test_pred)\n",
    "\n",
    "print('Ошибка на обучающей выборке: ', err_train)\n",
    "print('Ошибка на тестовой выборке: ', err_test)"
   ]
  },
  {
   "cell_type": "code",
   "execution_count": 65,
   "metadata": {},
   "outputs": [
    {
     "data": {
      "image/png": "[encoded data removed]",
      "text/plain": [
       "<Figure size 432x288 with 2 Axes>"
      ]
     },
     "metadata": {
      "needs_background": "light"
     },
     "output_type": "display_data"
    }
   ],
   "source": [
    "cm = confusion_matrix(y_test, y_test_pred, labels=mlp_model.classes_)\n",
    "disp = ConfusionMatrixDisplay(confusion_matrix=cm, display_labels=mlp_model.classes_)\n",
    "disp.plot()\n",
    "plt.show()"
   ]
  },
  {
   "attachments": {},
   "cell_type": "markdown",
   "metadata": {},
   "source": [
    "#### Подбор `hidden_layer_local_opt_1` для `alpha_local_opt` (для 1 скрытого слоя из 50 нейронов)"
   ]
  },
  {
   "cell_type": "code",
   "execution_count": 66,
   "metadata": {},
   "outputs": [
    {
     "name": "stdout",
     "output_type": "stream",
     "text": [
      "CPU times: total: 1h 39s\n",
      "Wall time: 11min 22s\n"
     ]
    }
   ],
   "source": [
    "%%time\n",
    "hidden_layer = np.arange(1, 51)\n",
    "test_err = []\n",
    "train_err = []\n",
    "train_acc = []\n",
    "test_acc = []\n",
    "\n",
    "for size in hidden_layer:\n",
    "    mlp_model = MLPClassifier(alpha = alpha_local_opt, \n",
    "                              hidden_layer_sizes = size,\n",
    "                              solver = 'lbfgs', \n",
    "                              max_iter = 1000, \n",
    "                              activation = 'logistic',\n",
    "                              random_state = 42)\n",
    "    \n",
    "    \n",
    "    mlp_model.fit(X_train, y_train)\n",
    "\n",
    "    y_train_pred = mlp_model.predict(X_train)\n",
    "    y_test_pred = mlp_model.predict(X_test)\n",
    "    \n",
    "    train_err.append(np.mean(y_train != y_train_pred))\n",
    "    test_err.append(np.mean(y_test != y_test_pred))\n",
    "    train_acc.append(accuracy_score(y_train, y_train_pred))\n",
    "    test_acc.append(accuracy_score(y_test, y_test_pred))"
   ]
  },
  {
   "cell_type": "code",
   "execution_count": 67,
   "metadata": {},
   "outputs": [
    {
     "data": {
      "image/png": "[encoded data removed]",
      "text/plain": [
       "<Figure size 432x288 with 1 Axes>"
      ]
     },
     "metadata": {
      "needs_background": "light"
     },
     "output_type": "display_data"
    }
   ],
   "source": [
    "plt.semilogx(hidden_layer, train_err, 'b-o', label = 'train')\n",
    "plt.semilogx(hidden_layer, test_err, 'r-o', label = 'test')\n",
    "plt.xlim([np.min(hidden_layer), np.max(hidden_layer)])\n",
    "plt.title('Error vs. number of hidden neurons')\n",
    "plt.xlabel('Number of hidden neurons')\n",
    "plt.ylabel('Error')\n",
    "plt.legend()\n",
    "pass"
   ]
  },
  {
   "cell_type": "code",
   "execution_count": 68,
   "metadata": {},
   "outputs": [
    {
     "data": {
      "image/png": "[encoded data removed]",
      "text/plain": [
       "<Figure size 432x288 with 1 Axes>"
      ]
     },
     "metadata": {
      "needs_background": "light"
     },
     "output_type": "display_data"
    }
   ],
   "source": [
    "plt.semilogx(hidden_layer, train_acc, 'b-o', label = 'train')\n",
    "plt.semilogx(hidden_layer, test_acc, 'r-o', label = 'test')\n",
    "plt.xlim([np.min(hidden_layer), np.max(hidden_layer)])\n",
    "plt.title('Accuracy vs. number of hidden neurons')\n",
    "plt.xlabel('Number of hidden neurons')\n",
    "plt.ylabel('Accuracy')\n",
    "plt.legend()\n",
    "pass"
   ]
  },
  {
   "cell_type": "code",
   "execution_count": 69,
   "metadata": {},
   "outputs": [
    {
     "name": "stdout",
     "output_type": "stream",
     "text": [
      "Минимальная ошибка на обучающей выборке:  0.013\n",
      "Минимальная ошибка на тестовой выборке:  0.041666666666666664\n"
     ]
    }
   ],
   "source": [
    "min_train_err = np.min(train_err)\n",
    "min_test_err = np.min(test_err)\n",
    "print('Минимальная ошибка на обучающей выборке: ', min_train_err)\n",
    "print('Минимальная ошибка на тестовой выборке: ', min_test_err)"
   ]
  },
  {
   "cell_type": "code",
   "execution_count": 70,
   "metadata": {},
   "outputs": [
    {
     "data": {
      "image/png": "[encoded data removed]",
      "text/plain": [
       "<Figure size 432x288 with 2 Axes>"
      ]
     },
     "metadata": {
      "needs_background": "light"
     },
     "output_type": "display_data"
    }
   ],
   "source": [
    "cm = confusion_matrix(y_test, y_test_pred, labels=mlp_model.classes_)\n",
    "disp = ConfusionMatrixDisplay(confusion_matrix=cm, display_labels=mlp_model.classes_)\n",
    "disp.plot()\n",
    "plt.show()"
   ]
  },
  {
   "cell_type": "code",
   "execution_count": 71,
   "metadata": {},
   "outputs": [
    {
     "name": "stdout",
     "output_type": "stream",
     "text": [
      "Оптимальное значение количества нейронов скрытого слоя:  31\n"
     ]
    }
   ],
   "source": [
    "hidden_layer_local_opt_1 = hidden_layer[test_err == min_test_err][0]\n",
    "print('Оптимальное значение количества нейронов скрытого слоя: ', hidden_layer_local_opt_1)"
   ]
  },
  {
   "attachments": {},
   "cell_type": "markdown",
   "metadata": {},
   "source": [
    "#### Обучение нейронной сети `alpha_local_opt` (для 1 скрытого слоя из 50 нейронов) и `hidden_layer_local_opt_1`"
   ]
  },
  {
   "cell_type": "code",
   "execution_count": 72,
   "metadata": {},
   "outputs": [
    {
     "name": "stdout",
     "output_type": "stream",
     "text": [
      "CPU times: total: 1min 53s\n",
      "Wall time: 23.2 s\n"
     ]
    },
    {
     "data": {
      "text/html": [
       "<style>#sk-container-id-1 {color: black;background-color: white;}#sk-container-id-1 pre{padding: 0;}#sk-container-id-1 div.sk-toggleable {background-color: white;}#sk-container-id-1 label.sk-toggleable__label {cursor: pointer;display: block;width: 100%;margin-bottom: 0;padding: 0.3em;box-sizing: border-box;text-align: center;}#sk-container-id-1 label.sk-toggleable__label-arrow:before {content: \"▸\";float: left;margin-right: 0.25em;color: #696969;}#sk-container-id-1 label.sk-toggleable__label-arrow:hover:before {color: black;}#sk-container-id-1 div.sk-estimator:hover label.sk-toggleable__label-arrow:before {color: black;}#sk-container-id-1 div.sk-toggleable__content {max-height: 0;max-width: 0;overflow: hidden;text-align: left;background-color: #f0f8ff;}#sk-container-id-1 div.sk-toggleable__content pre {margin: 0.2em;color: black;border-radius: 0.25em;background-color: #f0f8ff;}#sk-container-id-1 input.sk-toggleable__control:checked~div.sk-toggleable__content {max-height: 200px;max-width: 100%;overflow: auto;}#sk-container-id-1 input.sk-toggleable__control:checked~label.sk-toggleable__label-arrow:before {content: \"▾\";}#sk-container-id-1 div.sk-estimator input.sk-toggleable__control:checked~label.sk-toggleable__label {background-color: #d4ebff;}#sk-container-id-1 div.sk-label input.sk-toggleable__control:checked~label.sk-toggleable__label {background-color: #d4ebff;}#sk-container-id-1 input.sk-hidden--visually {border: 0;clip: rect(1px 1px 1px 1px);clip: rect(1px, 1px, 1px, 1px);height: 1px;margin: -1px;overflow: hidden;padding: 0;position: absolute;width: 1px;}#sk-container-id-1 div.sk-estimator {font-family: monospace;background-color: #f0f8ff;border: 1px dotted black;border-radius: 0.25em;box-sizing: border-box;margin-bottom: 0.5em;}#sk-container-id-1 div.sk-estimator:hover {background-color: #d4ebff;}#sk-container-id-1 div.sk-parallel-item::after {content: \"\";width: 100%;border-bottom: 1px solid gray;flex-grow: 1;}#sk-container-id-1 div.sk-label:hover label.sk-toggleable__label {background-color: #d4ebff;}#sk-container-id-1 div.sk-serial::before {content: \"\";position: absolute;border-left: 1px solid gray;box-sizing: border-box;top: 0;bottom: 0;left: 50%;z-index: 0;}#sk-container-id-1 div.sk-serial {display: flex;flex-direction: column;align-items: center;background-color: white;padding-right: 0.2em;padding-left: 0.2em;position: relative;}#sk-container-id-1 div.sk-item {position: relative;z-index: 1;}#sk-container-id-1 div.sk-parallel {display: flex;align-items: stretch;justify-content: center;background-color: white;position: relative;}#sk-container-id-1 div.sk-item::before, #sk-container-id-1 div.sk-parallel-item::before {content: \"\";position: absolute;border-left: 1px solid gray;box-sizing: border-box;top: 0;bottom: 0;left: 50%;z-index: -1;}#sk-container-id-1 div.sk-parallel-item {display: flex;flex-direction: column;z-index: 1;position: relative;background-color: white;}#sk-container-id-1 div.sk-parallel-item:first-child::after {align-self: flex-end;width: 50%;}#sk-container-id-1 div.sk-parallel-item:last-child::after {align-self: flex-start;width: 50%;}#sk-container-id-1 div.sk-parallel-item:only-child::after {width: 0;}#sk-container-id-1 div.sk-dashed-wrapped {border: 1px dashed gray;margin: 0 0.4em 0.5em 0.4em;box-sizing: border-box;padding-bottom: 0.4em;background-color: white;}#sk-container-id-1 div.sk-label label {font-family: monospace;font-weight: bold;display: inline-block;line-height: 1.2em;}#sk-container-id-1 div.sk-label-container {text-align: center;}#sk-container-id-1 div.sk-container {/* jupyter's `normalize.less` sets `[hidden] { display: none; }` but bootstrap.min.css set `[hidden] { display: none !important; }` so we also need the `!important` here to be able to override the default hidden behavior on the sphinx rendered scikit-learn.org. See: https://github.com/scikit-learn/scikit-learn/issues/21755 */display: inline-block !important;position: relative;}#sk-container-id-1 div.sk-text-repr-fallback {display: none;}</style><div id=\"sk-container-id-1\" class=\"sk-top-container\"><div class=\"sk-text-repr-fallback\"><pre>MLPClassifier(activation=&#x27;logistic&#x27;, alpha=1.7782794100389228,\n",
       "              hidden_layer_sizes=31, max_iter=1000, random_state=42,\n",
       "              solver=&#x27;lbfgs&#x27;)</pre><b>In a Jupyter environment, please rerun this cell to show the HTML representation or trust the notebook. <br />On GitHub, the HTML representation is unable to render, please try loading this page with nbviewer.org.</b></div><div class=\"sk-container\" hidden><div class=\"sk-item\"><div class=\"sk-estimator sk-toggleable\"><input class=\"sk-toggleable__control sk-hidden--visually\" id=\"sk-estimator-id-1\" type=\"checkbox\" checked><label for=\"sk-estimator-id-1\" class=\"sk-toggleable__label sk-toggleable__label-arrow\">MLPClassifier</label><div class=\"sk-toggleable__content\"><pre>MLPClassifier(activation=&#x27;logistic&#x27;, alpha=1.7782794100389228,\n",
       "              hidden_layer_sizes=31, max_iter=1000, random_state=42,\n",
       "              solver=&#x27;lbfgs&#x27;)</pre></div></div></div></div></div>"
      ],
      "text/plain": [
       "MLPClassifier(activation='logistic', alpha=1.7782794100389228,\n",
       "              hidden_layer_sizes=31, max_iter=1000, random_state=42,\n",
       "              solver='lbfgs')"
      ]
     },
     "execution_count": 72,
     "metadata": {},
     "output_type": "execute_result"
    }
   ],
   "source": [
    "%%time\n",
    "mlp_model = MLPClassifier(alpha = alpha_local_opt, \n",
    "                          hidden_layer_sizes = hidden_layer_local_opt_1,\n",
    "                          solver = 'lbfgs', \n",
    "                          max_iter = 1000, \n",
    "                          activation = 'logistic',\n",
    "                          random_state = 42)\n",
    "\n",
    "mlp_model.fit(X_train, y_train)"
   ]
  },
  {
   "cell_type": "code",
   "execution_count": 73,
   "metadata": {},
   "outputs": [
    {
     "name": "stdout",
     "output_type": "stream",
     "text": [
      "Ошибка на обучающей выборке:  0.01688\n",
      "Ошибка на тестовой выборке:  0.041666666666666664\n"
     ]
    }
   ],
   "source": [
    "y_train_pred = mlp_model.predict(X_train)\n",
    "y_test_pred = mlp_model.predict(X_test)\n",
    "\n",
    "err_train = np.mean(y_train != y_train_pred)\n",
    "err_test = np.mean(y_test != y_test_pred)\n",
    "\n",
    "print('Ошибка на обучающей выборке: ', err_train)\n",
    "print('Ошибка на тестовой выборке: ', err_test)"
   ]
  },
  {
   "cell_type": "code",
   "execution_count": 74,
   "metadata": {},
   "outputs": [
    {
     "data": {
      "image/png": "[encoded data removed]",
      "text/plain": [
       "<Figure size 432x288 with 2 Axes>"
      ]
     },
     "metadata": {
      "needs_background": "light"
     },
     "output_type": "display_data"
    }
   ],
   "source": [
    "cm = confusion_matrix(y_test, y_test_pred, labels=mlp_model.classes_)\n",
    "disp = ConfusionMatrixDisplay(confusion_matrix=cm, display_labels=mlp_model.classes_)\n",
    "disp.plot()\n",
    "plt.show()"
   ]
  },
  {
   "attachments": {},
   "cell_type": "markdown",
   "metadata": {},
   "source": [
    "#### Подбор `hidden_layer_local_opt_2` при `alpha_local_opt` (для 1 скрытого слоя из 50 нейронов) и `hidden_layer_local_opt_1`"
   ]
  },
  {
   "cell_type": "code",
   "execution_count": 76,
   "metadata": {},
   "outputs": [
    {
     "name": "stdout",
     "output_type": "stream",
     "text": [
      "CPU times: total: 5h 5min 44s\n",
      "Wall time: 54min 25s\n"
     ]
    }
   ],
   "source": [
    "%%time\n",
    "hidden_layer = np.arange(1, 51)\n",
    "test_err = []\n",
    "train_err = []\n",
    "train_acc = []\n",
    "test_acc = []\n",
    "\n",
    "for size in hidden_layer:\n",
    "    mlp_model = MLPClassifier(alpha = alpha_local_opt, \n",
    "                              hidden_layer_sizes = (hidden_layer_local_opt_1, size),\n",
    "                              solver = 'lbfgs', \n",
    "                              max_iter = 1000, \n",
    "                              activation = 'logistic',\n",
    "                              random_state = 42)\n",
    "    \n",
    "    mlp_model.fit(X_train, y_train)\n",
    "\n",
    "    y_train_pred = mlp_model.predict(X_train)\n",
    "    y_test_pred = mlp_model.predict(X_test)\n",
    "    \n",
    "    train_err.append(np.mean(y_train != y_train_pred))\n",
    "    test_err.append(np.mean(y_test != y_test_pred))\n",
    "    train_acc.append(accuracy_score(y_train, y_train_pred))\n",
    "    test_acc.append(accuracy_score(y_test, y_test_pred))"
   ]
  },
  {
   "cell_type": "code",
   "execution_count": 77,
   "metadata": {},
   "outputs": [
    {
     "data": {
      "image/png": "[encoded data removed]",
      "text/plain": [
       "<Figure size 432x288 with 1 Axes>"
      ]
     },
     "metadata": {
      "needs_background": "light"
     },
     "output_type": "display_data"
    }
   ],
   "source": [
    "plt.semilogx(hidden_layer, train_err, 'b-o', label = 'train')\n",
    "plt.semilogx(hidden_layer, test_err, 'r-o', label = 'test')\n",
    "plt.xlim([np.min(hidden_layer), np.max(hidden_layer)])\n",
    "plt.title('Error vs. number of hidden neurons (second layer)')\n",
    "plt.xlabel('Number of hidden neurons (second layer)')\n",
    "plt.ylabel('Error')\n",
    "plt.legend()\n",
    "pass"
   ]
  },
  {
   "cell_type": "code",
   "execution_count": 78,
   "metadata": {},
   "outputs": [
    {
     "data": {
      "image/png": "[encoded data removed]",
      "text/plain": [
       "<Figure size 432x288 with 1 Axes>"
      ]
     },
     "metadata": {
      "needs_background": "light"
     },
     "output_type": "display_data"
    }
   ],
   "source": [
    "plt.semilogx(hidden_layer, train_acc, 'b-o', label = 'train')\n",
    "plt.semilogx(hidden_layer, test_acc, 'r-o', label = 'test')\n",
    "plt.xlim([np.min(hidden_layer), np.max(hidden_layer)])\n",
    "plt.title('Accuracy vs. number of hidden neurons (second layer)')\n",
    "plt.xlabel('Number of hidden neurons (second layer)')\n",
    "plt.ylabel('Accuracy')\n",
    "plt.legend()\n",
    "pass"
   ]
  },
  {
   "cell_type": "code",
   "execution_count": 79,
   "metadata": {},
   "outputs": [
    {
     "name": "stdout",
     "output_type": "stream",
     "text": [
      "Минимальная ошибка на обучающей выборке:  0.00088\n",
      "Минимальная ошибка на тестовой выборке:  0.049666666666666665\n"
     ]
    }
   ],
   "source": [
    "min_train_err = np.min(train_err)\n",
    "min_test_err = np.min(test_err)\n",
    "print('Минимальная ошибка на обучающей выборке: ', min_train_err)\n",
    "print('Минимальная ошибка на тестовой выборке: ', min_test_err)"
   ]
  },
  {
   "cell_type": "code",
   "execution_count": 80,
   "metadata": {},
   "outputs": [
    {
     "data": {
      "image/png": "[encoded data removed]",
      "text/plain": [
       "<Figure size 432x288 with 2 Axes>"
      ]
     },
     "metadata": {
      "needs_background": "light"
     },
     "output_type": "display_data"
    }
   ],
   "source": [
    "cm = confusion_matrix(y_test, y_test_pred, labels=mlp_model.classes_)\n",
    "disp = ConfusionMatrixDisplay(confusion_matrix=cm, display_labels=mlp_model.classes_)\n",
    "disp.plot()\n",
    "plt.show()"
   ]
  },
  {
   "cell_type": "code",
   "execution_count": 81,
   "metadata": {},
   "outputs": [
    {
     "name": "stdout",
     "output_type": "stream",
     "text": [
      "Оптимальное значение количества нейронов второго скрытого слоя:  28\n"
     ]
    }
   ],
   "source": [
    "hidden_layer_local_opt_2 = hidden_layer[test_err == min_test_err][0]\n",
    "print('Оптимальное значение количества нейронов второго скрытого слоя: ', hidden_layer_local_opt_2)"
   ]
  },
  {
   "attachments": {},
   "cell_type": "markdown",
   "metadata": {},
   "source": [
    "#### Обучение нейронной сети при `alpha_local_opt` (для 1 скрытого слоя из 50 нейронов), `hidden_layer_local_opt_1` и `hidden_layer_local_opt_2`"
   ]
  },
  {
   "cell_type": "code",
   "execution_count": 82,
   "metadata": {},
   "outputs": [
    {
     "name": "stdout",
     "output_type": "stream",
     "text": [
      "CPU times: total: 8min 10s\n",
      "Wall time: 1min 38s\n"
     ]
    },
    {
     "data": {
      "text/html": [
       "<style>#sk-container-id-2 {color: black;background-color: white;}#sk-container-id-2 pre{padding: 0;}#sk-container-id-2 div.sk-toggleable {background-color: white;}#sk-container-id-2 label.sk-toggleable__label {cursor: pointer;display: block;width: 100%;margin-bottom: 0;padding: 0.3em;box-sizing: border-box;text-align: center;}#sk-container-id-2 label.sk-toggleable__label-arrow:before {content: \"▸\";float: left;margin-right: 0.25em;color: #696969;}#sk-container-id-2 label.sk-toggleable__label-arrow:hover:before {color: black;}#sk-container-id-2 div.sk-estimator:hover label.sk-toggleable__label-arrow:before {color: black;}#sk-container-id-2 div.sk-toggleable__content {max-height: 0;max-width: 0;overflow: hidden;text-align: left;background-color: #f0f8ff;}#sk-container-id-2 div.sk-toggleable__content pre {margin: 0.2em;color: black;border-radius: 0.25em;background-color: #f0f8ff;}#sk-container-id-2 input.sk-toggleable__control:checked~div.sk-toggleable__content {max-height: 200px;max-width: 100%;overflow: auto;}#sk-container-id-2 input.sk-toggleable__control:checked~label.sk-toggleable__label-arrow:before {content: \"▾\";}#sk-container-id-2 div.sk-estimator input.sk-toggleable__control:checked~label.sk-toggleable__label {background-color: #d4ebff;}#sk-container-id-2 div.sk-label input.sk-toggleable__control:checked~label.sk-toggleable__label {background-color: #d4ebff;}#sk-container-id-2 input.sk-hidden--visually {border: 0;clip: rect(1px 1px 1px 1px);clip: rect(1px, 1px, 1px, 1px);height: 1px;margin: -1px;overflow: hidden;padding: 0;position: absolute;width: 1px;}#sk-container-id-2 div.sk-estimator {font-family: monospace;background-color: #f0f8ff;border: 1px dotted black;border-radius: 0.25em;box-sizing: border-box;margin-bottom: 0.5em;}#sk-container-id-2 div.sk-estimator:hover {background-color: #d4ebff;}#sk-container-id-2 div.sk-parallel-item::after {content: \"\";width: 100%;border-bottom: 1px solid gray;flex-grow: 1;}#sk-container-id-2 div.sk-label:hover label.sk-toggleable__label {background-color: #d4ebff;}#sk-container-id-2 div.sk-serial::before {content: \"\";position: absolute;border-left: 1px solid gray;box-sizing: border-box;top: 0;bottom: 0;left: 50%;z-index: 0;}#sk-container-id-2 div.sk-serial {display: flex;flex-direction: column;align-items: center;background-color: white;padding-right: 0.2em;padding-left: 0.2em;position: relative;}#sk-container-id-2 div.sk-item {position: relative;z-index: 1;}#sk-container-id-2 div.sk-parallel {display: flex;align-items: stretch;justify-content: center;background-color: white;position: relative;}#sk-container-id-2 div.sk-item::before, #sk-container-id-2 div.sk-parallel-item::before {content: \"\";position: absolute;border-left: 1px solid gray;box-sizing: border-box;top: 0;bottom: 0;left: 50%;z-index: -1;}#sk-container-id-2 div.sk-parallel-item {display: flex;flex-direction: column;z-index: 1;position: relative;background-color: white;}#sk-container-id-2 div.sk-parallel-item:first-child::after {align-self: flex-end;width: 50%;}#sk-container-id-2 div.sk-parallel-item:last-child::after {align-self: flex-start;width: 50%;}#sk-container-id-2 div.sk-parallel-item:only-child::after {width: 0;}#sk-container-id-2 div.sk-dashed-wrapped {border: 1px dashed gray;margin: 0 0.4em 0.5em 0.4em;box-sizing: border-box;padding-bottom: 0.4em;background-color: white;}#sk-container-id-2 div.sk-label label {font-family: monospace;font-weight: bold;display: inline-block;line-height: 1.2em;}#sk-container-id-2 div.sk-label-container {text-align: center;}#sk-container-id-2 div.sk-container {/* jupyter's `normalize.less` sets `[hidden] { display: none; }` but bootstrap.min.css set `[hidden] { display: none !important; }` so we also need the `!important` here to be able to override the default hidden behavior on the sphinx rendered scikit-learn.org. See: https://github.com/scikit-learn/scikit-learn/issues/21755 */display: inline-block !important;position: relative;}#sk-container-id-2 div.sk-text-repr-fallback {display: none;}</style><div id=\"sk-container-id-2\" class=\"sk-top-container\"><div class=\"sk-text-repr-fallback\"><pre>MLPClassifier(activation=&#x27;logistic&#x27;, alpha=1.7782794100389228,\n",
       "              hidden_layer_sizes=(31, 28), max_iter=1000, random_state=42,\n",
       "              solver=&#x27;lbfgs&#x27;)</pre><b>In a Jupyter environment, please rerun this cell to show the HTML representation or trust the notebook. <br />On GitHub, the HTML representation is unable to render, please try loading this page with nbviewer.org.</b></div><div class=\"sk-container\" hidden><div class=\"sk-item\"><div class=\"sk-estimator sk-toggleable\"><input class=\"sk-toggleable__control sk-hidden--visually\" id=\"sk-estimator-id-2\" type=\"checkbox\" checked><label for=\"sk-estimator-id-2\" class=\"sk-toggleable__label sk-toggleable__label-arrow\">MLPClassifier</label><div class=\"sk-toggleable__content\"><pre>MLPClassifier(activation=&#x27;logistic&#x27;, alpha=1.7782794100389228,\n",
       "              hidden_layer_sizes=(31, 28), max_iter=1000, random_state=42,\n",
       "              solver=&#x27;lbfgs&#x27;)</pre></div></div></div></div></div>"
      ],
      "text/plain": [
       "MLPClassifier(activation='logistic', alpha=1.7782794100389228,\n",
       "              hidden_layer_sizes=(31, 28), max_iter=1000, random_state=42,\n",
       "              solver='lbfgs')"
      ]
     },
     "execution_count": 82,
     "metadata": {},
     "output_type": "execute_result"
    }
   ],
   "source": [
    "%%time\n",
    "mlp_model = MLPClassifier(alpha = alpha_local_opt, \n",
    "                          hidden_layer_sizes = (hidden_layer_local_opt_1, hidden_layer_local_opt_2),\n",
    "                          solver = 'lbfgs', \n",
    "                          max_iter = 1000, \n",
    "                          activation = 'logistic',\n",
    "                          random_state = 42)\n",
    "\n",
    "mlp_model.fit(X_train, y_train)"
   ]
  },
  {
   "cell_type": "code",
   "execution_count": 83,
   "metadata": {},
   "outputs": [
    {
     "name": "stdout",
     "output_type": "stream",
     "text": [
      "Ошибка на обучающей выборке:  0.00156\n",
      "Ошибка на тестовой выборке:  0.049666666666666665\n"
     ]
    }
   ],
   "source": [
    "y_train_pred = mlp_model.predict(X_train)\n",
    "y_test_pred = mlp_model.predict(X_test)\n",
    "\n",
    "err_train = np.mean(y_train != y_train_pred)\n",
    "err_test = np.mean(y_test != y_test_pred)\n",
    "\n",
    "print('Ошибка на обучающей выборке: ', err_train)\n",
    "print('Ошибка на тестовой выборке: ', err_test)"
   ]
  },
  {
   "cell_type": "code",
   "execution_count": 84,
   "metadata": {},
   "outputs": [
    {
     "data": {
      "image/png": "[encoded data removed]",
      "text/plain": [
       "<Figure size 432x288 with 2 Axes>"
      ]
     },
     "metadata": {
      "needs_background": "light"
     },
     "output_type": "display_data"
    }
   ],
   "source": [
    "cm = confusion_matrix(y_test, y_test_pred, labels=mlp_model.classes_)\n",
    "disp = ConfusionMatrixDisplay(confusion_matrix=cm, display_labels=mlp_model.classes_)\n",
    "disp.plot()\n",
    "plt.show()"
   ]
  },
  {
   "attachments": {},
   "cell_type": "markdown",
   "metadata": {},
   "source": [
    "### Второй способ подбора гиперпараметров\n",
    "\n",
    "####  Одновременный перебор alpha и количества нейронов скрытого слоя (для нейронной сети с одним скрытым слоем)"
   ]
  },
  {
   "cell_type": "code",
   "execution_count": 85,
   "metadata": {},
   "outputs": [
    {
     "name": "stdout",
     "output_type": "stream",
     "text": [
      "CPU times: total: 1h 44min 45s\n",
      "Wall time: 20min 28s\n"
     ]
    }
   ],
   "source": [
    "%%time\n",
    "hidden_layer = np.arange(hidden_layer_local_opt_1 - 2, hidden_layer_local_opt_1 + 2)\n",
    "alpha_arr = np.logspace(-3, 2, 21)\n",
    "test_err = []\n",
    "train_err = []\n",
    "train_acc = []\n",
    "test_acc = []\n",
    "\n",
    "opt_params = []\n",
    "\n",
    "for size in hidden_layer:\n",
    "    for alpha in alpha_arr:\n",
    "        mlp_model = MLPClassifier(alpha = alpha, \n",
    "                                  hidden_layer_sizes = size,\n",
    "                                  solver = 'lbfgs', \n",
    "                                  max_iter = 1000, \n",
    "                                  activation = 'logistic',\n",
    "                                  random_state = 42)\n",
    "\n",
    "\n",
    "        mlp_model.fit(X_train, y_train)\n",
    "\n",
    "        y_train_pred = mlp_model.predict(X_train)\n",
    "        y_test_pred = mlp_model.predict(X_test)\n",
    "\n",
    "        train_err.append(np.mean(y_train != y_train_pred))\n",
    "        test_err.append(np.mean(y_test != y_test_pred))\n",
    "        train_acc.append(accuracy_score(y_train, y_train_pred))\n",
    "        test_acc.append(accuracy_score(y_test, y_test_pred))\n",
    "        \n",
    "        params = {'alpha': alpha, 'hidden_layer': size} \n",
    "        opt_params.append(params)"
   ]
  },
  {
   "cell_type": "code",
   "execution_count": 86,
   "metadata": {},
   "outputs": [
    {
     "name": "stdout",
     "output_type": "stream",
     "text": [
      "Минимальная ошибка на обучающей выборке:  8e-05\n",
      "Минимальная ошибка на тестовой выборке:  0.041666666666666664\n"
     ]
    }
   ],
   "source": [
    "min_train_err = np.min(train_err)\n",
    "min_test_err = np.min(test_err)\n",
    "print('Минимальная ошибка на обучающей выборке: ', min_train_err)\n",
    "print('Минимальная ошибка на тестовой выборке: ', min_test_err)"
   ]
  },
  {
   "cell_type": "code",
   "execution_count": 87,
   "metadata": {},
   "outputs": [
    {
     "name": "stdout",
     "output_type": "stream",
     "text": [
      "Оптимальное значение количества нейронов скрытого слоя:  31\n",
      "Оптимальное значение alpha:  1.7782794100389228\n"
     ]
    }
   ],
   "source": [
    "index_opt = 0\n",
    "for index in range(len(test_err)):\n",
    "    if test_err[index] == min_test_err:\n",
    "        index_opt = index\n",
    "        break\n",
    "        \n",
    "hidden_layer_opt = opt_params[index_opt]['hidden_layer']\n",
    "print('Оптимальное значение количества нейронов скрытого слоя: ', hidden_layer_opt)\n",
    "\n",
    "alpha_opt = opt_params[index_opt]['alpha']\n",
    "print('Оптимальное значение alpha: ', alpha_opt)"
   ]
  },
  {
   "attachments": {},
   "cell_type": "markdown",
   "metadata": {},
   "source": [
    "####  Одновременный перебор alpha, количества нейронов первого и второго скрытых слоев"
   ]
  },
  {
   "cell_type": "code",
   "execution_count": 88,
   "metadata": {},
   "outputs": [
    {
     "name": "stdout",
     "output_type": "stream",
     "text": [
      "CPU times: total: 22h 29min 47s\n",
      "Wall time: 5h 3min 2s\n"
     ]
    }
   ],
   "source": [
    "%%time\n",
    "hidden_layer_first = np.arange(hidden_layer_local_opt_1 - 2, hidden_layer_local_opt_1 + 2)\n",
    "hidden_layer_second = np.arange(hidden_layer_local_opt_2 - 2, hidden_layer_local_opt_2 + 2)\n",
    "alpha_arr = np.logspace(-3, 2, 21)\n",
    "test_err = []\n",
    "train_err = []\n",
    "train_acc = []\n",
    "test_acc = []\n",
    "\n",
    "opt_params = []\n",
    "\n",
    "for size_first in hidden_layer_first:\n",
    "    for size_second in hidden_layer_second:\n",
    "        for alpha in alpha_arr:\n",
    "            mlp_model = MLPClassifier(alpha = alpha, \n",
    "                                      hidden_layer_sizes = (size_first, size_second), \n",
    "                                      solver = 'lbfgs', \n",
    "                                      max_iter = 1000, \n",
    "                                      activation = 'logistic',\n",
    "                                      random_state = 42)\n",
    "\n",
    "\n",
    "            mlp_model.fit(X_train, y_train)\n",
    "\n",
    "            y_train_pred = mlp_model.predict(X_train)\n",
    "            y_test_pred = mlp_model.predict(X_test)\n",
    "\n",
    "            train_err.append(np.mean(y_train != y_train_pred))\n",
    "            test_err.append(np.mean(y_test != y_test_pred))\n",
    "            train_acc.append(accuracy_score(y_train, y_train_pred))\n",
    "            test_acc.append(accuracy_score(y_test, y_test_pred))\n",
    "            \n",
    "            params = {'alpha': alpha, 'hidden_layer_first': size_first, 'hidden_layer_second': size_second} \n",
    "            opt_params.append(params)"
   ]
  },
  {
   "cell_type": "code",
   "execution_count": 89,
   "metadata": {},
   "outputs": [
    {
     "name": "stdout",
     "output_type": "stream",
     "text": [
      "Минимальная ошибка на обучающей выборке:  0.0\n",
      "Минимальная ошибка на тестовой выборке:  0.043333333333333335\n"
     ]
    }
   ],
   "source": [
    "min_train_err = np.min(train_err)\n",
    "min_test_err = np.min(test_err)\n",
    "print('Минимальная ошибка на обучающей выборке: ', min_train_err)\n",
    "print('Минимальная ошибка на тестовой выборке: ', min_test_err)"
   ]
  },
  {
   "cell_type": "code",
   "execution_count": 90,
   "metadata": {},
   "outputs": [
    {
     "name": "stdout",
     "output_type": "stream",
     "text": [
      "Оптимальное значение количества нейронов первого скрытого слоя:  31\n",
      "Оптимальное значение количества нейронов второго скрытого слоя:  29\n",
      "Оптимальное значение alpha:  5.623413251903491\n"
     ]
    }
   ],
   "source": [
    "index_opt = 0\n",
    "for index in range(len(test_err)):\n",
    "    if test_err[index] == min_test_err:\n",
    "        index_opt = index\n",
    "        break\n",
    "        \n",
    "hidden_layer_opt_1 = opt_params[index_opt]['hidden_layer_first']\n",
    "print('Оптимальное значение количества нейронов первого скрытого слоя: ', hidden_layer_opt_1)\n",
    "\n",
    "hidden_layer_opt_2 = opt_params[index_opt]['hidden_layer_second']\n",
    "print('Оптимальное значение количества нейронов второго скрытого слоя: ', hidden_layer_opt_2)\n",
    "\n",
    "alpha_opt = opt_params[index_opt]['alpha']\n",
    "print('Оптимальное значение alpha: ', alpha_opt)"
   ]
  },
  {
   "attachments": {},
   "cell_type": "markdown",
   "metadata": {},
   "source": [
    "## Общие выводы\n",
    "***\n",
    "> <ul>\n",
    ">     <li>Наименьшая ошибка на тестовой выборке составила <em>(4.3%)</em> (лучше, чем при других классификаторов).</li>\n",
    ">     <li>Наименьшая ошибка была достигнута при параметре <b>alpha ≈ 5.623, `hidden_layer_first` = 31, `hidden_layer_second` = 29 </b> </li>\n",
    ">     <li>Не смотря, на то, что обучение проводилось не на всей выборке, были получены хорошие результаты.</li>\n",
    ">     <li>Поскольку обучение нейронных сетей зависит от количества входных данных, то при увеличении обучающей выборке может быть получены результат, лучший предыдущего.</li>\n",
    ">     <li>Перебор гиперпараметров осуществлялся в узком диапазоне, поэтому при его увеличении может быть достигнуа меньшая ошибка.</li>\n",
    "> </ul>\n",
    "***"
   ]
  }
 ],
 "metadata": {
  "kernelspec": {
   "display_name": "Python 3",
   "language": "python",
   "name": "python3"
  },
  "language_info": {
   "codemirror_mode": {
    "name": "ipython",
    "version": 3
   },
   "file_extension": ".py",
   "mimetype": "text/x-python",
   "name": "python",
   "nbconvert_exporter": "python",
   "pygments_lexer": "ipython3",
   "version": "3.9.13 (tags/v3.9.13:6de2ca5, May 17 2022, 16:36:42) [MSC v.1929 64 bit (AMD64)]"
  },
  "orig_nbformat": 4,
  "vscode": {
   "interpreter": {
    "hash": "b683fe25532ae1f4828d370d0da8d43716e0cb0ffb4ac8c602124a950210a307"
   }
  }
 },
 "nbformat": 4,
 "nbformat_minor": 2
}
