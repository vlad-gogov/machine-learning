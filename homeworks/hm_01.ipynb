{
 "cells": [
  {
   "cell_type": "markdown",
   "metadata": {},
   "source": [
    "## Описание задачи\n",
    "Исходная таблица с данными содержит значения погодных условий (испарение, температура, количество осадков за день, влажность, давление и т.д.), собранных с различных метеостанций Австралии, за 7 лет с (2007 по 2014 года), а также значения был ли дождь в этот день и был ли он завтра (значение, предсказание которого является задачей классификации для приведенного датасета).\n",
    "## Чтение данных"
   ]
  },
  {
   "cell_type": "code",
   "execution_count": 1,
   "metadata": {},
   "outputs": [],
   "source": [
    "from datetime import timedelta\n",
    "import sklearn                  # Алгоритмы машинного обучения\n",
    "import seaborn as sns           # Еще больше красивой графики для визуализации данных\n",
    "import pandas as pd             # Таблицы и временные ряды (dataframe, series)\n",
    "import numpy as np              # Массивы (матрицы, векторы, линейная алгебра)\n",
    "import matplotlib.pyplot as plt  # Научная графика\n",
    "%matplotlib inline\n",
    "# Говорим jupyter'у, чтобы весь графический вывод был в браузере, а не в отдельном окне\n"
   ]
  },
  {
   "cell_type": "markdown",
   "metadata": {},
   "source": [
    "Загружаем данные и после преобразовываем строковые значения *Yes* и *No* в признаках `RainToday` и `RainTomorrow` к **булевому** значению"
   ]
  },
  {
   "cell_type": "code",
   "execution_count": 2,
   "metadata": {},
   "outputs": [],
   "source": [
    "path = \"../datasets/weatherAUS.csv\"\n",
    "data_raw = pd.read_csv(path)\n",
    "data_raw['RainToday'] = data_raw['RainToday'].apply(\n",
    "    lambda v: None if type(v) == float else v == \"Yes\")\n",
    "data_raw['RainTomorrow'] = data_raw['RainTomorrow'].apply(\n",
    "    lambda v: None if type(v) == float else v == \"Yes\")\n"
   ]
  },
  {
   "cell_type": "markdown",
   "metadata": {},
   "source": [
    "Преобразуем значения столбца `Date` из строкового типа к типу ***datetime***"
   ]
  },
  {
   "cell_type": "code",
   "execution_count": 3,
   "metadata": {},
   "outputs": [
    {
     "data": {
      "text/plain": [
       "dtype('<M8[ns]')"
      ]
     },
     "execution_count": 3,
     "metadata": {},
     "output_type": "execute_result"
    }
   ],
   "source": [
    "data_raw['Date'] = pd.to_datetime(data_raw['Date'])\n",
    "data_raw['Date'].dtype\n"
   ]
  },
  {
   "cell_type": "markdown",
   "metadata": {},
   "source": [
    "Количество строк и столбцов:"
   ]
  },
  {
   "cell_type": "code",
   "execution_count": 4,
   "metadata": {},
   "outputs": [
    {
     "data": {
      "text/plain": [
       "(145460, 23)"
      ]
     },
     "execution_count": 4,
     "metadata": {},
     "output_type": "execute_result"
    }
   ],
   "source": [
    "data_raw.shape"
   ]
  },
  {
   "cell_type": "code",
   "execution_count": 5,
   "metadata": {},
   "outputs": [
    {
     "data": {
      "text/html": [
       "<div>\n",
       "<style scoped>\n",
       "    .dataframe tbody tr th:only-of-type {\n",
       "        vertical-align: middle;\n",
       "    }\n",
       "\n",
       "    .dataframe tbody tr th {\n",
       "        vertical-align: top;\n",
       "    }\n",
       "\n",
       "    .dataframe thead th {\n",
       "        text-align: right;\n",
       "    }\n",
       "</style>\n",
       "<table border=\"1\" class=\"dataframe\">\n",
       "  <thead>\n",
       "    <tr style=\"text-align: right;\">\n",
       "      <th></th>\n",
       "      <th>Date</th>\n",
       "      <th>Location</th>\n",
       "      <th>MinTemp</th>\n",
       "      <th>MaxTemp</th>\n",
       "      <th>Rainfall</th>\n",
       "      <th>Evaporation</th>\n",
       "      <th>Sunshine</th>\n",
       "      <th>WindGustDir</th>\n",
       "      <th>WindGustSpeed</th>\n",
       "      <th>WindDir9am</th>\n",
       "      <th>...</th>\n",
       "      <th>Humidity9am</th>\n",
       "      <th>Humidity3pm</th>\n",
       "      <th>Pressure9am</th>\n",
       "      <th>Pressure3pm</th>\n",
       "      <th>Cloud9am</th>\n",
       "      <th>Cloud3pm</th>\n",
       "      <th>Temp9am</th>\n",
       "      <th>Temp3pm</th>\n",
       "      <th>RainToday</th>\n",
       "      <th>RainTomorrow</th>\n",
       "    </tr>\n",
       "  </thead>\n",
       "  <tbody>\n",
       "    <tr>\n",
       "      <th>0</th>\n",
       "      <td>2008-12-01</td>\n",
       "      <td>Albury</td>\n",
       "      <td>13.4</td>\n",
       "      <td>22.9</td>\n",
       "      <td>0.6</td>\n",
       "      <td>NaN</td>\n",
       "      <td>NaN</td>\n",
       "      <td>W</td>\n",
       "      <td>44.0</td>\n",
       "      <td>W</td>\n",
       "      <td>...</td>\n",
       "      <td>71.0</td>\n",
       "      <td>22.0</td>\n",
       "      <td>1007.7</td>\n",
       "      <td>1007.1</td>\n",
       "      <td>8.0</td>\n",
       "      <td>NaN</td>\n",
       "      <td>16.9</td>\n",
       "      <td>21.8</td>\n",
       "      <td>False</td>\n",
       "      <td>False</td>\n",
       "    </tr>\n",
       "    <tr>\n",
       "      <th>1</th>\n",
       "      <td>2008-12-02</td>\n",
       "      <td>Albury</td>\n",
       "      <td>7.4</td>\n",
       "      <td>25.1</td>\n",
       "      <td>0.0</td>\n",
       "      <td>NaN</td>\n",
       "      <td>NaN</td>\n",
       "      <td>WNW</td>\n",
       "      <td>44.0</td>\n",
       "      <td>NNW</td>\n",
       "      <td>...</td>\n",
       "      <td>44.0</td>\n",
       "      <td>25.0</td>\n",
       "      <td>1010.6</td>\n",
       "      <td>1007.8</td>\n",
       "      <td>NaN</td>\n",
       "      <td>NaN</td>\n",
       "      <td>17.2</td>\n",
       "      <td>24.3</td>\n",
       "      <td>False</td>\n",
       "      <td>False</td>\n",
       "    </tr>\n",
       "    <tr>\n",
       "      <th>2</th>\n",
       "      <td>2008-12-03</td>\n",
       "      <td>Albury</td>\n",
       "      <td>12.9</td>\n",
       "      <td>25.7</td>\n",
       "      <td>0.0</td>\n",
       "      <td>NaN</td>\n",
       "      <td>NaN</td>\n",
       "      <td>WSW</td>\n",
       "      <td>46.0</td>\n",
       "      <td>W</td>\n",
       "      <td>...</td>\n",
       "      <td>38.0</td>\n",
       "      <td>30.0</td>\n",
       "      <td>1007.6</td>\n",
       "      <td>1008.7</td>\n",
       "      <td>NaN</td>\n",
       "      <td>2.0</td>\n",
       "      <td>21.0</td>\n",
       "      <td>23.2</td>\n",
       "      <td>False</td>\n",
       "      <td>False</td>\n",
       "    </tr>\n",
       "    <tr>\n",
       "      <th>3</th>\n",
       "      <td>2008-12-04</td>\n",
       "      <td>Albury</td>\n",
       "      <td>9.2</td>\n",
       "      <td>28.0</td>\n",
       "      <td>0.0</td>\n",
       "      <td>NaN</td>\n",
       "      <td>NaN</td>\n",
       "      <td>NE</td>\n",
       "      <td>24.0</td>\n",
       "      <td>SE</td>\n",
       "      <td>...</td>\n",
       "      <td>45.0</td>\n",
       "      <td>16.0</td>\n",
       "      <td>1017.6</td>\n",
       "      <td>1012.8</td>\n",
       "      <td>NaN</td>\n",
       "      <td>NaN</td>\n",
       "      <td>18.1</td>\n",
       "      <td>26.5</td>\n",
       "      <td>False</td>\n",
       "      <td>False</td>\n",
       "    </tr>\n",
       "    <tr>\n",
       "      <th>4</th>\n",
       "      <td>2008-12-05</td>\n",
       "      <td>Albury</td>\n",
       "      <td>17.5</td>\n",
       "      <td>32.3</td>\n",
       "      <td>1.0</td>\n",
       "      <td>NaN</td>\n",
       "      <td>NaN</td>\n",
       "      <td>W</td>\n",
       "      <td>41.0</td>\n",
       "      <td>ENE</td>\n",
       "      <td>...</td>\n",
       "      <td>82.0</td>\n",
       "      <td>33.0</td>\n",
       "      <td>1010.8</td>\n",
       "      <td>1006.0</td>\n",
       "      <td>7.0</td>\n",
       "      <td>8.0</td>\n",
       "      <td>17.8</td>\n",
       "      <td>29.7</td>\n",
       "      <td>False</td>\n",
       "      <td>False</td>\n",
       "    </tr>\n",
       "  </tbody>\n",
       "</table>\n",
       "<p>5 rows × 23 columns</p>\n",
       "</div>"
      ],
      "text/plain": [
       "        Date Location  MinTemp  MaxTemp  Rainfall  Evaporation  Sunshine  \\\n",
       "0 2008-12-01   Albury     13.4     22.9       0.6          NaN       NaN   \n",
       "1 2008-12-02   Albury      7.4     25.1       0.0          NaN       NaN   \n",
       "2 2008-12-03   Albury     12.9     25.7       0.0          NaN       NaN   \n",
       "3 2008-12-04   Albury      9.2     28.0       0.0          NaN       NaN   \n",
       "4 2008-12-05   Albury     17.5     32.3       1.0          NaN       NaN   \n",
       "\n",
       "  WindGustDir  WindGustSpeed WindDir9am  ... Humidity9am  Humidity3pm  \\\n",
       "0           W           44.0          W  ...        71.0         22.0   \n",
       "1         WNW           44.0        NNW  ...        44.0         25.0   \n",
       "2         WSW           46.0          W  ...        38.0         30.0   \n",
       "3          NE           24.0         SE  ...        45.0         16.0   \n",
       "4           W           41.0        ENE  ...        82.0         33.0   \n",
       "\n",
       "   Pressure9am  Pressure3pm  Cloud9am  Cloud3pm  Temp9am  Temp3pm  RainToday  \\\n",
       "0       1007.7       1007.1       8.0       NaN     16.9     21.8      False   \n",
       "1       1010.6       1007.8       NaN       NaN     17.2     24.3      False   \n",
       "2       1007.6       1008.7       NaN       2.0     21.0     23.2      False   \n",
       "3       1017.6       1012.8       NaN       NaN     18.1     26.5      False   \n",
       "4       1010.8       1006.0       7.0       8.0     17.8     29.7      False   \n",
       "\n",
       "   RainTomorrow  \n",
       "0         False  \n",
       "1         False  \n",
       "2         False  \n",
       "3         False  \n",
       "4         False  \n",
       "\n",
       "[5 rows x 23 columns]"
      ]
     },
     "execution_count": 5,
     "metadata": {},
     "output_type": "execute_result"
    }
   ],
   "source": [
    "data_raw.head()"
   ]
  },
  {
   "cell_type": "markdown",
   "metadata": {},
   "source": [
    "Cтолбцы (признаки) имеют имена:\n",
    "\n",
    "- `Date` - дата наблюдения\n",
    "- `Location` - общепринятое название местоположения метеостанции\n",
    "- `MinTemp` - минимальная температура в градусах Цельсия\n",
    "- `MaxTemp` - максимальная температура в градусах Цельсия\n",
    "- `Rainfall` - количество осадков, зафиксированных за день в мм\n",
    "- `Evaporation` - испарение за 24 часа до 9:00\n",
    "- `Sunshine` - количество часов яркого солнечного света в день\n",
    "- `WindGustDir` - направление сильнейшего порыва ветра за 24 часа до полуночи\n",
    "- `WindGustSpeed` - скорость (км/ч) самого сильного порыва ветра за 24 часа до полуночи\n",
    "- `WindDir9am` - направление ветра в 9:00\n",
    "- `WindDir3pm` - направление ветра в 15:00\n",
    "- `WindSpeed9am` - средняя скорость ветра (км/ч) за 10 минут до 9:00\n",
    "- `WindSpeed3pm` - средняя скорость ветра (км/ч) за 10 минут до 15:00\n",
    "- `Humidity9am` - влажность (в процентах) в 9:00\n",
    "- `Humidity3pm` - влажность (в процентах) в 15:00\n",
    "- `Pressure9am` - атмосферное давление (гПа) относительно уровня моря в 9:00\n",
    "- `Pressure3pm` - атмосферное давление (гПа) относительно уровня моря в 15:00\n",
    "- `Cloud9am` - часть неба, закрытая облаками в 9:00. Это измеряется в октах, которые составляют восьмые доли. Она фиксирует, сколько восьмых частей неба закрыто облаками. Значение 0 указывает на полностью ясное небо, а значение 8 указывает на то, что оно полностью пасмурно.\n",
    "- `Cloud3pm` - часть неба, закрытая облаками (в \"октах\", восьмые доли) в 15:00. Описание в `Cloud9am`\n",
    "- `Temp9am` - температура (градусы цельсия) в 9:00\n",
    "- `Temp3pm` - температура (градусы цельсия) в 15:00\n",
    "- `RainToday` - логическое значение: 1, если количество осадков (мм) за 24 часа до 9 утра превышает 1 мм, в противном случае 0\n",
    "- `RainTomorrow` - логическое значение: 1, если количество осадков (мм) за 24 часа следующего дня превышает 1 мм, в противном случае 0"
   ]
  },
  {
   "cell_type": "markdown",
   "metadata": {},
   "source": [
    "У целевого признака (`RainTomorrow`) наблюдается несбалансированность классов: обьектов класса *0* больше, чем объектов класса *1*  "
   ]
  },
  {
   "cell_type": "code",
   "execution_count": 6,
   "metadata": {},
   "outputs": [
    {
     "data": {
      "text/plain": [
       "False    110316\n",
       "True      31877\n",
       "Name: RainTomorrow, dtype: int64"
      ]
     },
     "execution_count": 6,
     "metadata": {},
     "output_type": "execute_result"
    }
   ],
   "source": [
    "data_raw['RainTomorrow'].value_counts()\n"
   ]
  },
  {
   "cell_type": "markdown",
   "metadata": {},
   "source": [
    "Признаки `RainToday`, `RainTomorrow` - бинарные, `Location`, `WindGustDir`, `WindDir9am`, `WindDir3pm` - номинальные (категориальные), остальные признаки - количественный (числовой).\n",
    "Заменим типы категориальных признаков с ***'object'*** на специальный предназначенный для хранения категориальных значений:"
   ]
  },
  {
   "cell_type": "code",
   "execution_count": 7,
   "metadata": {},
   "outputs": [
    {
     "data": {
      "text/plain": [
       "CategoricalDtype(categories=['Adelaide', 'Albany', 'Albury', 'AliceSprings',\n",
       "                  'BadgerysCreek', 'Ballarat', 'Bendigo', 'Brisbane', 'Cairns',\n",
       "                  'Canberra', 'Cobar', 'CoffsHarbour', 'Dartmoor', 'Darwin',\n",
       "                  'GoldCoast', 'Hobart', 'Katherine', 'Launceston',\n",
       "                  'Melbourne', 'MelbourneAirport', 'Mildura', 'Moree',\n",
       "                  'MountGambier', 'MountGinini', 'Newcastle', 'Nhil',\n",
       "                  'NorahHead', 'NorfolkIsland', 'Nuriootpa', 'PearceRAAF',\n",
       "                  'Penrith', 'Perth', 'PerthAirport', 'Portland', 'Richmond',\n",
       "                  'Sale', 'SalmonGums', 'Sydney', 'SydneyAirport',\n",
       "                  'Townsville', 'Tuggeranong', 'Uluru', 'WaggaWagga',\n",
       "                  'Walpole', 'Watsonia', 'Williamtown', 'Witchcliffe',\n",
       "                  'Wollongong', 'Woomera'],\n",
       ", ordered=False)"
      ]
     },
     "execution_count": 7,
     "metadata": {},
     "output_type": "execute_result"
    }
   ],
   "source": [
    "data_raw['Location'] = data_raw['Location'].astype('category')\n",
    "data_raw['Location'].dtype"
   ]
  },
  {
   "cell_type": "code",
   "execution_count": 8,
   "metadata": {},
   "outputs": [
    {
     "data": {
      "text/plain": [
       "CategoricalDtype(categories=['E', 'ENE', 'ESE', 'N', 'NE', 'NNE', 'NNW', 'NW', 'S', 'SE',\n",
       "                  'SSE', 'SSW', 'SW', 'W', 'WNW', 'WSW'],\n",
       ", ordered=False)"
      ]
     },
     "execution_count": 8,
     "metadata": {},
     "output_type": "execute_result"
    }
   ],
   "source": [
    "data_raw['WindGustDir'] = data_raw['WindGustDir'].astype('category')\n",
    "data_raw['WindGustDir'].dtype\n"
   ]
  },
  {
   "cell_type": "code",
   "execution_count": 9,
   "metadata": {},
   "outputs": [
    {
     "data": {
      "text/plain": [
       "CategoricalDtype(categories=['E', 'ENE', 'ESE', 'N', 'NE', 'NNE', 'NNW', 'NW', 'S', 'SE',\n",
       "                  'SSE', 'SSW', 'SW', 'W', 'WNW', 'WSW'],\n",
       ", ordered=False)"
      ]
     },
     "execution_count": 9,
     "metadata": {},
     "output_type": "execute_result"
    }
   ],
   "source": [
    "data_raw['WindDir9am'] = data_raw['WindDir9am'].astype('category')\n",
    "data_raw['WindDir9am'].dtype"
   ]
  },
  {
   "cell_type": "code",
   "execution_count": 10,
   "metadata": {},
   "outputs": [
    {
     "data": {
      "text/plain": [
       "CategoricalDtype(categories=['E', 'ENE', 'ESE', 'N', 'NE', 'NNE', 'NNW', 'NW', 'S', 'SE',\n",
       "                  'SSE', 'SSW', 'SW', 'W', 'WNW', 'WSW'],\n",
       ", ordered=False)"
      ]
     },
     "execution_count": 10,
     "metadata": {},
     "output_type": "execute_result"
    }
   ],
   "source": [
    "data_raw['WindDir3pm'] = data_raw['WindDir3pm'].astype('category')\n",
    "data_raw['WindDir3pm'].dtype"
   ]
  },
  {
   "cell_type": "markdown",
   "metadata": {},
   "source": [
    "## Визуалиция данных и вычисление основных характеристик"
   ]
  },
  {
   "cell_type": "markdown",
   "metadata": {},
   "source": [
    "Построим графики для двух зависимых признаков"
   ]
  },
  {
   "cell_type": "code",
   "execution_count": 11,
   "metadata": {},
   "outputs": [
    {
     "data": {
      "image/png": "[encoded data removed]",
      "text/plain": [
       "<Figure size 432x288 with 1 Axes>"
      ]
     },
     "metadata": {
      "needs_background": "light"
     },
     "output_type": "display_data"
    }
   ],
   "source": [
    "plt.scatter(data_raw['Rainfall'], data_raw['Humidity9am'], alpha=1)\n",
    "plt.xlabel('Rainfall')\n",
    "plt.ylabel('Humidity9am')\n",
    "pass\n"
   ]
  },
  {
   "cell_type": "code",
   "execution_count": 12,
   "metadata": {},
   "outputs": [
    {
     "data": {
      "image/png": "[encoded data removed]",
      "text/plain": [
       "<Figure size 432x288 with 1 Axes>"
      ]
     },
     "metadata": {
      "needs_background": "light"
     },
     "output_type": "display_data"
    }
   ],
   "source": [
    "plt.scatter(data_raw['Rainfall'], data_raw['Humidity3pm'], alpha=1)\n",
    "plt.xlabel('Rainfall')\n",
    "plt.ylabel('Humidity3pm')\n",
    "pass\n"
   ]
  },
  {
   "cell_type": "code",
   "execution_count": 13,
   "metadata": {},
   "outputs": [
    {
     "data": {
      "image/png": "[encoded data removed]",
      "text/plain": [
       "<Figure size 432x288 with 1 Axes>"
      ]
     },
     "metadata": {
      "needs_background": "light"
     },
     "output_type": "display_data"
    }
   ],
   "source": [
    "plt.scatter(data_raw['Evaporation'], data_raw['MinTemp'], alpha=1)\n",
    "plt.xlabel('Evaporation')\n",
    "plt.ylabel('MinTemp')\n",
    "pass\n"
   ]
  },
  {
   "cell_type": "code",
   "execution_count": 14,
   "metadata": {},
   "outputs": [
    {
     "data": {
      "image/png": "[encoded data removed]",
      "text/plain": [
       "<Figure size 432x288 with 1 Axes>"
      ]
     },
     "metadata": {
      "needs_background": "light"
     },
     "output_type": "display_data"
    }
   ],
   "source": [
    "plt.scatter(data_raw['Evaporation'], data_raw['MaxTemp'], alpha=1)\n",
    "plt.xlabel('Evaporation')\n",
    "plt.ylabel('MaxTemp')\n",
    "pass\n"
   ]
  },
  {
   "cell_type": "code",
   "execution_count": 15,
   "metadata": {},
   "outputs": [
    {
     "data": {
      "image/png": "[encoded data removed]",
      "text/plain": [
       "<Figure size 432x288 with 1 Axes>"
      ]
     },
     "metadata": {
      "needs_background": "light"
     },
     "output_type": "display_data"
    }
   ],
   "source": [
    "plt.scatter(data_raw['Evaporation'], data_raw['Sunshine'], alpha=1)\n",
    "plt.xlabel('Evaporation')\n",
    "plt.ylabel('Sunshine')\n",
    "pass\n"
   ]
  },
  {
   "cell_type": "code",
   "execution_count": 16,
   "metadata": {},
   "outputs": [
    {
     "data": {
      "image/png": "[encoded data removed]",
      "text/plain": [
       "<Figure size 432x288 with 1 Axes>"
      ]
     },
     "metadata": {
      "needs_background": "light"
     },
     "output_type": "display_data"
    }
   ],
   "source": [
    "plt.scatter(data_raw['WindGustSpeed'], data_raw['WindSpeed9am'], alpha=1)\n",
    "plt.xlabel('WindGustSpeed')\n",
    "plt.ylabel('WindSpeed9am')\n",
    "pass\n"
   ]
  },
  {
   "cell_type": "code",
   "execution_count": 17,
   "metadata": {},
   "outputs": [
    {
     "data": {
      "image/png": "[encoded data removed]",
      "text/plain": [
       "<Figure size 432x288 with 1 Axes>"
      ]
     },
     "metadata": {
      "needs_background": "light"
     },
     "output_type": "display_data"
    }
   ],
   "source": [
    "plt.scatter(data_raw['WindGustSpeed'], data_raw['WindSpeed3pm'], alpha=1)\n",
    "plt.xlabel('WindGustSpeed')\n",
    "plt.ylabel('WindSpeed3pm')\n",
    "pass\n"
   ]
  },
  {
   "cell_type": "code",
   "execution_count": 18,
   "metadata": {},
   "outputs": [
    {
     "data": {
      "image/png": "[encoded data removed]",
      "text/plain": [
       "<Figure size 432x288 with 1 Axes>"
      ]
     },
     "metadata": {
      "needs_background": "light"
     },
     "output_type": "display_data"
    }
   ],
   "source": [
    "plt.scatter(data_raw['Humidity9am'], data_raw['Cloud9am'], alpha=1)\n",
    "plt.xlabel('Humidity9am')\n",
    "plt.ylabel('Cloud9am')\n",
    "pass\n"
   ]
  },
  {
   "cell_type": "code",
   "execution_count": 19,
   "metadata": {},
   "outputs": [
    {
     "data": {
      "image/png": "[encoded data removed]",
      "text/plain": [
       "<Figure size 432x288 with 1 Axes>"
      ]
     },
     "metadata": {
      "needs_background": "light"
     },
     "output_type": "display_data"
    }
   ],
   "source": [
    "plt.scatter(data_raw['Humidity3pm'], data_raw['Cloud3pm'], alpha=1)\n",
    "plt.xlabel('Humidity3pm')\n",
    "plt.ylabel('Cloud3pm')\n",
    "pass\n"
   ]
  },
  {
   "cell_type": "markdown",
   "metadata": {},
   "source": [
    "Из графиков видно, что признаки `Cloud3pm` и `Cloud9am` принимают значение от 0 до 9. Значение равное 9 это выброс (значение этих признаков изменяются от 0 до 8). У признаков `Rainfall`, `Evaporation` и `WindGustSpeed` есть значения, которые сильно отличаются от признаков основной массы объектов.\n",
    "Для обнаружения выборосов рассмотрим квантили для этих признаков."
   ]
  },
  {
   "cell_type": "code",
   "execution_count": 20,
   "metadata": {},
   "outputs": [
    {
     "data": {
      "text/plain": [
       "0.10    1.0\n",
       "0.50    5.0\n",
       "0.70    7.0\n",
       "0.90    8.0\n",
       "0.95    8.0\n",
       "1.00    9.0\n",
       "Name: Cloud9am, dtype: float64"
      ]
     },
     "execution_count": 20,
     "metadata": {},
     "output_type": "execute_result"
    }
   ],
   "source": [
    "data_raw['Cloud9am'].quantile([.1,.5,.70, .90, .95, 1])"
   ]
  },
  {
   "cell_type": "markdown",
   "metadata": {},
   "source": [
    "Для признака `Cloud9am` уберем все значения, которые превышают значения квантиля равное 0.9. Для признака `Cloud3pm` аналогично"
   ]
  },
  {
   "cell_type": "code",
   "execution_count": 21,
   "metadata": {},
   "outputs": [
    {
     "data": {
      "text/plain": [
       "0.050      0.0\n",
       "0.100      0.0\n",
       "0.500      0.0\n",
       "0.900      6.2\n",
       "0.950     13.0\n",
       "0.990     37.4\n",
       "0.995     53.0\n",
       "0.998     79.2\n",
       "0.999    102.0\n",
       "1.000    371.0\n",
       "Name: Rainfall, dtype: float64"
      ]
     },
     "execution_count": 21,
     "metadata": {},
     "output_type": "execute_result"
    }
   ],
   "source": [
    "data_raw['Rainfall'].quantile([.05, .1, .5, .9, .95, .99, .995,.998,.999, 1])\n"
   ]
  },
  {
   "cell_type": "markdown",
   "metadata": {},
   "source": [
    "Для признака `Rainfall` уберем все значения, значений квантиля которых больше 0.999"
   ]
  },
  {
   "cell_type": "code",
   "execution_count": 22,
   "metadata": {},
   "outputs": [
    {
     "data": {
      "text/plain": [
       "0.050      1.0000\n",
       "0.100      1.4000\n",
       "0.500      4.8000\n",
       "0.900     10.2000\n",
       "0.950     12.0000\n",
       "0.990     18.4000\n",
       "0.995     23.0000\n",
       "0.998     33.5324\n",
       "0.999     42.4662\n",
       "1.000    145.0000\n",
       "Name: Evaporation, dtype: float64"
      ]
     },
     "execution_count": 22,
     "metadata": {},
     "output_type": "execute_result"
    }
   ],
   "source": [
    "data_raw['Evaporation'].quantile([.05, .1, .5, .9, .95, .99, .995, .998, .999, 1])\n"
   ]
  },
  {
   "cell_type": "code",
   "execution_count": 23,
   "metadata": {},
   "outputs": [
    {
     "data": {
      "text/plain": [
       "0.050     20.0\n",
       "0.100     24.0\n",
       "0.500     39.0\n",
       "0.900     57.0\n",
       "0.950     65.0\n",
       "0.990     81.0\n",
       "0.995     87.0\n",
       "0.998     94.0\n",
       "0.999    100.0\n",
       "1.000    135.0\n",
       "Name: WindGustSpeed, dtype: float64"
      ]
     },
     "execution_count": 23,
     "metadata": {},
     "output_type": "execute_result"
    }
   ],
   "source": [
    "data_raw['WindGustSpeed'].quantile(\n",
    "    [.05, .1, .5, .9, .95, .99, .995, .998, .999, 1])\n"
   ]
  },
  {
   "cell_type": "markdown",
   "metadata": {},
   "source": [
    "Соответсвенно для признаков `Evaporation` и `WindGustSpeed` аналогично как и для `Rainfall`"
   ]
  },
  {
   "cell_type": "code",
   "execution_count": 24,
   "metadata": {},
   "outputs": [
    {
     "data": {
      "text/plain": [
       "(145114, 23)"
      ]
     },
     "execution_count": 24,
     "metadata": {},
     "output_type": "execute_result"
    }
   ],
   "source": [
    "rows_to_drop = data_raw[\n",
    "    (data_raw['Cloud9am'] == data_raw['Cloud9am'].quantile(1)) | (data_raw['Cloud3pm'] == data_raw['Cloud3pm'].quantile(1)) | (data_raw['Rainfall'] > data_raw['Rainfall'].quantile(0.999)) | (data_raw['Evaporation'] > data_raw['Evaporation'].quantile(0.999)) | (data_raw['WindGustSpeed'] > data_raw['WindGustSpeed'].quantile(0.999))].index\n",
    "data = data_raw.drop(rows_to_drop)\n",
    "data.shape"
   ]
  },
  {
   "cell_type": "code",
   "execution_count": 25,
   "metadata": {},
   "outputs": [
    {
     "data": {
      "text/html": [
       "<div>\n",
       "<style scoped>\n",
       "    .dataframe tbody tr th:only-of-type {\n",
       "        vertical-align: middle;\n",
       "    }\n",
       "\n",
       "    .dataframe tbody tr th {\n",
       "        vertical-align: top;\n",
       "    }\n",
       "\n",
       "    .dataframe thead th {\n",
       "        text-align: right;\n",
       "    }\n",
       "</style>\n",
       "<table border=\"1\" class=\"dataframe\">\n",
       "  <thead>\n",
       "    <tr style=\"text-align: right;\">\n",
       "      <th></th>\n",
       "      <th>MinTemp</th>\n",
       "      <th>MaxTemp</th>\n",
       "      <th>Rainfall</th>\n",
       "      <th>Evaporation</th>\n",
       "      <th>Sunshine</th>\n",
       "      <th>WindGustSpeed</th>\n",
       "      <th>WindSpeed9am</th>\n",
       "      <th>WindSpeed3pm</th>\n",
       "      <th>Humidity9am</th>\n",
       "      <th>Humidity3pm</th>\n",
       "      <th>Pressure9am</th>\n",
       "      <th>Pressure3pm</th>\n",
       "      <th>Cloud9am</th>\n",
       "      <th>Cloud3pm</th>\n",
       "      <th>Temp9am</th>\n",
       "      <th>Temp3pm</th>\n",
       "    </tr>\n",
       "  </thead>\n",
       "  <tbody>\n",
       "    <tr>\n",
       "      <th>count</th>\n",
       "      <td>143632.000000</td>\n",
       "      <td>143855.000000</td>\n",
       "      <td>141856.000000</td>\n",
       "      <td>82488.000000</td>\n",
       "      <td>75445.000000</td>\n",
       "      <td>134861.000000</td>\n",
       "      <td>143353.000000</td>\n",
       "      <td>142058.000000</td>\n",
       "      <td>142469.000000</td>\n",
       "      <td>140620.000000</td>\n",
       "      <td>130069.000000</td>\n",
       "      <td>130107.000000</td>\n",
       "      <td>89317.000000</td>\n",
       "      <td>85851.000000</td>\n",
       "      <td>143351.000000</td>\n",
       "      <td>141513.000000</td>\n",
       "    </tr>\n",
       "    <tr>\n",
       "      <th>mean</th>\n",
       "      <td>12.183848</td>\n",
       "      <td>23.215642</td>\n",
       "      <td>2.217314</td>\n",
       "      <td>5.416176</td>\n",
       "      <td>7.618526</td>\n",
       "      <td>39.956348</td>\n",
       "      <td>14.018444</td>\n",
       "      <td>18.640816</td>\n",
       "      <td>68.881097</td>\n",
       "      <td>51.523332</td>\n",
       "      <td>1017.669993</td>\n",
       "      <td>1015.275066</td>\n",
       "      <td>4.445156</td>\n",
       "      <td>4.506762</td>\n",
       "      <td>16.982574</td>\n",
       "      <td>21.678980</td>\n",
       "    </tr>\n",
       "    <tr>\n",
       "      <th>std</th>\n",
       "      <td>6.395376</td>\n",
       "      <td>7.115475</td>\n",
       "      <td>7.068215</td>\n",
       "      <td>3.846834</td>\n",
       "      <td>3.781495</td>\n",
       "      <td>13.440696</td>\n",
       "      <td>8.882455</td>\n",
       "      <td>8.777681</td>\n",
       "      <td>19.013097</td>\n",
       "      <td>20.769858</td>\n",
       "      <td>7.094443</td>\n",
       "      <td>7.026386</td>\n",
       "      <td>2.886198</td>\n",
       "      <td>2.719709</td>\n",
       "      <td>6.486823</td>\n",
       "      <td>6.933057</td>\n",
       "    </tr>\n",
       "    <tr>\n",
       "      <th>min</th>\n",
       "      <td>-8.500000</td>\n",
       "      <td>-4.800000</td>\n",
       "      <td>0.000000</td>\n",
       "      <td>0.000000</td>\n",
       "      <td>0.000000</td>\n",
       "      <td>6.000000</td>\n",
       "      <td>0.000000</td>\n",
       "      <td>0.000000</td>\n",
       "      <td>0.000000</td>\n",
       "      <td>0.000000</td>\n",
       "      <td>980.500000</td>\n",
       "      <td>978.200000</td>\n",
       "      <td>0.000000</td>\n",
       "      <td>0.000000</td>\n",
       "      <td>-7.200000</td>\n",
       "      <td>-5.400000</td>\n",
       "    </tr>\n",
       "    <tr>\n",
       "      <th>25%</th>\n",
       "      <td>7.600000</td>\n",
       "      <td>17.900000</td>\n",
       "      <td>0.000000</td>\n",
       "      <td>2.600000</td>\n",
       "      <td>4.900000</td>\n",
       "      <td>31.000000</td>\n",
       "      <td>7.000000</td>\n",
       "      <td>13.000000</td>\n",
       "      <td>57.000000</td>\n",
       "      <td>37.000000</td>\n",
       "      <td>1013.000000</td>\n",
       "      <td>1010.500000</td>\n",
       "      <td>1.000000</td>\n",
       "      <td>2.000000</td>\n",
       "      <td>12.300000</td>\n",
       "      <td>16.600000</td>\n",
       "    </tr>\n",
       "    <tr>\n",
       "      <th>50%</th>\n",
       "      <td>12.000000</td>\n",
       "      <td>22.600000</td>\n",
       "      <td>0.000000</td>\n",
       "      <td>4.800000</td>\n",
       "      <td>8.400000</td>\n",
       "      <td>39.000000</td>\n",
       "      <td>13.000000</td>\n",
       "      <td>19.000000</td>\n",
       "      <td>70.000000</td>\n",
       "      <td>52.000000</td>\n",
       "      <td>1017.600000</td>\n",
       "      <td>1015.300000</td>\n",
       "      <td>5.000000</td>\n",
       "      <td>5.000000</td>\n",
       "      <td>16.700000</td>\n",
       "      <td>21.100000</td>\n",
       "    </tr>\n",
       "    <tr>\n",
       "      <th>75%</th>\n",
       "      <td>16.800000</td>\n",
       "      <td>28.200000</td>\n",
       "      <td>0.800000</td>\n",
       "      <td>7.400000</td>\n",
       "      <td>10.600000</td>\n",
       "      <td>48.000000</td>\n",
       "      <td>19.000000</td>\n",
       "      <td>24.000000</td>\n",
       "      <td>83.000000</td>\n",
       "      <td>66.000000</td>\n",
       "      <td>1022.400000</td>\n",
       "      <td>1020.000000</td>\n",
       "      <td>7.000000</td>\n",
       "      <td>7.000000</td>\n",
       "      <td>21.600000</td>\n",
       "      <td>26.400000</td>\n",
       "    </tr>\n",
       "    <tr>\n",
       "      <th>max</th>\n",
       "      <td>33.900000</td>\n",
       "      <td>48.100000</td>\n",
       "      <td>102.000000</td>\n",
       "      <td>42.400000</td>\n",
       "      <td>14.500000</td>\n",
       "      <td>100.000000</td>\n",
       "      <td>130.000000</td>\n",
       "      <td>83.000000</td>\n",
       "      <td>100.000000</td>\n",
       "      <td>100.000000</td>\n",
       "      <td>1041.000000</td>\n",
       "      <td>1039.600000</td>\n",
       "      <td>8.000000</td>\n",
       "      <td>8.000000</td>\n",
       "      <td>40.200000</td>\n",
       "      <td>46.700000</td>\n",
       "    </tr>\n",
       "  </tbody>\n",
       "</table>\n",
       "</div>"
      ],
      "text/plain": [
       "             MinTemp        MaxTemp       Rainfall   Evaporation  \\\n",
       "count  143632.000000  143855.000000  141856.000000  82488.000000   \n",
       "mean       12.183848      23.215642       2.217314      5.416176   \n",
       "std         6.395376       7.115475       7.068215      3.846834   \n",
       "min        -8.500000      -4.800000       0.000000      0.000000   \n",
       "25%         7.600000      17.900000       0.000000      2.600000   \n",
       "50%        12.000000      22.600000       0.000000      4.800000   \n",
       "75%        16.800000      28.200000       0.800000      7.400000   \n",
       "max        33.900000      48.100000     102.000000     42.400000   \n",
       "\n",
       "           Sunshine  WindGustSpeed   WindSpeed9am   WindSpeed3pm  \\\n",
       "count  75445.000000  134861.000000  143353.000000  142058.000000   \n",
       "mean       7.618526      39.956348      14.018444      18.640816   \n",
       "std        3.781495      13.440696       8.882455       8.777681   \n",
       "min        0.000000       6.000000       0.000000       0.000000   \n",
       "25%        4.900000      31.000000       7.000000      13.000000   \n",
       "50%        8.400000      39.000000      13.000000      19.000000   \n",
       "75%       10.600000      48.000000      19.000000      24.000000   \n",
       "max       14.500000     100.000000     130.000000      83.000000   \n",
       "\n",
       "         Humidity9am    Humidity3pm    Pressure9am    Pressure3pm  \\\n",
       "count  142469.000000  140620.000000  130069.000000  130107.000000   \n",
       "mean       68.881097      51.523332    1017.669993    1015.275066   \n",
       "std        19.013097      20.769858       7.094443       7.026386   \n",
       "min         0.000000       0.000000     980.500000     978.200000   \n",
       "25%        57.000000      37.000000    1013.000000    1010.500000   \n",
       "50%        70.000000      52.000000    1017.600000    1015.300000   \n",
       "75%        83.000000      66.000000    1022.400000    1020.000000   \n",
       "max       100.000000     100.000000    1041.000000    1039.600000   \n",
       "\n",
       "           Cloud9am      Cloud3pm        Temp9am        Temp3pm  \n",
       "count  89317.000000  85851.000000  143351.000000  141513.000000  \n",
       "mean       4.445156      4.506762      16.982574      21.678980  \n",
       "std        2.886198      2.719709       6.486823       6.933057  \n",
       "min        0.000000      0.000000      -7.200000      -5.400000  \n",
       "25%        1.000000      2.000000      12.300000      16.600000  \n",
       "50%        5.000000      5.000000      16.700000      21.100000  \n",
       "75%        7.000000      7.000000      21.600000      26.400000  \n",
       "max        8.000000      8.000000      40.200000      46.700000  "
      ]
     },
     "execution_count": 25,
     "metadata": {},
     "output_type": "execute_result"
    }
   ],
   "source": [
    "data.describe()\n"
   ]
  },
  {
   "cell_type": "markdown",
   "metadata": {},
   "source": [
    "Метрические характеристики числовых признаков:\n",
    "* count - число значений\n",
    "* mean - среднее арифметическое\n",
    "* std - стандратное отклонение\n",
    "* min - минимальное значение\n",
    "* 25% - пертвый квартили\n",
    "* 50% - второй квартиль или медиана\n",
    "* 75% - третий квартиль\n",
    "* max - максимальное значние"
   ]
  },
  {
   "cell_type": "code",
   "execution_count": 26,
   "metadata": {},
   "outputs": [
    {
     "data": {
      "text/html": [
       "<div>\n",
       "<style scoped>\n",
       "    .dataframe tbody tr th:only-of-type {\n",
       "        vertical-align: middle;\n",
       "    }\n",
       "\n",
       "    .dataframe tbody tr th {\n",
       "        vertical-align: top;\n",
       "    }\n",
       "\n",
       "    .dataframe thead th {\n",
       "        text-align: right;\n",
       "    }\n",
       "</style>\n",
       "<table border=\"1\" class=\"dataframe\">\n",
       "  <thead>\n",
       "    <tr style=\"text-align: right;\">\n",
       "      <th></th>\n",
       "      <th>Location</th>\n",
       "      <th>WindGustDir</th>\n",
       "      <th>WindDir9am</th>\n",
       "      <th>WindDir3pm</th>\n",
       "    </tr>\n",
       "  </thead>\n",
       "  <tbody>\n",
       "    <tr>\n",
       "      <th>count</th>\n",
       "      <td>145114</td>\n",
       "      <td>134798</td>\n",
       "      <td>134559</td>\n",
       "      <td>140893</td>\n",
       "    </tr>\n",
       "    <tr>\n",
       "      <th>unique</th>\n",
       "      <td>49</td>\n",
       "      <td>16</td>\n",
       "      <td>16</td>\n",
       "      <td>16</td>\n",
       "    </tr>\n",
       "    <tr>\n",
       "      <th>top</th>\n",
       "      <td>Canberra</td>\n",
       "      <td>W</td>\n",
       "      <td>N</td>\n",
       "      <td>SE</td>\n",
       "    </tr>\n",
       "    <tr>\n",
       "      <th>freq</th>\n",
       "      <td>3433</td>\n",
       "      <td>9882</td>\n",
       "      <td>11737</td>\n",
       "      <td>10819</td>\n",
       "    </tr>\n",
       "  </tbody>\n",
       "</table>\n",
       "</div>"
      ],
      "text/plain": [
       "        Location WindGustDir WindDir9am WindDir3pm\n",
       "count     145114      134798     134559     140893\n",
       "unique        49          16         16         16\n",
       "top     Canberra           W          N         SE\n",
       "freq        3433        9882      11737      10819"
      ]
     },
     "execution_count": 26,
     "metadata": {},
     "output_type": "execute_result"
    }
   ],
   "source": [
    "data.describe(include=['category'])\n"
   ]
  },
  {
   "cell_type": "markdown",
   "metadata": {},
   "source": [
    "Матрица корреляции для количественных признаков:"
   ]
  },
  {
   "cell_type": "code",
   "execution_count": 27,
   "metadata": {},
   "outputs": [
    {
     "data": {
      "image/png": "[encoded data removed]",
      "text/plain": [
       "<Figure size 432x288 with 2 Axes>"
      ]
     },
     "metadata": {
      "needs_background": "light"
     },
     "output_type": "display_data"
    }
   ],
   "source": [
    "corr_mat = data.corr()\n",
    "sns.heatmap(corr_mat, square=True, cmap='coolwarm')\n",
    "pass\n"
   ]
  },
  {
   "cell_type": "markdown",
   "metadata": {},
   "source": [
    "Как видно из графика, есть признаки которые коррелируют между собой "
   ]
  },
  {
   "cell_type": "code",
   "execution_count": 28,
   "metadata": {},
   "outputs": [
    {
     "data": {
      "text/plain": [
       "MaxTemp        Temp3pm         0.984540\n",
       "Pressure9am    Pressure3pm     0.961304\n",
       "MinTemp        Temp9am         0.901753\n",
       "MaxTemp        Temp9am         0.887181\n",
       "Temp9am        Temp3pm         0.860585\n",
       "MinTemp        MaxTemp         0.736471\n",
       "               Temp3pm         0.708830\n",
       "WindGustSpeed  WindSpeed3pm    0.686162\n",
       "Humidity9am    Humidity3pm     0.666257\n",
       "MaxTemp        Evaporation     0.625688\n",
       "Evaporation    Temp3pm         0.609953\n",
       "WindGustSpeed  WindSpeed9am    0.604891\n",
       "Cloud9am       Cloud3pm        0.602925\n",
       "Evaporation    Temp9am         0.583413\n",
       "Humidity3pm    Cloud3pm        0.522193\n",
       "WindSpeed9am   WindSpeed3pm    0.518042\n",
       "Humidity3pm    Cloud9am        0.516048\n",
       "dtype: float64"
      ]
     },
     "execution_count": 28,
     "metadata": {},
     "output_type": "execute_result"
    }
   ],
   "source": [
    "corr_mat.where(np.triu(corr_mat > 0.5, k=1)\n",
    "               ).stack().sort_values(ascending=False)\n"
   ]
  },
  {
   "cell_type": "markdown",
   "metadata": {},
   "source": [
    "Посмотрим графики после преобразования данных"
   ]
  },
  {
   "cell_type": "code",
   "execution_count": 29,
   "metadata": {},
   "outputs": [],
   "source": [
    "np.random.seed(42)\n",
    "random_sub = np.random.choice(\n",
    "    np.arange(data.shape[0]), size=5000, replace=False)\n"
   ]
  },
  {
   "cell_type": "code",
   "execution_count": 30,
   "metadata": {},
   "outputs": [
    {
     "data": {
      "image/png": "[encoded data removed]",
      "text/plain": [
       "<Figure size 432x288 with 1 Axes>"
      ]
     },
     "metadata": {
      "needs_background": "light"
     },
     "output_type": "display_data"
    }
   ],
   "source": [
    "plt.scatter(data.iloc[random_sub]['Rainfall'],\n",
    "            data.iloc[random_sub]['Humidity3pm'], alpha=0.1)\n",
    "plt.xlabel('Rainfall')\n",
    "plt.ylabel('Humidity3pm')\n",
    "pass\n"
   ]
  },
  {
   "cell_type": "code",
   "execution_count": 31,
   "metadata": {},
   "outputs": [
    {
     "data": {
      "image/png": "[encoded data removed]",
      "text/plain": [
       "<Figure size 432x288 with 1 Axes>"
      ]
     },
     "metadata": {
      "needs_background": "light"
     },
     "output_type": "display_data"
    }
   ],
   "source": [
    "plt.scatter(data.iloc[random_sub]['Evaporation'],\n",
    "            data.iloc[random_sub]['Sunshine'], alpha=0.1)\n",
    "plt.xlabel('Evaporation')\n",
    "plt.ylabel('Sunshine')\n",
    "pass\n"
   ]
  },
  {
   "cell_type": "code",
   "execution_count": 32,
   "metadata": {},
   "outputs": [
    {
     "data": {
      "image/png": "[encoded data removed]",
      "text/plain": [
       "<Figure size 432x288 with 1 Axes>"
      ]
     },
     "metadata": {
      "needs_background": "light"
     },
     "output_type": "display_data"
    }
   ],
   "source": [
    "plt.scatter(data.iloc[random_sub]['WindGustSpeed'],\n",
    "            data.iloc[random_sub]['WindSpeed3pm'], alpha=0.1)\n",
    "plt.xlabel('WindGustSpeed')\n",
    "plt.ylabel('WindSpeed3pm')\n",
    "pass\n"
   ]
  },
  {
   "cell_type": "code",
   "execution_count": 33,
   "metadata": {},
   "outputs": [
    {
     "data": {
      "image/png": "[encoded data removed]",
      "text/plain": [
       "<Figure size 432x288 with 1 Axes>"
      ]
     },
     "metadata": {
      "needs_background": "light"
     },
     "output_type": "display_data"
    }
   ],
   "source": [
    "plt.scatter(data.iloc[random_sub]['Humidity3pm'],\n",
    "            data.iloc[random_sub]['Cloud3pm'], alpha=0.1)\n",
    "plt.xlabel('Humidity3pm')\n",
    "plt.ylabel('Cloud3pm')\n",
    "pass\n"
   ]
  },
  {
   "cell_type": "markdown",
   "metadata": {},
   "source": [
    "## Обработка пропущенных значений"
   ]
  },
  {
   "cell_type": "markdown",
   "metadata": {},
   "source": [
    "Определим признаки, которые содержат пропущенные значения"
   ]
  },
  {
   "cell_type": "code",
   "execution_count": 34,
   "metadata": {},
   "outputs": [
    {
     "data": {
      "text/plain": [
       "Date                 0\n",
       "Location             0\n",
       "MinTemp           1482\n",
       "MaxTemp           1259\n",
       "Rainfall          3258\n",
       "Evaporation      62626\n",
       "Sunshine         69669\n",
       "WindGustDir      10316\n",
       "WindGustSpeed    10253\n",
       "WindDir9am       10555\n",
       "WindDir3pm        4221\n",
       "WindSpeed9am      1761\n",
       "WindSpeed3pm      3056\n",
       "Humidity9am       2645\n",
       "Humidity3pm       4494\n",
       "Pressure9am      15045\n",
       "Pressure3pm      15007\n",
       "Cloud9am         55797\n",
       "Cloud3pm         59263\n",
       "Temp9am           1763\n",
       "Temp3pm           3601\n",
       "RainToday         3258\n",
       "RainTomorrow      3262\n",
       "dtype: int64"
      ]
     },
     "execution_count": 34,
     "metadata": {},
     "output_type": "execute_result"
    }
   ],
   "source": [
    "data.isna().sum()"
   ]
  },
  {
   "cell_type": "markdown",
   "metadata": {},
   "source": [
    "Пропущенныные значения для каждой количественной переменной заполняем их средним или медианным значением"
   ]
  },
  {
   "cell_type": "code",
   "execution_count": 35,
   "metadata": {},
   "outputs": [],
   "source": [
    "columns = [\"MinTemp\", \"MaxTemp\", \"Rainfall\", \"Evaporation\", \"Sunshine\", \"WindGustSpeed\", \"WindSpeed9am\", \"WindSpeed3pm\", \"Humidity9am\", \"Humidity3pm\", \"Pressure9am\", \"Pressure3pm\", \"Cloud9am\", \"Cloud3pm\", \"Temp9am\", \"Temp3pm\"]\n",
    "data.fillna(data[columns].median(axis=0), axis=0, inplace=True)\n"
   ]
  },
  {
   "cell_type": "code",
   "execution_count": 36,
   "metadata": {},
   "outputs": [
    {
     "data": {
      "text/plain": [
       "Date                 0\n",
       "Location             0\n",
       "MinTemp              0\n",
       "MaxTemp              0\n",
       "Rainfall             0\n",
       "Evaporation          0\n",
       "Sunshine             0\n",
       "WindGustDir      10316\n",
       "WindGustSpeed        0\n",
       "WindDir9am       10555\n",
       "WindDir3pm        4221\n",
       "WindSpeed9am         0\n",
       "WindSpeed3pm         0\n",
       "Humidity9am          0\n",
       "Humidity3pm          0\n",
       "Pressure9am          0\n",
       "Pressure3pm          0\n",
       "Cloud9am             0\n",
       "Cloud3pm             0\n",
       "Temp9am              0\n",
       "Temp3pm              0\n",
       "RainToday         3258\n",
       "RainTomorrow      3262\n",
       "dtype: int64"
      ]
     },
     "execution_count": 36,
     "metadata": {},
     "output_type": "execute_result"
    }
   ],
   "source": [
    "data.isna().sum()"
   ]
  },
  {
   "cell_type": "markdown",
   "metadata": {},
   "source": [
    "Для категориальных признаков пропущенные значения можно заполнить самым популярным значением в столбце:"
   ]
  },
  {
   "cell_type": "code",
   "execution_count": 37,
   "metadata": {},
   "outputs": [],
   "source": [
    "data['WindGustDir'].fillna(data['WindGustDir'].mode().iloc[0], inplace=True)\n",
    "data['WindDir9am'].fillna(data['WindDir9am'].mode().iloc[0], inplace=True)\n",
    "data['WindDir3pm'].fillna(data['WindDir3pm'].mode().iloc[0], inplace=True)\n"
   ]
  },
  {
   "cell_type": "markdown",
   "metadata": {},
   "source": [
    "Остались пропущенные значения только в целевом признаке и в `RainToday`"
   ]
  },
  {
   "cell_type": "code",
   "execution_count": 38,
   "metadata": {},
   "outputs": [
    {
     "data": {
      "text/plain": [
       "Date                0\n",
       "Location            0\n",
       "MinTemp             0\n",
       "MaxTemp             0\n",
       "Rainfall            0\n",
       "Evaporation         0\n",
       "Sunshine            0\n",
       "WindGustDir         0\n",
       "WindGustSpeed       0\n",
       "WindDir9am          0\n",
       "WindDir3pm          0\n",
       "WindSpeed9am        0\n",
       "WindSpeed3pm        0\n",
       "Humidity9am         0\n",
       "Humidity3pm         0\n",
       "Pressure9am         0\n",
       "Pressure3pm         0\n",
       "Cloud9am            0\n",
       "Cloud3pm            0\n",
       "Temp9am             0\n",
       "Temp3pm             0\n",
       "RainToday        3258\n",
       "RainTomorrow     3262\n",
       "dtype: int64"
      ]
     },
     "execution_count": 38,
     "metadata": {},
     "output_type": "execute_result"
    }
   ],
   "source": [
    "data.isna().sum()"
   ]
  },
  {
   "cell_type": "markdown",
   "metadata": {},
   "source": [
    "Удалим строки, в которых признаки `RainTomorrow` и `RainToday` имеют пропущенные значения, так как столбец `RainTomorrow` целевой, при этом неясно, как заполнить пропущенные значения `RainToday`"
   ]
  },
  {
   "cell_type": "code",
   "execution_count": 39,
   "metadata": {},
   "outputs": [],
   "source": [
    "data.dropna(axis=0, how='all', subset=['RainTomorrow'], inplace=True)\n",
    "data.dropna(axis=0, how='all', subset=['RainToday'], inplace=True)"
   ]
  },
  {
   "cell_type": "code",
   "execution_count": 40,
   "metadata": {},
   "outputs": [
    {
     "data": {
      "text/plain": [
       "Date             0\n",
       "Location         0\n",
       "MinTemp          0\n",
       "MaxTemp          0\n",
       "Rainfall         0\n",
       "Evaporation      0\n",
       "Sunshine         0\n",
       "WindGustDir      0\n",
       "WindGustSpeed    0\n",
       "WindDir9am       0\n",
       "WindDir3pm       0\n",
       "WindSpeed9am     0\n",
       "WindSpeed3pm     0\n",
       "Humidity9am      0\n",
       "Humidity3pm      0\n",
       "Pressure9am      0\n",
       "Pressure3pm      0\n",
       "Cloud9am         0\n",
       "Cloud3pm         0\n",
       "Temp9am          0\n",
       "Temp3pm          0\n",
       "RainToday        0\n",
       "RainTomorrow     0\n",
       "dtype: int64"
      ]
     },
     "execution_count": 40,
     "metadata": {},
     "output_type": "execute_result"
    }
   ],
   "source": [
    "data.isna().sum()\n"
   ]
  },
  {
   "cell_type": "code",
   "execution_count": 41,
   "metadata": {},
   "outputs": [
    {
     "data": {
      "text/html": [
       "<div>\n",
       "<style scoped>\n",
       "    .dataframe tbody tr th:only-of-type {\n",
       "        vertical-align: middle;\n",
       "    }\n",
       "\n",
       "    .dataframe tbody tr th {\n",
       "        vertical-align: top;\n",
       "    }\n",
       "\n",
       "    .dataframe thead th {\n",
       "        text-align: right;\n",
       "    }\n",
       "</style>\n",
       "<table border=\"1\" class=\"dataframe\">\n",
       "  <thead>\n",
       "    <tr style=\"text-align: right;\">\n",
       "      <th></th>\n",
       "      <th>MinTemp</th>\n",
       "      <th>MaxTemp</th>\n",
       "      <th>Rainfall</th>\n",
       "      <th>Evaporation</th>\n",
       "      <th>Sunshine</th>\n",
       "      <th>WindGustSpeed</th>\n",
       "      <th>WindSpeed9am</th>\n",
       "      <th>WindSpeed3pm</th>\n",
       "      <th>Humidity9am</th>\n",
       "      <th>Humidity3pm</th>\n",
       "      <th>Pressure9am</th>\n",
       "      <th>Pressure3pm</th>\n",
       "      <th>Cloud9am</th>\n",
       "      <th>Cloud3pm</th>\n",
       "      <th>Temp9am</th>\n",
       "      <th>Temp3pm</th>\n",
       "    </tr>\n",
       "  </thead>\n",
       "  <tbody>\n",
       "    <tr>\n",
       "      <th>count</th>\n",
       "      <td>140448.000000</td>\n",
       "      <td>140448.000000</td>\n",
       "      <td>140448.000000</td>\n",
       "      <td>140448.000000</td>\n",
       "      <td>140448.000000</td>\n",
       "      <td>140448.000000</td>\n",
       "      <td>140448.000000</td>\n",
       "      <td>140448.000000</td>\n",
       "      <td>140448.000000</td>\n",
       "      <td>140448.000000</td>\n",
       "      <td>140448.000000</td>\n",
       "      <td>140448.000000</td>\n",
       "      <td>140448.000000</td>\n",
       "      <td>140448.000000</td>\n",
       "      <td>140448.000000</td>\n",
       "      <td>140448.000000</td>\n",
       "    </tr>\n",
       "    <tr>\n",
       "      <th>mean</th>\n",
       "      <td>12.174054</td>\n",
       "      <td>23.228099</td>\n",
       "      <td>2.205980</td>\n",
       "      <td>5.157692</td>\n",
       "      <td>7.999496</td>\n",
       "      <td>39.834508</td>\n",
       "      <td>13.958276</td>\n",
       "      <td>18.616492</td>\n",
       "      <td>68.839706</td>\n",
       "      <td>51.448009</td>\n",
       "      <td>1017.667429</td>\n",
       "      <td>1015.279443</td>\n",
       "      <td>4.642515</td>\n",
       "      <td>4.697020</td>\n",
       "      <td>16.977867</td>\n",
       "      <td>21.677820</td>\n",
       "    </tr>\n",
       "    <tr>\n",
       "      <th>std</th>\n",
       "      <td>6.390299</td>\n",
       "      <td>7.103332</td>\n",
       "      <td>7.048667</td>\n",
       "      <td>2.934446</td>\n",
       "      <td>2.764822</td>\n",
       "      <td>12.974799</td>\n",
       "      <td>8.820489</td>\n",
       "      <td>8.686798</td>\n",
       "      <td>18.944766</td>\n",
       "      <td>20.521337</td>\n",
       "      <td>6.737299</td>\n",
       "      <td>6.671699</td>\n",
       "      <td>2.299620</td>\n",
       "      <td>2.122778</td>\n",
       "      <td>6.479128</td>\n",
       "      <td>6.869793</td>\n",
       "    </tr>\n",
       "    <tr>\n",
       "      <th>min</th>\n",
       "      <td>-8.500000</td>\n",
       "      <td>-4.800000</td>\n",
       "      <td>0.000000</td>\n",
       "      <td>0.000000</td>\n",
       "      <td>0.000000</td>\n",
       "      <td>6.000000</td>\n",
       "      <td>0.000000</td>\n",
       "      <td>0.000000</td>\n",
       "      <td>0.000000</td>\n",
       "      <td>0.000000</td>\n",
       "      <td>980.500000</td>\n",
       "      <td>978.200000</td>\n",
       "      <td>0.000000</td>\n",
       "      <td>0.000000</td>\n",
       "      <td>-7.200000</td>\n",
       "      <td>-5.400000</td>\n",
       "    </tr>\n",
       "    <tr>\n",
       "      <th>25%</th>\n",
       "      <td>7.600000</td>\n",
       "      <td>17.900000</td>\n",
       "      <td>0.000000</td>\n",
       "      <td>4.000000</td>\n",
       "      <td>8.200000</td>\n",
       "      <td>31.000000</td>\n",
       "      <td>7.000000</td>\n",
       "      <td>13.000000</td>\n",
       "      <td>57.000000</td>\n",
       "      <td>37.000000</td>\n",
       "      <td>1013.500000</td>\n",
       "      <td>1011.000000</td>\n",
       "      <td>3.000000</td>\n",
       "      <td>4.000000</td>\n",
       "      <td>12.300000</td>\n",
       "      <td>16.700000</td>\n",
       "    </tr>\n",
       "    <tr>\n",
       "      <th>50%</th>\n",
       "      <td>12.000000</td>\n",
       "      <td>22.600000</td>\n",
       "      <td>0.000000</td>\n",
       "      <td>4.800000</td>\n",
       "      <td>8.400000</td>\n",
       "      <td>39.000000</td>\n",
       "      <td>13.000000</td>\n",
       "      <td>19.000000</td>\n",
       "      <td>70.000000</td>\n",
       "      <td>52.000000</td>\n",
       "      <td>1017.600000</td>\n",
       "      <td>1015.300000</td>\n",
       "      <td>5.000000</td>\n",
       "      <td>5.000000</td>\n",
       "      <td>16.700000</td>\n",
       "      <td>21.100000</td>\n",
       "    </tr>\n",
       "    <tr>\n",
       "      <th>75%</th>\n",
       "      <td>16.800000</td>\n",
       "      <td>28.200000</td>\n",
       "      <td>0.600000</td>\n",
       "      <td>5.400000</td>\n",
       "      <td>8.800000</td>\n",
       "      <td>46.000000</td>\n",
       "      <td>19.000000</td>\n",
       "      <td>24.000000</td>\n",
       "      <td>83.000000</td>\n",
       "      <td>65.000000</td>\n",
       "      <td>1021.800000</td>\n",
       "      <td>1019.400000</td>\n",
       "      <td>6.000000</td>\n",
       "      <td>6.000000</td>\n",
       "      <td>21.500000</td>\n",
       "      <td>26.300000</td>\n",
       "    </tr>\n",
       "    <tr>\n",
       "      <th>max</th>\n",
       "      <td>33.900000</td>\n",
       "      <td>48.100000</td>\n",
       "      <td>102.000000</td>\n",
       "      <td>42.400000</td>\n",
       "      <td>14.500000</td>\n",
       "      <td>100.000000</td>\n",
       "      <td>130.000000</td>\n",
       "      <td>83.000000</td>\n",
       "      <td>100.000000</td>\n",
       "      <td>100.000000</td>\n",
       "      <td>1041.000000</td>\n",
       "      <td>1039.600000</td>\n",
       "      <td>8.000000</td>\n",
       "      <td>8.000000</td>\n",
       "      <td>40.200000</td>\n",
       "      <td>46.700000</td>\n",
       "    </tr>\n",
       "  </tbody>\n",
       "</table>\n",
       "</div>"
      ],
      "text/plain": [
       "             MinTemp        MaxTemp       Rainfall    Evaporation  \\\n",
       "count  140448.000000  140448.000000  140448.000000  140448.000000   \n",
       "mean       12.174054      23.228099       2.205980       5.157692   \n",
       "std         6.390299       7.103332       7.048667       2.934446   \n",
       "min        -8.500000      -4.800000       0.000000       0.000000   \n",
       "25%         7.600000      17.900000       0.000000       4.000000   \n",
       "50%        12.000000      22.600000       0.000000       4.800000   \n",
       "75%        16.800000      28.200000       0.600000       5.400000   \n",
       "max        33.900000      48.100000     102.000000      42.400000   \n",
       "\n",
       "            Sunshine  WindGustSpeed   WindSpeed9am   WindSpeed3pm  \\\n",
       "count  140448.000000  140448.000000  140448.000000  140448.000000   \n",
       "mean        7.999496      39.834508      13.958276      18.616492   \n",
       "std         2.764822      12.974799       8.820489       8.686798   \n",
       "min         0.000000       6.000000       0.000000       0.000000   \n",
       "25%         8.200000      31.000000       7.000000      13.000000   \n",
       "50%         8.400000      39.000000      13.000000      19.000000   \n",
       "75%         8.800000      46.000000      19.000000      24.000000   \n",
       "max        14.500000     100.000000     130.000000      83.000000   \n",
       "\n",
       "         Humidity9am    Humidity3pm    Pressure9am    Pressure3pm  \\\n",
       "count  140448.000000  140448.000000  140448.000000  140448.000000   \n",
       "mean       68.839706      51.448009    1017.667429    1015.279443   \n",
       "std        18.944766      20.521337       6.737299       6.671699   \n",
       "min         0.000000       0.000000     980.500000     978.200000   \n",
       "25%        57.000000      37.000000    1013.500000    1011.000000   \n",
       "50%        70.000000      52.000000    1017.600000    1015.300000   \n",
       "75%        83.000000      65.000000    1021.800000    1019.400000   \n",
       "max       100.000000     100.000000    1041.000000    1039.600000   \n",
       "\n",
       "            Cloud9am       Cloud3pm        Temp9am        Temp3pm  \n",
       "count  140448.000000  140448.000000  140448.000000  140448.000000  \n",
       "mean        4.642515       4.697020      16.977867      21.677820  \n",
       "std         2.299620       2.122778       6.479128       6.869793  \n",
       "min         0.000000       0.000000      -7.200000      -5.400000  \n",
       "25%         3.000000       4.000000      12.300000      16.700000  \n",
       "50%         5.000000       5.000000      16.700000      21.100000  \n",
       "75%         6.000000       6.000000      21.500000      26.300000  \n",
       "max         8.000000       8.000000      40.200000      46.700000  "
      ]
     },
     "execution_count": 41,
     "metadata": {},
     "output_type": "execute_result"
    }
   ],
   "source": [
    "data.describe()\n"
   ]
  },
  {
   "cell_type": "code",
   "execution_count": 42,
   "metadata": {},
   "outputs": [
    {
     "data": {
      "text/html": [
       "<div>\n",
       "<style scoped>\n",
       "    .dataframe tbody tr th:only-of-type {\n",
       "        vertical-align: middle;\n",
       "    }\n",
       "\n",
       "    .dataframe tbody tr th {\n",
       "        vertical-align: top;\n",
       "    }\n",
       "\n",
       "    .dataframe thead th {\n",
       "        text-align: right;\n",
       "    }\n",
       "</style>\n",
       "<table border=\"1\" class=\"dataframe\">\n",
       "  <thead>\n",
       "    <tr style=\"text-align: right;\">\n",
       "      <th></th>\n",
       "      <th>Location</th>\n",
       "      <th>WindGustDir</th>\n",
       "      <th>WindDir9am</th>\n",
       "      <th>WindDir3pm</th>\n",
       "    </tr>\n",
       "  </thead>\n",
       "  <tbody>\n",
       "    <tr>\n",
       "      <th>count</th>\n",
       "      <td>140448</td>\n",
       "      <td>140448</td>\n",
       "      <td>140448</td>\n",
       "      <td>140448</td>\n",
       "    </tr>\n",
       "    <tr>\n",
       "      <th>unique</th>\n",
       "      <td>49</td>\n",
       "      <td>16</td>\n",
       "      <td>16</td>\n",
       "      <td>16</td>\n",
       "    </tr>\n",
       "    <tr>\n",
       "      <th>top</th>\n",
       "      <td>Canberra</td>\n",
       "      <td>W</td>\n",
       "      <td>N</td>\n",
       "      <td>SE</td>\n",
       "    </tr>\n",
       "    <tr>\n",
       "      <th>freq</th>\n",
       "      <td>3399</td>\n",
       "      <td>18816</td>\n",
       "      <td>20897</td>\n",
       "      <td>14223</td>\n",
       "    </tr>\n",
       "  </tbody>\n",
       "</table>\n",
       "</div>"
      ],
      "text/plain": [
       "        Location WindGustDir WindDir9am WindDir3pm\n",
       "count     140448      140448     140448     140448\n",
       "unique        49          16         16         16\n",
       "top     Canberra           W          N         SE\n",
       "freq        3399       18816      20897      14223"
      ]
     },
     "execution_count": 42,
     "metadata": {},
     "output_type": "execute_result"
    }
   ],
   "source": [
    "data.describe(include=['category'])\n"
   ]
  },
  {
   "cell_type": "markdown",
   "metadata": {},
   "source": [
    "Преобразуем столбцы `RainTomorrow` и `RainToday` к числовому значению, пригодится для нормализации"
   ]
  },
  {
   "cell_type": "code",
   "execution_count": 43,
   "metadata": {},
   "outputs": [],
   "source": [
    "data['RainTomorrow'] = data['RainTomorrow'].astype('float32')\n",
    "data['RainToday'] = data['RainToday'].astype('float32')"
   ]
  },
  {
   "cell_type": "markdown",
   "metadata": {},
   "source": [
    "## Обработка категориальных признаков"
   ]
  },
  {
   "cell_type": "markdown",
   "metadata": {},
   "source": [
    "Бинаризуем категориальные признаки:"
   ]
  },
  {
   "cell_type": "code",
   "execution_count": 44,
   "metadata": {},
   "outputs": [
    {
     "data": {
      "text/plain": [
       "(140448, 116)"
      ]
     },
     "execution_count": 44,
     "metadata": {},
     "output_type": "execute_result"
    }
   ],
   "source": [
    "data = pd.get_dummies(data)\n",
    "data.shape"
   ]
  },
  {
   "cell_type": "code",
   "execution_count": 45,
   "metadata": {},
   "outputs": [
    {
     "data": {
      "text/html": [
       "<div>\n",
       "<style scoped>\n",
       "    .dataframe tbody tr th:only-of-type {\n",
       "        vertical-align: middle;\n",
       "    }\n",
       "\n",
       "    .dataframe tbody tr th {\n",
       "        vertical-align: top;\n",
       "    }\n",
       "\n",
       "    .dataframe thead th {\n",
       "        text-align: right;\n",
       "    }\n",
       "</style>\n",
       "<table border=\"1\" class=\"dataframe\">\n",
       "  <thead>\n",
       "    <tr style=\"text-align: right;\">\n",
       "      <th></th>\n",
       "      <th>Date</th>\n",
       "      <th>MinTemp</th>\n",
       "      <th>MaxTemp</th>\n",
       "      <th>Rainfall</th>\n",
       "      <th>Evaporation</th>\n",
       "      <th>Sunshine</th>\n",
       "      <th>WindGustSpeed</th>\n",
       "      <th>WindSpeed9am</th>\n",
       "      <th>WindSpeed3pm</th>\n",
       "      <th>Humidity9am</th>\n",
       "      <th>...</th>\n",
       "      <th>WindDir3pm_NNW</th>\n",
       "      <th>WindDir3pm_NW</th>\n",
       "      <th>WindDir3pm_S</th>\n",
       "      <th>WindDir3pm_SE</th>\n",
       "      <th>WindDir3pm_SSE</th>\n",
       "      <th>WindDir3pm_SSW</th>\n",
       "      <th>WindDir3pm_SW</th>\n",
       "      <th>WindDir3pm_W</th>\n",
       "      <th>WindDir3pm_WNW</th>\n",
       "      <th>WindDir3pm_WSW</th>\n",
       "    </tr>\n",
       "  </thead>\n",
       "  <tbody>\n",
       "    <tr>\n",
       "      <th>0</th>\n",
       "      <td>2008-12-01</td>\n",
       "      <td>13.4</td>\n",
       "      <td>22.9</td>\n",
       "      <td>0.6</td>\n",
       "      <td>4.8</td>\n",
       "      <td>8.4</td>\n",
       "      <td>44.0</td>\n",
       "      <td>20.0</td>\n",
       "      <td>24.0</td>\n",
       "      <td>71.0</td>\n",
       "      <td>...</td>\n",
       "      <td>0</td>\n",
       "      <td>0</td>\n",
       "      <td>0</td>\n",
       "      <td>0</td>\n",
       "      <td>0</td>\n",
       "      <td>0</td>\n",
       "      <td>0</td>\n",
       "      <td>0</td>\n",
       "      <td>1</td>\n",
       "      <td>0</td>\n",
       "    </tr>\n",
       "    <tr>\n",
       "      <th>1</th>\n",
       "      <td>2008-12-02</td>\n",
       "      <td>7.4</td>\n",
       "      <td>25.1</td>\n",
       "      <td>0.0</td>\n",
       "      <td>4.8</td>\n",
       "      <td>8.4</td>\n",
       "      <td>44.0</td>\n",
       "      <td>4.0</td>\n",
       "      <td>22.0</td>\n",
       "      <td>44.0</td>\n",
       "      <td>...</td>\n",
       "      <td>0</td>\n",
       "      <td>0</td>\n",
       "      <td>0</td>\n",
       "      <td>0</td>\n",
       "      <td>0</td>\n",
       "      <td>0</td>\n",
       "      <td>0</td>\n",
       "      <td>0</td>\n",
       "      <td>0</td>\n",
       "      <td>1</td>\n",
       "    </tr>\n",
       "    <tr>\n",
       "      <th>2</th>\n",
       "      <td>2008-12-03</td>\n",
       "      <td>12.9</td>\n",
       "      <td>25.7</td>\n",
       "      <td>0.0</td>\n",
       "      <td>4.8</td>\n",
       "      <td>8.4</td>\n",
       "      <td>46.0</td>\n",
       "      <td>19.0</td>\n",
       "      <td>26.0</td>\n",
       "      <td>38.0</td>\n",
       "      <td>...</td>\n",
       "      <td>0</td>\n",
       "      <td>0</td>\n",
       "      <td>0</td>\n",
       "      <td>0</td>\n",
       "      <td>0</td>\n",
       "      <td>0</td>\n",
       "      <td>0</td>\n",
       "      <td>0</td>\n",
       "      <td>0</td>\n",
       "      <td>1</td>\n",
       "    </tr>\n",
       "    <tr>\n",
       "      <th>3</th>\n",
       "      <td>2008-12-04</td>\n",
       "      <td>9.2</td>\n",
       "      <td>28.0</td>\n",
       "      <td>0.0</td>\n",
       "      <td>4.8</td>\n",
       "      <td>8.4</td>\n",
       "      <td>24.0</td>\n",
       "      <td>11.0</td>\n",
       "      <td>9.0</td>\n",
       "      <td>45.0</td>\n",
       "      <td>...</td>\n",
       "      <td>0</td>\n",
       "      <td>0</td>\n",
       "      <td>0</td>\n",
       "      <td>0</td>\n",
       "      <td>0</td>\n",
       "      <td>0</td>\n",
       "      <td>0</td>\n",
       "      <td>0</td>\n",
       "      <td>0</td>\n",
       "      <td>0</td>\n",
       "    </tr>\n",
       "    <tr>\n",
       "      <th>4</th>\n",
       "      <td>2008-12-05</td>\n",
       "      <td>17.5</td>\n",
       "      <td>32.3</td>\n",
       "      <td>1.0</td>\n",
       "      <td>4.8</td>\n",
       "      <td>8.4</td>\n",
       "      <td>41.0</td>\n",
       "      <td>7.0</td>\n",
       "      <td>20.0</td>\n",
       "      <td>82.0</td>\n",
       "      <td>...</td>\n",
       "      <td>0</td>\n",
       "      <td>1</td>\n",
       "      <td>0</td>\n",
       "      <td>0</td>\n",
       "      <td>0</td>\n",
       "      <td>0</td>\n",
       "      <td>0</td>\n",
       "      <td>0</td>\n",
       "      <td>0</td>\n",
       "      <td>0</td>\n",
       "    </tr>\n",
       "  </tbody>\n",
       "</table>\n",
       "<p>5 rows × 116 columns</p>\n",
       "</div>"
      ],
      "text/plain": [
       "        Date  MinTemp  MaxTemp  Rainfall  Evaporation  Sunshine  \\\n",
       "0 2008-12-01     13.4     22.9       0.6          4.8       8.4   \n",
       "1 2008-12-02      7.4     25.1       0.0          4.8       8.4   \n",
       "2 2008-12-03     12.9     25.7       0.0          4.8       8.4   \n",
       "3 2008-12-04      9.2     28.0       0.0          4.8       8.4   \n",
       "4 2008-12-05     17.5     32.3       1.0          4.8       8.4   \n",
       "\n",
       "   WindGustSpeed  WindSpeed9am  WindSpeed3pm  Humidity9am  ...  \\\n",
       "0           44.0          20.0          24.0         71.0  ...   \n",
       "1           44.0           4.0          22.0         44.0  ...   \n",
       "2           46.0          19.0          26.0         38.0  ...   \n",
       "3           24.0          11.0           9.0         45.0  ...   \n",
       "4           41.0           7.0          20.0         82.0  ...   \n",
       "\n",
       "   WindDir3pm_NNW  WindDir3pm_NW  WindDir3pm_S  WindDir3pm_SE  WindDir3pm_SSE  \\\n",
       "0               0              0             0              0               0   \n",
       "1               0              0             0              0               0   \n",
       "2               0              0             0              0               0   \n",
       "3               0              0             0              0               0   \n",
       "4               0              1             0              0               0   \n",
       "\n",
       "   WindDir3pm_SSW  WindDir3pm_SW  WindDir3pm_W  WindDir3pm_WNW  WindDir3pm_WSW  \n",
       "0               0              0             0               1               0  \n",
       "1               0              0             0               0               1  \n",
       "2               0              0             0               0               1  \n",
       "3               0              0             0               0               0  \n",
       "4               0              0             0               0               0  \n",
       "\n",
       "[5 rows x 116 columns]"
      ]
     },
     "execution_count": 45,
     "metadata": {},
     "output_type": "execute_result"
    }
   ],
   "source": [
    "data.head()"
   ]
  },
  {
   "cell_type": "markdown",
   "metadata": {},
   "source": [
    "## Проведение нормализации"
   ]
  },
  {
   "cell_type": "markdown",
   "metadata": {},
   "source": [
    "Выполним стандартизацию (линейное преобразование, приводящее все значения к нулевому среднему и единичному стандартному отклонению) всех признаков. Для этого удалим столбец с признаком `Data`, в дальнейшем он не пригодится"
   ]
  },
  {
   "cell_type": "code",
   "execution_count": 46,
   "metadata": {},
   "outputs": [],
   "source": [
    "data_stand = data.drop(['Date'], axis=1)\n",
    "np.random.seed(52)\n",
    "random_subset = np.random.choice(\n",
    "    np.arange(data_stand.shape[0]), size=40000, replace=False)\n",
    "data_stand = data_stand.iloc[random_subset]\n",
    "data_stand = (data_stand - data_stand.min(axis=0)) / \\\n",
    "    (data_stand.max(axis=0) - data_stand.min(axis=0))\n"
   ]
  },
  {
   "cell_type": "markdown",
   "metadata": {},
   "source": [
    "Приведем признаки столбцов `RainTomorrow` и `RainToday` к исходному типу"
   ]
  },
  {
   "cell_type": "code",
   "execution_count": 47,
   "metadata": {},
   "outputs": [],
   "source": [
    "data_stand['RainTomorrow'].astype('bool')\n",
    "data_stand['RainToday'].astype('bool')\n",
    "pass"
   ]
  },
  {
   "cell_type": "code",
   "execution_count": 48,
   "metadata": {},
   "outputs": [
    {
     "data": {
      "text/html": [
       "<div>\n",
       "<style scoped>\n",
       "    .dataframe tbody tr th:only-of-type {\n",
       "        vertical-align: middle;\n",
       "    }\n",
       "\n",
       "    .dataframe tbody tr th {\n",
       "        vertical-align: top;\n",
       "    }\n",
       "\n",
       "    .dataframe thead th {\n",
       "        text-align: right;\n",
       "    }\n",
       "</style>\n",
       "<table border=\"1\" class=\"dataframe\">\n",
       "  <thead>\n",
       "    <tr style=\"text-align: right;\">\n",
       "      <th></th>\n",
       "      <th>MinTemp</th>\n",
       "      <th>MaxTemp</th>\n",
       "      <th>Rainfall</th>\n",
       "      <th>Evaporation</th>\n",
       "      <th>Sunshine</th>\n",
       "      <th>WindGustSpeed</th>\n",
       "      <th>WindSpeed9am</th>\n",
       "      <th>WindSpeed3pm</th>\n",
       "      <th>Humidity9am</th>\n",
       "      <th>Humidity3pm</th>\n",
       "      <th>...</th>\n",
       "      <th>WindDir3pm_NNW</th>\n",
       "      <th>WindDir3pm_NW</th>\n",
       "      <th>WindDir3pm_S</th>\n",
       "      <th>WindDir3pm_SE</th>\n",
       "      <th>WindDir3pm_SSE</th>\n",
       "      <th>WindDir3pm_SSW</th>\n",
       "      <th>WindDir3pm_SW</th>\n",
       "      <th>WindDir3pm_W</th>\n",
       "      <th>WindDir3pm_WNW</th>\n",
       "      <th>WindDir3pm_WSW</th>\n",
       "    </tr>\n",
       "  </thead>\n",
       "  <tbody>\n",
       "    <tr>\n",
       "      <th>count</th>\n",
       "      <td>40000.000000</td>\n",
       "      <td>40000.000000</td>\n",
       "      <td>40000.000000</td>\n",
       "      <td>40000.000000</td>\n",
       "      <td>40000.000000</td>\n",
       "      <td>40000.000000</td>\n",
       "      <td>40000.000000</td>\n",
       "      <td>40000.000000</td>\n",
       "      <td>40000.000000</td>\n",
       "      <td>40000.000000</td>\n",
       "      <td>...</td>\n",
       "      <td>40000.000000</td>\n",
       "      <td>40000.000000</td>\n",
       "      <td>40000.000000</td>\n",
       "      <td>40000.000000</td>\n",
       "      <td>40000.000000</td>\n",
       "      <td>40000.000000</td>\n",
       "      <td>40000.000000</td>\n",
       "      <td>40000.000000</td>\n",
       "      <td>40000.00000</td>\n",
       "      <td>40000.000000</td>\n",
       "    </tr>\n",
       "    <tr>\n",
       "      <th>mean</th>\n",
       "      <td>0.518441</td>\n",
       "      <td>0.542499</td>\n",
       "      <td>0.021644</td>\n",
       "      <td>0.126185</td>\n",
       "      <td>0.559178</td>\n",
       "      <td>0.359130</td>\n",
       "      <td>0.188402</td>\n",
       "      <td>0.285667</td>\n",
       "      <td>0.688035</td>\n",
       "      <td>0.513705</td>\n",
       "      <td>...</td>\n",
       "      <td>0.053125</td>\n",
       "      <td>0.060925</td>\n",
       "      <td>0.068850</td>\n",
       "      <td>0.101250</td>\n",
       "      <td>0.064325</td>\n",
       "      <td>0.056450</td>\n",
       "      <td>0.064325</td>\n",
       "      <td>0.068800</td>\n",
       "      <td>0.05965</td>\n",
       "      <td>0.064625</td>\n",
       "    </tr>\n",
       "    <tr>\n",
       "      <th>std</th>\n",
       "      <td>0.160503</td>\n",
       "      <td>0.137247</td>\n",
       "      <td>0.068888</td>\n",
       "      <td>0.071731</td>\n",
       "      <td>0.192911</td>\n",
       "      <td>0.137791</td>\n",
       "      <td>0.118505</td>\n",
       "      <td>0.133546</td>\n",
       "      <td>0.188547</td>\n",
       "      <td>0.204556</td>\n",
       "      <td>...</td>\n",
       "      <td>0.224286</td>\n",
       "      <td>0.239196</td>\n",
       "      <td>0.253202</td>\n",
       "      <td>0.301663</td>\n",
       "      <td>0.245334</td>\n",
       "      <td>0.230792</td>\n",
       "      <td>0.245334</td>\n",
       "      <td>0.253117</td>\n",
       "      <td>0.23684</td>\n",
       "      <td>0.245866</td>\n",
       "    </tr>\n",
       "    <tr>\n",
       "      <th>min</th>\n",
       "      <td>0.000000</td>\n",
       "      <td>0.000000</td>\n",
       "      <td>0.000000</td>\n",
       "      <td>0.000000</td>\n",
       "      <td>0.000000</td>\n",
       "      <td>0.000000</td>\n",
       "      <td>0.000000</td>\n",
       "      <td>0.000000</td>\n",
       "      <td>0.000000</td>\n",
       "      <td>0.000000</td>\n",
       "      <td>...</td>\n",
       "      <td>0.000000</td>\n",
       "      <td>0.000000</td>\n",
       "      <td>0.000000</td>\n",
       "      <td>0.000000</td>\n",
       "      <td>0.000000</td>\n",
       "      <td>0.000000</td>\n",
       "      <td>0.000000</td>\n",
       "      <td>0.000000</td>\n",
       "      <td>0.00000</td>\n",
       "      <td>0.000000</td>\n",
       "    </tr>\n",
       "    <tr>\n",
       "      <th>25%</th>\n",
       "      <td>0.403509</td>\n",
       "      <td>0.441006</td>\n",
       "      <td>0.000000</td>\n",
       "      <td>0.098039</td>\n",
       "      <td>0.580420</td>\n",
       "      <td>0.265957</td>\n",
       "      <td>0.094595</td>\n",
       "      <td>0.200000</td>\n",
       "      <td>0.570000</td>\n",
       "      <td>0.370000</td>\n",
       "      <td>...</td>\n",
       "      <td>0.000000</td>\n",
       "      <td>0.000000</td>\n",
       "      <td>0.000000</td>\n",
       "      <td>0.000000</td>\n",
       "      <td>0.000000</td>\n",
       "      <td>0.000000</td>\n",
       "      <td>0.000000</td>\n",
       "      <td>0.000000</td>\n",
       "      <td>0.00000</td>\n",
       "      <td>0.000000</td>\n",
       "    </tr>\n",
       "    <tr>\n",
       "      <th>50%</th>\n",
       "      <td>0.513784</td>\n",
       "      <td>0.529981</td>\n",
       "      <td>0.000000</td>\n",
       "      <td>0.117647</td>\n",
       "      <td>0.587413</td>\n",
       "      <td>0.351064</td>\n",
       "      <td>0.175676</td>\n",
       "      <td>0.292308</td>\n",
       "      <td>0.700000</td>\n",
       "      <td>0.520000</td>\n",
       "      <td>...</td>\n",
       "      <td>0.000000</td>\n",
       "      <td>0.000000</td>\n",
       "      <td>0.000000</td>\n",
       "      <td>0.000000</td>\n",
       "      <td>0.000000</td>\n",
       "      <td>0.000000</td>\n",
       "      <td>0.000000</td>\n",
       "      <td>0.000000</td>\n",
       "      <td>0.00000</td>\n",
       "      <td>0.000000</td>\n",
       "    </tr>\n",
       "    <tr>\n",
       "      <th>75%</th>\n",
       "      <td>0.634085</td>\n",
       "      <td>0.640232</td>\n",
       "      <td>0.006863</td>\n",
       "      <td>0.132353</td>\n",
       "      <td>0.608392</td>\n",
       "      <td>0.425532</td>\n",
       "      <td>0.256757</td>\n",
       "      <td>0.369231</td>\n",
       "      <td>0.830000</td>\n",
       "      <td>0.650000</td>\n",
       "      <td>...</td>\n",
       "      <td>0.000000</td>\n",
       "      <td>0.000000</td>\n",
       "      <td>0.000000</td>\n",
       "      <td>0.000000</td>\n",
       "      <td>0.000000</td>\n",
       "      <td>0.000000</td>\n",
       "      <td>0.000000</td>\n",
       "      <td>0.000000</td>\n",
       "      <td>0.00000</td>\n",
       "      <td>0.000000</td>\n",
       "    </tr>\n",
       "    <tr>\n",
       "      <th>max</th>\n",
       "      <td>1.000000</td>\n",
       "      <td>1.000000</td>\n",
       "      <td>1.000000</td>\n",
       "      <td>1.000000</td>\n",
       "      <td>1.000000</td>\n",
       "      <td>1.000000</td>\n",
       "      <td>1.000000</td>\n",
       "      <td>1.000000</td>\n",
       "      <td>1.000000</td>\n",
       "      <td>1.000000</td>\n",
       "      <td>...</td>\n",
       "      <td>1.000000</td>\n",
       "      <td>1.000000</td>\n",
       "      <td>1.000000</td>\n",
       "      <td>1.000000</td>\n",
       "      <td>1.000000</td>\n",
       "      <td>1.000000</td>\n",
       "      <td>1.000000</td>\n",
       "      <td>1.000000</td>\n",
       "      <td>1.00000</td>\n",
       "      <td>1.000000</td>\n",
       "    </tr>\n",
       "  </tbody>\n",
       "</table>\n",
       "<p>8 rows × 115 columns</p>\n",
       "</div>"
      ],
      "text/plain": [
       "            MinTemp       MaxTemp      Rainfall   Evaporation      Sunshine  \\\n",
       "count  40000.000000  40000.000000  40000.000000  40000.000000  40000.000000   \n",
       "mean       0.518441      0.542499      0.021644      0.126185      0.559178   \n",
       "std        0.160503      0.137247      0.068888      0.071731      0.192911   \n",
       "min        0.000000      0.000000      0.000000      0.000000      0.000000   \n",
       "25%        0.403509      0.441006      0.000000      0.098039      0.580420   \n",
       "50%        0.513784      0.529981      0.000000      0.117647      0.587413   \n",
       "75%        0.634085      0.640232      0.006863      0.132353      0.608392   \n",
       "max        1.000000      1.000000      1.000000      1.000000      1.000000   \n",
       "\n",
       "       WindGustSpeed  WindSpeed9am  WindSpeed3pm   Humidity9am   Humidity3pm  \\\n",
       "count   40000.000000  40000.000000  40000.000000  40000.000000  40000.000000   \n",
       "mean        0.359130      0.188402      0.285667      0.688035      0.513705   \n",
       "std         0.137791      0.118505      0.133546      0.188547      0.204556   \n",
       "min         0.000000      0.000000      0.000000      0.000000      0.000000   \n",
       "25%         0.265957      0.094595      0.200000      0.570000      0.370000   \n",
       "50%         0.351064      0.175676      0.292308      0.700000      0.520000   \n",
       "75%         0.425532      0.256757      0.369231      0.830000      0.650000   \n",
       "max         1.000000      1.000000      1.000000      1.000000      1.000000   \n",
       "\n",
       "       ...  WindDir3pm_NNW  WindDir3pm_NW  WindDir3pm_S  WindDir3pm_SE  \\\n",
       "count  ...    40000.000000   40000.000000  40000.000000   40000.000000   \n",
       "mean   ...        0.053125       0.060925      0.068850       0.101250   \n",
       "std    ...        0.224286       0.239196      0.253202       0.301663   \n",
       "min    ...        0.000000       0.000000      0.000000       0.000000   \n",
       "25%    ...        0.000000       0.000000      0.000000       0.000000   \n",
       "50%    ...        0.000000       0.000000      0.000000       0.000000   \n",
       "75%    ...        0.000000       0.000000      0.000000       0.000000   \n",
       "max    ...        1.000000       1.000000      1.000000       1.000000   \n",
       "\n",
       "       WindDir3pm_SSE  WindDir3pm_SSW  WindDir3pm_SW  WindDir3pm_W  \\\n",
       "count    40000.000000    40000.000000   40000.000000  40000.000000   \n",
       "mean         0.064325        0.056450       0.064325      0.068800   \n",
       "std          0.245334        0.230792       0.245334      0.253117   \n",
       "min          0.000000        0.000000       0.000000      0.000000   \n",
       "25%          0.000000        0.000000       0.000000      0.000000   \n",
       "50%          0.000000        0.000000       0.000000      0.000000   \n",
       "75%          0.000000        0.000000       0.000000      0.000000   \n",
       "max          1.000000        1.000000       1.000000      1.000000   \n",
       "\n",
       "       WindDir3pm_WNW  WindDir3pm_WSW  \n",
       "count     40000.00000    40000.000000  \n",
       "mean          0.05965        0.064625  \n",
       "std           0.23684        0.245866  \n",
       "min           0.00000        0.000000  \n",
       "25%           0.00000        0.000000  \n",
       "50%           0.00000        0.000000  \n",
       "75%           0.00000        0.000000  \n",
       "max           1.00000        1.000000  \n",
       "\n",
       "[8 rows x 115 columns]"
      ]
     },
     "execution_count": 48,
     "metadata": {},
     "output_type": "execute_result"
    }
   ],
   "source": [
    "data_stand.describe()"
   ]
  },
  {
   "cell_type": "markdown",
   "metadata": {},
   "source": [
    "## Разбиение данных на обучающие и тестовые"
   ]
  },
  {
   "cell_type": "markdown",
   "metadata": {},
   "source": [
    "Проведем классификацию с помощью нескольких алгоритмов машинного обучения и сравним результаты. Для работы с моделями будут использоваться все выбранные признаки."
   ]
  },
  {
   "cell_type": "code",
   "execution_count": 49,
   "metadata": {},
   "outputs": [],
   "source": [
    "from sklearn.neighbors import KNeighborsClassifier\n",
    "from sklearn.ensemble import RandomForestClassifier\n",
    "from sklearn.metrics import accuracy_score\n",
    "from sklearn.model_selection import train_test_split\n",
    "from sklearn.metrics import mean_squared_error\n"
   ]
  },
  {
   "cell_type": "code",
   "execution_count": 50,
   "metadata": {},
   "outputs": [],
   "source": [
    "X = data_stand.drop(['RainTomorrow'], axis=1)\n",
    "y = data_stand['RainTomorrow']"
   ]
  },
  {
   "cell_type": "markdown",
   "metadata": {},
   "source": [
    "Разобьем данные на обучающую и тестовую выборки в пропорции 3:1 (75% - обучающая выборка, 25% - тестовая):"
   ]
  },
  {
   "cell_type": "code",
   "execution_count": 51,
   "metadata": {},
   "outputs": [
    {
     "data": {
      "text/plain": [
       "(30000, 10000)"
      ]
     },
     "execution_count": 51,
     "metadata": {},
     "output_type": "execute_result"
    }
   ],
   "source": [
    "from sklearn.model_selection import train_test_split\n",
    "X_train, X_test, y_train, y_test = train_test_split(\n",
    "    X, y, test_size=0.25, random_state=52)\n",
    "\n",
    "N_train, _ = X_train.shape\n",
    "N_test,  _ = X_test.shape\n",
    "\n",
    "N_train, N_test\n"
   ]
  },
  {
   "cell_type": "markdown",
   "metadata": {},
   "source": [
    "## Запуск классификатора KNN и вычисление ошибки на обучающей и тестовой выборке"
   ]
  },
  {
   "cell_type": "markdown",
   "metadata": {},
   "source": [
    "Запустим классификатор KNN с параметром по умолчанию:"
   ]
  },
  {
   "cell_type": "code",
   "execution_count": 52,
   "metadata": {},
   "outputs": [
    {
     "name": "stdout",
     "output_type": "stream",
     "text": [
      "Train: 85.63%, Test: 80.21%\n",
      "MSE: Train 0.14, Test 0.20\n"
     ]
    }
   ],
   "source": [
    "knn = KNeighborsClassifier()\n",
    "knn.fit(X_train.values, y_train.values)\n",
    "y_train_predict = knn.predict(X_train.values)\n",
    "y_test_predict = knn.predict(X_test.values)\n",
    "print(\"Train: {:.2f}%, Test: {:.2f}%\".format(accuracy_score(\n",
    "    y_train, y_train_predict) * 100, accuracy_score(y_test, y_test_predict) * 100))\n",
    "print(\"MSE: Train {:.2f}, Test {:.2f}\".format((mean_squared_error(y_train,\n",
    "      y_train_predict)), mean_squared_error(y_test, y_test_predict)))\n"
   ]
  },
  {
   "cell_type": "markdown",
   "metadata": {},
   "source": [
    "10 соседей"
   ]
  },
  {
   "cell_type": "code",
   "execution_count": 53,
   "metadata": {},
   "outputs": [
    {
     "name": "stdout",
     "output_type": "stream",
     "text": [
      "Train: 83.00%, Test: 80.45%\n",
      "MSE: Train 0.17, Test 0.20\n"
     ]
    }
   ],
   "source": [
    "knn_10 = KNeighborsClassifier(n_neighbors=10)\n",
    "knn_10.fit(X_train.values, y_train.values)\n",
    "y_train_predict = knn_10.predict(X_train.values)\n",
    "y_test_predict = knn_10.predict(X_test.values)\n",
    "print(\"Train: {:.2f}%, Test: {:.2f}%\".format(accuracy_score(\n",
    "    y_train, y_train_predict) * 100, accuracy_score(y_test, y_test_predict) * 100))\n",
    "print(\"MSE: Train {:.2f}, Test {:.2f}\".format((mean_squared_error(y_train,\n",
    "      y_train_predict)), mean_squared_error(y_test, y_test_predict)))\n"
   ]
  },
  {
   "cell_type": "markdown",
   "metadata": {},
   "source": [
    "7 соседей"
   ]
  },
  {
   "cell_type": "code",
   "execution_count": 54,
   "metadata": {},
   "outputs": [
    {
     "name": "stdout",
     "output_type": "stream",
     "text": [
      "Train: 84.63%, Test: 80.48%\n",
      "MSE: Train 0.15, Test 0.20\n"
     ]
    }
   ],
   "source": [
    "knn_7 = KNeighborsClassifier(n_neighbors=7)\n",
    "knn_7.fit(X_train.values, y_train.values)\n",
    "y_train_predict = knn_7.predict(X_train.values)\n",
    "y_test_predict = knn_7.predict(X_test.values)\n",
    "print(\"Train: {:.2f}%, Test: {:.2f}%\".format(accuracy_score(\n",
    "    y_train, y_train_predict) * 100, accuracy_score(y_test, y_test_predict) * 100))\n",
    "print(\"MSE: Train {:.2f}, Test {:.2f}\".format((mean_squared_error(y_train,\n",
    "      y_train_predict)), mean_squared_error(y_test, y_test_predict)))\n"
   ]
  },
  {
   "cell_type": "markdown",
   "metadata": {},
   "source": [
    "3 соседей"
   ]
  },
  {
   "cell_type": "code",
   "execution_count": 55,
   "metadata": {},
   "outputs": [
    {
     "name": "stdout",
     "output_type": "stream",
     "text": [
      "Train: 88.21%, Test: 79.17%\n",
      "MSE: Train 0.12, Test 0.21\n"
     ]
    }
   ],
   "source": [
    "knn_3 = KNeighborsClassifier(n_neighbors=3)\n",
    "knn_3.fit(X_train.values, y_train.values)\n",
    "y_train_predict = knn_3.predict(X_train.values)\n",
    "y_test_predict = knn_3.predict(X_test.values)\n",
    "print(\"Train: {:.2f}%, Test: {:.2f}%\".format(accuracy_score(\n",
    "    y_train, y_train_predict) * 100, accuracy_score(y_test, y_test_predict) * 100))\n",
    "print(\"MSE: Train {:.2f}, Test {:.2f}\".format((mean_squared_error(y_train,\n",
    "      y_train_predict)), mean_squared_error(y_test, y_test_predict)))\n"
   ]
  },
  {
   "cell_type": "markdown",
   "metadata": {},
   "source": [
    "Как видно из результатов, при значениях **n_neighbors = 5, 7, 10** точность модели на тестовой выборке почти не отличается, а при **n_neighbors = 3** точность ухудшилась, но при этом же значении точность модели на тренировочной выборке лучше, чем на предыдущих"
   ]
  },
  {
   "cell_type": "code",
   "execution_count": 56,
   "metadata": {},
   "outputs": [
    {
     "name": "stdout",
     "output_type": "stream",
     "text": [
      "Train: 82.85%, Test: 80.71%\n",
      "MSE: Train 0.17, Test 0.19\n"
     ]
    }
   ],
   "source": [
    "knn_15 = KNeighborsClassifier(n_neighbors=15)\n",
    "knn_15.fit(X_train.values, y_train.values)\n",
    "y_train_predict = knn_15.predict(X_train.values)\n",
    "y_test_predict = knn_15.predict(X_test.values)\n",
    "print(\"Train: {:.2f}%, Test: {:.2f}%\".format(accuracy_score(\n",
    "    y_train, y_train_predict) * 100, accuracy_score(y_test, y_test_predict) * 100))\n",
    "print(\"MSE: Train {:.2f}, Test {:.2f}\".format((mean_squared_error(y_train,\n",
    "      y_train_predict)), mean_squared_error(y_test, y_test_predict)))\n"
   ]
  },
  {
   "cell_type": "code",
   "execution_count": 57,
   "metadata": {},
   "outputs": [
    {
     "name": "stdout",
     "output_type": "stream",
     "text": [
      "Train: 81.85%, Test: 80.33%\n",
      "MSE: Train 0.18, Test 0.20\n"
     ]
    }
   ],
   "source": [
    "knn_20 = KNeighborsClassifier(n_neighbors=20)\n",
    "knn_20.fit(X_train.values, y_train.values)\n",
    "y_train_predict = knn_20.predict(X_train.values)\n",
    "y_test_predict = knn_20.predict(X_test.values)\n",
    "print(\"Train: {:.2f}%, Test: {:.2f}%\".format(accuracy_score(\n",
    "    y_train, y_train_predict) * 100, accuracy_score(y_test, y_test_predict) * 100))\n",
    "print(\"MSE: Train {:.2f}, Test {:.2f}\".format((mean_squared_error(y_train,\n",
    "      y_train_predict)), mean_squared_error(y_test, y_test_predict)))\n"
   ]
  },
  {
   "cell_type": "markdown",
   "metadata": {},
   "source": [
    "## Запуск других классификаторов. Сравнение результатов"
   ]
  },
  {
   "cell_type": "markdown",
   "metadata": {},
   "source": [
    "### Random forest\n",
    "Запустим классификатор Random forest с параметром по умолчанию:"
   ]
  },
  {
   "cell_type": "code",
   "execution_count": 58,
   "metadata": {},
   "outputs": [
    {
     "name": "stdout",
     "output_type": "stream",
     "text": [
      "Train: 100.00%, Test: 85.21%\n",
      "MSE: Train 0.00, Test 0.15\n"
     ]
    }
   ],
   "source": [
    "rf_model = RandomForestClassifier()\n",
    "rf_model.fit(X_train, y_train)\n",
    "y_train_pred = rf_model.predict(X_train)\n",
    "y_test_pred = rf_model.predict(X_test)\n",
    "print(\"Train: {:.2f}%, Test: {:.2f}%\".format(accuracy_score(\n",
    "    y_train, y_train_pred) * 100, accuracy_score(y_test, y_test_pred) * 100))\n",
    "print(\"MSE: Train {:.2f}, Test {:.2f}\".format((mean_squared_error(y_train,\n",
    "      y_train_pred)), mean_squared_error(y_test, y_test_pred)))\n"
   ]
  },
  {
   "cell_type": "markdown",
   "metadata": {},
   "source": [
    "Запустим классификатор Random forest с **n_estimators=500**:"
   ]
  },
  {
   "cell_type": "code",
   "execution_count": 59,
   "metadata": {},
   "outputs": [
    {
     "name": "stdout",
     "output_type": "stream",
     "text": [
      "Train: 100.00%, Test: 85.36%\n",
      "MSE: Train 0.00, Test 0.15\n"
     ]
    }
   ],
   "source": [
    "rf_model_500 = RandomForestClassifier(n_estimators=500)\n",
    "rf_model_500.fit(X_train, y_train)\n",
    "y_train_pred = rf_model_500.predict(X_train)\n",
    "y_test_pred = rf_model_500.predict(X_test)\n",
    "print(\"Train: {:.2f}%, Test: {:.2f}%\".format(accuracy_score(\n",
    "    y_train, y_train_pred) * 100, accuracy_score(y_test, y_test_pred) * 100))\n",
    "print(\"MSE: Train {:.2f}, Test {:.2f}\".format((mean_squared_error(y_train,\n",
    "      y_train_pred)), mean_squared_error(y_test, y_test_pred)))\n"
   ]
  },
  {
   "cell_type": "markdown",
   "metadata": {},
   "source": [
    "При увеличении параметра **n_estimators**, точность модели незначительно увеличилась"
   ]
  },
  {
   "cell_type": "code",
   "execution_count": 60,
   "metadata": {},
   "outputs": [
    {
     "data": {
      "text/plain": [
       "Humidity3pm              0.133328\n",
       "Rainfall                 0.054066\n",
       "Pressure3pm              0.053551\n",
       "Sunshine                 0.051750\n",
       "Humidity9am              0.051089\n",
       "                           ...   \n",
       "Location_Woomera         0.000832\n",
       "Location_Townsville      0.000773\n",
       "Location_AliceSprings    0.000714\n",
       "Location_Katherine       0.000482\n",
       "Location_Uluru           0.000397\n",
       "Length: 114, dtype: float64"
      ]
     },
     "execution_count": 60,
     "metadata": {},
     "output_type": "execute_result"
    }
   ],
   "source": [
    "pd.Series(rf_model_500.feature_importances_,\n",
    "          index=X.columns).sort_values(ascending=False)\n"
   ]
  },
  {
   "cell_type": "markdown",
   "metadata": {},
   "source": [
    "## Выводы"
   ]
  },
  {
   "cell_type": "markdown",
   "metadata": {},
   "source": [
    "* Алгоритм ***KNN*** проигрывает алгоритму ***Random Forest*** по точности как на тестовой выборке, так и на обучающей\n",
    "* В алгоритме ***KNN*** при увеличении значения числа соседей, точность модели не изменяется\n",
    "* При увеличении числа решающих деревьев в алгоритме ***Random Forest***, точность алгоритма не изменилась"
   ]
  }
 ],
 "metadata": {
  "interpreter": {
   "hash": "6b818723837d65022eca9d9bfde4a0a7c137f86853ffe97dfe2ac99675a7ec8e"
  },
  "kernelspec": {
   "display_name": "Python 3.9.6 64-bit",
   "name": "python3"
  },
  "language_info": {
   "codemirror_mode": {
    "name": "ipython",
    "version": 3
   },
   "file_extension": ".py",
   "mimetype": "text/x-python",
   "name": "python",
   "nbconvert_exporter": "python",
   "pygments_lexer": "ipython3",
   "version": "3.9.6"
  },
  "orig_nbformat": 4
 },
 "nbformat": 4,
 "nbformat_minor": 2
}
